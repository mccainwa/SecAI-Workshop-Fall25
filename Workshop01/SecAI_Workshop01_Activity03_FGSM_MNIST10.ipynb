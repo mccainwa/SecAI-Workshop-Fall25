{
 "cells": [
  {
   "cell_type": "markdown",
   "metadata": {
    "id": "MuUF9QzLjJHA"
   },
   "source": [
    "# Fast Gradient Method Attack and Binary Input Detector Using MNIST10"
   ]
  },
  {
   "cell_type": "markdown",
   "metadata": {
    "id": "Tx-wI2sZeCXE"
   },
   "source": [
    "## **Fast Gradient Sign Method (FGSM) Attack - Overview**\n",
    "\n",
    "The Fast Gradient Sign Method (FGSM) is one of the *simplest and most widely used techniques* for generating adversarial examples. It was introduced by **Ian Goodfellow et al**. in 2014 as a method to quickly generate adversarial examples to evaluate the vulnerability of machine learning models, particularly neural networks.\n",
    "\n",
    "The core idea of FGSM is to perturb the original input data by a small amount in the direction that maximizes the model's loss, using the gradient of the loss function with respect to the input. This causes the model to misclassify the perturbed input while keeping the perturbation small enough to not be easily detected.\n",
    "\n",
    "\n",
    "#### **Key Concepts:**\n",
    "\n",
    "* **Adversarial Example:** A carefully crafted input that is designed to make a model misclassify it.\n",
    "* **Loss Function:** The function that measures how well the model's predictions align with the true labels. In the context of classification, the loss is typically the cross-entropy loss.\n",
    "* **Gradient:** The gradient of the loss with respect to the input indicates how the loss changes as the input is perturbed. By moving the input in the direction of this gradient, we can increase the loss and cause the model to make a wrong prediction.\n",
    "\n",
    "#### **Steps in the FGSM Attack**\n",
    "\n",
    "**1. Initialization:**\n",
    "* Start with an original input $x$ and the true label $y$.\n",
    "* Calculate the loss $J(x,y)$ (often cross-entropy loss) of the model on the original input.\n",
    "\n",
    "**2. Compute the Gradient:**\n",
    "* Compute the gradient of the loss $J(x,y)$ with respect to the input $x$:\n",
    "$$∇_{x}J(x,y)$$\n",
    "\n",
    "This gives us the direction in which the input needs to be perturbed to increase the loss, i.e., in the direction that the model is most sensitive to.\n",
    "\n",
    "**3. Perturbation Calculation:**\n",
    "    * The perturbation is applied by moving the input in the direction of the gradient. However, to simplify, we only use the **sign** of the gradient instead of the full gradient to create a smaller, more targeted perturbation:\n",
    "    $$Perturbation=ϵ⋅sign(∇_{x}J(x,y))$$\n",
    "\n",
    "**Where:**\n",
    "- $ϵ$ is a small scalar that controls the magnitude of the perturbation.\n",
    "- $sign(∇_{x}J(x,y))$ means we only take the sign of each component of the gradient, not the magnitude.\n",
    "\n",
    "**4. Adversarial Example:**\n",
    "* The final adversarial example is created by adding the perturbation to the original input:\n",
    "$$x_{adv}=x+ϵ⋅sign(∇_{x}J(x,y))$$\n",
    "\n",
    "Here, $x_{adv}$​ is the adversarial example, which is a slightly modified version of the original input that should be classified incorrectly by the model.\n",
    "\n",
    "**5. Projection (if necessary):**\n",
    "* In some cases, especially when working with image data, we may want to ensure the perturbed image stays within the valid range (e.g., pixel values between 0 and 255 for images). However, this projection is often implicit in the FGSM approach, as it doesn't strictly require a projection step like iterative attacks (e.g., PGD).\n",
    "\n",
    "#### **Formula Breakdown**\n",
    "\n",
    "The **FGSM attack** formula is:\n",
    "$$x_{adv}=x+ϵ⋅sign(∇_{x}J(x,y))$$\n",
    "\n",
    "- $x$: The original input (for example, an image).\n",
    "- $ϵ$: A small scalar value that determines the magnitude of the perturbation. It controls the strength of the adversarial attack. A larger ϵϵ will create a more significant perturbation, while a smaller ϵϵ will result in a more subtle perturbation.\n",
    "- $∇_{x}J(x,y)$: The gradient of the loss function $J(x,y)$ with respect to the input $x$. This gradient indicates how the model's prediction changes as the input changes.\n",
    "- $sign(∇_{x}J(x,y))$: The element-wise sign of the gradient, which means each component of the gradient is replaced by either +1, -1, or 0, depending on whether the corresponding component of the gradient is positive, negative, or zero. This makes the perturbation a small, focused change in the input.\n",
    "\n",
    "#### **How FGSM Works During the Attack**\n",
    "\n",
    "**1. Start with the original input:**\n",
    "\n",
    "We begin with an input image $x$ and its true label $y$.\n",
    "\n",
    "**2. Compute the loss and gradient:**\n",
    "* Calculate the model’s loss $J(x,y)$, which measures how far the model's prediction is from the true label $y$.\n",
    "* Compute the gradient $∇_{x}J(x,y)$, which gives us the direction in which the model is most sensitive to the input. The gradient essentially tells us how the model's loss changes with small changes to the input.\n",
    "\n",
    "**3. Create the perturbation:**\n",
    "* We take the sign of the gradient $sign(∇_{x}J(x,y))$ to create a binary signal (positive or negative), and multiply it by the perturbation size $ϵ$. This ensures that we only make small, targeted changes to the input.\n",
    "\n",
    "**4. Generate the adversarial example:**\n",
    "* The adversarial example is generated by adding the perturbation to the original input:\n",
    "$$x_{adv}=x+ϵ⋅sign(∇_{x}J(x,y))$$\n",
    "* The resulting adversarial example xadvxadv​ is very similar to the original input but modified in a way that causes the model to make an incorrect prediction.\n",
    "\n",
    "**5. Classify the adversarial example:**\n",
    "* The adversarial example $x_{adv}$ is then passed to the model for classification. Due to the targeted perturbation, the model is likely to misclassify this example, even though the perturbation is small enough to be imperceptible to the human eye (especially in the case of images).\n",
    "\n",
    "#### **Why FGSM is Fast**\n",
    "\n",
    "FGSM is considered a \"fast\" attack because it only requires a single gradient computation and a straightforward update step. The method is efficient and can generate adversarial examples quickly, making it ideal for evaluating the robustness of models. It contrasts with iterative methods (like PGD), which require multiple gradient updates and are computationally more expensive.\n",
    "\n",
    "#### **Strengths and Weaknesses of FGSM**\n",
    "**Strengths:**\n",
    "\n",
    "* **Simplicity**: The method is simple to implement and understand. It requires only a single pass through the model to compute the gradient and generate the perturbation.\n",
    "* **Speed**: Since it only involves a single gradient computation, FGSM can generate adversarial examples much faster than iterative attacks like PGD.\n",
    "* **Effectiveness**: Despite its simplicity, FGSM is often effective at causing misclassification, especially when the model is vulnerable.\n",
    "\n",
    "**Weaknesses:**\n",
    "\n",
    "* **Weak Attack**: Since it only performs one update step and does not iteratively refine the perturbation, FGSM may not be as effective against more robust models. It may not generate adversarial examples that are as strong as those created by iterative methods.\n",
    "* **Sensitivity to $ϵ$**: The strength of the attack depends on the choice of $ϵ$. Too small a value might not cause misclassification, while too large a value might make the perturbation visible to humans, especially for image data."
   ]
  },
  {
   "cell_type": "markdown",
   "metadata": {
    "id": "4iDHfT5lbE6A"
   },
   "source": [
    "## **Implementation**"
   ]
  },
  {
   "cell_type": "markdown",
   "metadata": {
    "id": "STbnGcSWeRRr"
   },
   "source": [
    "This notebook shows the Fast Gradient Method attack implmentation using the ART library against deep learning models trained on MNIST-10 dataset. The notebook covers the following:\n",
    "\n",
    "* Load the required libariries\n",
    "* Load the dataset and inspect the data\n",
    "* Create a deep learning model\n",
    "* Train and evaluate the deep learning model on MNIST test data\n",
    "* Implement FGSM attack using ART\n",
    "* Create adversarial samples using the FGSM attack\n",
    "* Evaluate the deep leaarning model against the adversaarial samples\n",
    "* Create a detector model to detect adversarial samples\n",
    "* Train and evaluate the detector model"
   ]
  },
  {
   "cell_type": "markdown",
   "metadata": {
    "id": "aS5FCdTceCXF"
   },
   "source": [
    "## Install and load required libraries"
   ]
  },
  {
   "cell_type": "code",
   "execution_count": null,
   "metadata": {
    "id": "Sl2IxY3bjRYe"
   },
   "outputs": [],
   "source": [
    "# Install the Adversarial Robustness Toolbox for creating and evaluating adversarial attacks.\n",
    "!pip install adversarial-robustness-toolbox\n",
    "\n",
    "# Install VisualKeras for visualizing model architecture with layer types and connections.\n",
    "!pip install visualkeras"
   ]
  },
  {
   "cell_type": "code",
   "execution_count": 13,
   "metadata": {
    "id": "RTnXOkTUjJHB",
    "outputId": "418931ce-dfc4-485f-ccfc-27be36c6632b"
   },
   "outputs": [],
   "source": [
    "# Suppress warnings to keep the notebook output clean.\n",
    "import warnings\n",
    "warnings.filterwarnings('ignore')\n",
    "\n",
    "# Import TensorFlow and disable eager execution for compatibility with some ART components.\n",
    "import tensorflow as tf\n",
    "# tf.compat.v1.disable_eager_execution()\n",
    "\n",
    "# Import numerical and visualization libraries.\n",
    "import numpy as np\n",
    "from matplotlib import pyplot as plt\n",
    "\n",
    "# Import ART (Adversarial Robustness Toolbox) modules:\n",
    "# - KerasClassifier wraps Keras models for ART compatibility.\n",
    "# - FastGradientMethod is an evasion attack method.\n",
    "# - BinaryInputDetector is used to detect adversarial inputs.\n",
    "from art.estimators.classification import KerasClassifier\n",
    "from art.attacks.evasion import FastGradientMethod\n",
    "from art.defences.detector.evasion import BinaryInputDetector"
   ]
  },
  {
   "cell_type": "markdown",
   "metadata": {
    "id": "FEqjm5CfjJHC"
   },
   "source": [
    "### Load MNIST dataset"
   ]
  },
  {
   "cell_type": "code",
   "execution_count": 2,
   "metadata": {
    "colab": {
     "base_uri": "https://localhost:8080/"
    },
    "executionInfo": {
     "elapsed": 984,
     "status": "ok",
     "timestamp": 1701724147915,
     "user": {
      "displayName": "Mujtaba Nazari",
      "userId": "16194551095817193214"
     },
     "user_tz": 360
    },
    "id": "K04icE_fjJHD",
    "outputId": "768a5f21-1637-4a91-f9f9-b84f210b01d2"
   },
   "outputs": [
    {
     "data": {
      "text/plain": [
       "((60000, 28, 28),\n",
       " (60000,),\n",
       " (10000, 28, 28),\n",
       " (10000,),\n",
       " np.float32(0.0),\n",
       " np.float32(1.0))"
      ]
     },
     "execution_count": 2,
     "metadata": {},
     "output_type": "execute_result"
    }
   ],
   "source": [
    "# Load MNIST dataset from TensorFlow's built-in datasets.\n",
    "(x_train, y_train), (x_test, y_test) = tf.keras.datasets.mnist.load_data()\n",
    "\n",
    "# Normalize pixel values to the range [0, 1].\n",
    "x_train = x_train.astype(\"float32\") / 255.0\n",
    "x_test = x_test.astype(\"float32\") / 255.0\n",
    "\n",
    "# Get minimum and maximum pixel values (should be 0.0 and 1.0 after normalization).\n",
    "min_val = x_train.min()\n",
    "max_val = x_train.max()\n",
    "\n",
    "# Output dataset shapes and value range for verification.\n",
    "x_train.shape, y_train.shape, x_test.shape, y_test.shape, min_val, max_val"
   ]
  },
  {
   "cell_type": "markdown",
   "metadata": {
    "id": "wU07kPidjos1"
   },
   "source": [
    "### Inspect the Data"
   ]
  },
  {
   "cell_type": "code",
   "execution_count": 3,
   "metadata": {
    "colab": {
     "base_uri": "https://localhost:8080/",
     "height": 341
    },
    "executionInfo": {
     "elapsed": 3419,
     "status": "ok",
     "timestamp": 1701724151331,
     "user": {
      "displayName": "Mujtaba Nazari",
      "userId": "16194551095817193214"
     },
     "user_tz": 360
    },
    "id": "DP4cqjV6sCLB",
    "outputId": "5811f8c7-5b1f-416b-c37c-5c63591970a8"
   },
   "outputs": [
    {
     "data": {
      "image/png": "[encoded data removed]",
      "text/plain": [
       "<Figure size 1500x700 with 10 Axes>"
      ]
     },
     "metadata": {},
     "output_type": "display_data"
    }
   ],
   "source": [
    "# Plot 10 sample images from the training set with their corresponding labels.\n",
    "fig, ax = plt.subplots(2, 5, figsize=(15, 7))\n",
    "ax = ax.flatten()\n",
    "\n",
    "# Display one example image for each digit label from 0 to 9.\n",
    "for i in range(10):\n",
    "    # Get the first image corresponding to label i\n",
    "    img_idx = np.argwhere(y_train == i)[0][0]\n",
    "    ax[i].imshow(x_train[img_idx], cmap='gray_r')\n",
    "    ax[i].set_title(f\"Label: {i}\", fontsize=12)\n",
    "    ax[i].axis('off')"
   ]
  },
  {
   "cell_type": "markdown",
   "metadata": {
    "id": "GpAXeIYUdAaY"
   },
   "source": [
    "### Reshape and one-hot encode the data"
   ]
  },
  {
   "cell_type": "code",
   "execution_count": 4,
   "metadata": {
    "id": "d0dDCAUjdP6o"
   },
   "outputs": [],
   "source": [
    "# Number of output classes (digits 0 through 9).\n",
    "nb_classes = 10\n",
    "\n",
    "# One-hot encode the labels for training and testing sets.\n",
    "y_train = tf.keras.utils.to_categorical(y_train, num_classes=nb_classes)\n",
    "y_test = tf.keras.utils.to_categorical(y_test, num_classes=nb_classes)\n",
    "\n",
    "# Expand image dimensions to add a channel axis (from [28, 28] to [28, 28, 1]).\n",
    "x_train = np.expand_dims(x_train, axis=-1)\n",
    "x_test = np.expand_dims(x_test, axis=-1)"
   ]
  },
  {
   "cell_type": "markdown",
   "metadata": {
    "id": "oxBSa6pBjJHD"
   },
   "source": [
    "## **Model Training**"
   ]
  },
  {
   "cell_type": "markdown",
   "metadata": {
    "id": "EC_BlmmFjJHE"
   },
   "source": [
    "#### **Model Description**\n",
    "\n",
    "This convolutional neural network (CNN) is designed for image classification tasks. It consists of several layers that progressively extract features from the input images and classify them into one of 10 categories.\n",
    "\n",
    "1. Input Layer: The model accepts input images of shape (28, 28, 1).\n",
    "2. Convolutional Layers:\n",
    "    * First Conv Layer: 32 filters of size (3x3), activated by ReLU, followed by max pooling (2x2).\n",
    "    * Second Conv Layer: 64 filters of size (3x3), activated by ReLU, followed by max pooling (2x2).\n",
    "    * Third Conv Layer: 128 filters of size (3x3), activated by ReLU, followed by max pooling (2x2).\n",
    "3. Flatten Layer: Converts the 2D feature maps to a 1D feature vector.\n",
    "4. Dense Layer: Fully connected layer with 128 neurons, activated by ReLU, and includes a dropout of 20% to prevent overfitting.\n",
    "5. Output Layer: 10 neurons with softmax activation to classify the input image into one of the 10 categories.\n",
    "\n",
    "The model is compiled with the Adam optimizer and uses categorical cross-entropy loss, with accuracy as the performance metric."
   ]
  },
  {
   "cell_type": "code",
   "execution_count": 6,
   "metadata": {
    "id": "HrYQyjWFjJHE"
   },
   "outputs": [
    {
     "name": "stderr",
     "output_type": "stream",
     "text": [
      "I0000 00:00:1756155835.056884  162599 gpu_device.cc:2022] Created device /job:localhost/replica:0/task:0/device:GPU:0 with 1024 MB memory:  -> device: 0, name: NVIDIA RTX A6000, pci bus id: 0000:d5:00.0, compute capability: 8.6\n",
      "I0000 00:00:1756155835.058165  162599 gpu_device.cc:2022] Created device /job:localhost/replica:0/task:0/device:GPU:1 with 22639 MB memory:  -> device: 1, name: Quadro RTX 6000, pci bus id: 0000:17:00.0, compute capability: 7.5\n",
      "I0000 00:00:1756155835.059241  162599 gpu_device.cc:2022] Created device /job:localhost/replica:0/task:0/device:GPU:2 with 45836 MB memory:  -> device: 2, name: Quadro RTX 8000, pci bus id: 0000:73:00.0, compute capability: 7.5\n"
     ]
    }
   ],
   "source": [
    "# Define a sequential Convolutional Neural Network (CNN) model.\n",
    "model = tf.keras.models.Sequential([\n",
    "    # First convolutional block: Conv → ReLU → MaxPooling\n",
    "    # tf.keras.layers.InputLayer(input_shape=(28, 28, 1)),\n",
    "    tf.keras.layers.Conv2D(32, kernel_size=(3, 3), activation='relu', input_shape=(28, 28, 1)),\n",
    "    tf.keras.layers.MaxPooling2D(pool_size=(2, 2)),\n",
    "\n",
    "    # Second convolutional block\n",
    "    tf.keras.layers.Conv2D(64, kernel_size=(3, 3), activation='relu', strides=1),\n",
    "    tf.keras.layers.MaxPooling2D(pool_size=(2, 2), strides=2),\n",
    "\n",
    "    # Third convolutional block\n",
    "    tf.keras.layers.Conv2D(128, kernel_size=(3, 3), activation='relu', strides=1),\n",
    "    tf.keras.layers.MaxPooling2D(pool_size=(2, 2), strides=2),\n",
    "\n",
    "    # Flatten the output to feed into dense layers\n",
    "    tf.keras.layers.Flatten(),\n",
    "\n",
    "    # Fully connected dense layer\n",
    "    tf.keras.layers.Dense(64, activation='relu'),\n",
    "    tf.keras.layers.Dropout(0.2),  # Dropout for regularization\n",
    "\n",
    "    # Output layer with softmax activation for multi-class classification\n",
    "    tf.keras.layers.Dense(10, activation='softmax')\n",
    "])\n",
    "\n",
    "# Compile the model with Adam optimizer and categorical crossentropy loss\n",
    "model.compile(\n",
    "    optimizer='adam',\n",
    "    loss='categorical_crossentropy',\n",
    "    metrics=['accuracy']\n",
    ")"
   ]
  },
  {
   "cell_type": "markdown",
   "metadata": {
    "id": "bzR3P4xUe3zU"
   },
   "source": [
    "### Model Summary"
   ]
  },
  {
   "cell_type": "code",
   "execution_count": 7,
   "metadata": {
    "colab": {
     "base_uri": "https://localhost:8080/"
    },
    "executionInfo": {
     "elapsed": 408,
     "status": "ok",
     "timestamp": 1701724157249,
     "user": {
      "displayName": "Mujtaba Nazari",
      "userId": "16194551095817193214"
     },
     "user_tz": 360
    },
    "id": "xU6K3hy8cmRM",
    "outputId": "29ad3ba8-55b4-4246-8b1b-f521547775d4"
   },
   "outputs": [
    {
     "data": {
      "text/html": [
       "<pre style=\"white-space:pre;overflow-x:auto;line-height:normal;font-family:Menlo,'DejaVu Sans Mono',consolas,'Courier New',monospace\"><span style=\"font-weight: bold\">Model: \"sequential\"</span>\n",
       "</pre>\n"
      ],
      "text/plain": [
       "\u001b[1mModel: \"sequential\"\u001b[0m\n"
      ]
     },
     "metadata": {},
     "output_type": "display_data"
    },
    {
     "data": {
      "text/html": [
       "<pre style=\"white-space:pre;overflow-x:auto;line-height:normal;font-family:Menlo,'DejaVu Sans Mono',consolas,'Courier New',monospace\">┏━━━━━━━━━━━━━━━━━━━━━━━━━━━━━━━━━┳━━━━━━━━━━━━━━━━━━━━━━━━┳━━━━━━━━━━━━━━━┓\n",
       "┃<span style=\"font-weight: bold\"> Layer (type)                    </span>┃<span style=\"font-weight: bold\"> Output Shape           </span>┃<span style=\"font-weight: bold\">       Param # </span>┃\n",
       "┡━━━━━━━━━━━━━━━━━━━━━━━━━━━━━━━━━╇━━━━━━━━━━━━━━━━━━━━━━━━╇━━━━━━━━━━━━━━━┩\n",
       "│ conv2d (<span style=\"color: #0087ff; text-decoration-color: #0087ff\">Conv2D</span>)                 │ (<span style=\"color: #00d7ff; text-decoration-color: #00d7ff\">None</span>, <span style=\"color: #00af00; text-decoration-color: #00af00\">26</span>, <span style=\"color: #00af00; text-decoration-color: #00af00\">26</span>, <span style=\"color: #00af00; text-decoration-color: #00af00\">32</span>)     │           <span style=\"color: #00af00; text-decoration-color: #00af00\">320</span> │\n",
       "├─────────────────────────────────┼────────────────────────┼───────────────┤\n",
       "│ max_pooling2d (<span style=\"color: #0087ff; text-decoration-color: #0087ff\">MaxPooling2D</span>)    │ (<span style=\"color: #00d7ff; text-decoration-color: #00d7ff\">None</span>, <span style=\"color: #00af00; text-decoration-color: #00af00\">13</span>, <span style=\"color: #00af00; text-decoration-color: #00af00\">13</span>, <span style=\"color: #00af00; text-decoration-color: #00af00\">32</span>)     │             <span style=\"color: #00af00; text-decoration-color: #00af00\">0</span> │\n",
       "├─────────────────────────────────┼────────────────────────┼───────────────┤\n",
       "│ conv2d_1 (<span style=\"color: #0087ff; text-decoration-color: #0087ff\">Conv2D</span>)               │ (<span style=\"color: #00d7ff; text-decoration-color: #00d7ff\">None</span>, <span style=\"color: #00af00; text-decoration-color: #00af00\">11</span>, <span style=\"color: #00af00; text-decoration-color: #00af00\">11</span>, <span style=\"color: #00af00; text-decoration-color: #00af00\">64</span>)     │        <span style=\"color: #00af00; text-decoration-color: #00af00\">18,496</span> │\n",
       "├─────────────────────────────────┼────────────────────────┼───────────────┤\n",
       "│ max_pooling2d_1 (<span style=\"color: #0087ff; text-decoration-color: #0087ff\">MaxPooling2D</span>)  │ (<span style=\"color: #00d7ff; text-decoration-color: #00d7ff\">None</span>, <span style=\"color: #00af00; text-decoration-color: #00af00\">5</span>, <span style=\"color: #00af00; text-decoration-color: #00af00\">5</span>, <span style=\"color: #00af00; text-decoration-color: #00af00\">64</span>)       │             <span style=\"color: #00af00; text-decoration-color: #00af00\">0</span> │\n",
       "├─────────────────────────────────┼────────────────────────┼───────────────┤\n",
       "│ conv2d_2 (<span style=\"color: #0087ff; text-decoration-color: #0087ff\">Conv2D</span>)               │ (<span style=\"color: #00d7ff; text-decoration-color: #00d7ff\">None</span>, <span style=\"color: #00af00; text-decoration-color: #00af00\">3</span>, <span style=\"color: #00af00; text-decoration-color: #00af00\">3</span>, <span style=\"color: #00af00; text-decoration-color: #00af00\">128</span>)      │        <span style=\"color: #00af00; text-decoration-color: #00af00\">73,856</span> │\n",
       "├─────────────────────────────────┼────────────────────────┼───────────────┤\n",
       "│ max_pooling2d_2 (<span style=\"color: #0087ff; text-decoration-color: #0087ff\">MaxPooling2D</span>)  │ (<span style=\"color: #00d7ff; text-decoration-color: #00d7ff\">None</span>, <span style=\"color: #00af00; text-decoration-color: #00af00\">1</span>, <span style=\"color: #00af00; text-decoration-color: #00af00\">1</span>, <span style=\"color: #00af00; text-decoration-color: #00af00\">128</span>)      │             <span style=\"color: #00af00; text-decoration-color: #00af00\">0</span> │\n",
       "├─────────────────────────────────┼────────────────────────┼───────────────┤\n",
       "│ flatten (<span style=\"color: #0087ff; text-decoration-color: #0087ff\">Flatten</span>)               │ (<span style=\"color: #00d7ff; text-decoration-color: #00d7ff\">None</span>, <span style=\"color: #00af00; text-decoration-color: #00af00\">128</span>)            │             <span style=\"color: #00af00; text-decoration-color: #00af00\">0</span> │\n",
       "├─────────────────────────────────┼────────────────────────┼───────────────┤\n",
       "│ dense (<span style=\"color: #0087ff; text-decoration-color: #0087ff\">Dense</span>)                   │ (<span style=\"color: #00d7ff; text-decoration-color: #00d7ff\">None</span>, <span style=\"color: #00af00; text-decoration-color: #00af00\">64</span>)             │         <span style=\"color: #00af00; text-decoration-color: #00af00\">8,256</span> │\n",
       "├─────────────────────────────────┼────────────────────────┼───────────────┤\n",
       "│ dropout (<span style=\"color: #0087ff; text-decoration-color: #0087ff\">Dropout</span>)               │ (<span style=\"color: #00d7ff; text-decoration-color: #00d7ff\">None</span>, <span style=\"color: #00af00; text-decoration-color: #00af00\">64</span>)             │             <span style=\"color: #00af00; text-decoration-color: #00af00\">0</span> │\n",
       "├─────────────────────────────────┼────────────────────────┼───────────────┤\n",
       "│ dense_1 (<span style=\"color: #0087ff; text-decoration-color: #0087ff\">Dense</span>)                 │ (<span style=\"color: #00d7ff; text-decoration-color: #00d7ff\">None</span>, <span style=\"color: #00af00; text-decoration-color: #00af00\">10</span>)             │           <span style=\"color: #00af00; text-decoration-color: #00af00\">650</span> │\n",
       "└─────────────────────────────────┴────────────────────────┴───────────────┘\n",
       "</pre>\n"
      ],
      "text/plain": [
       "┏━━━━━━━━━━━━━━━━━━━━━━━━━━━━━━━━━┳━━━━━━━━━━━━━━━━━━━━━━━━┳━━━━━━━━━━━━━━━┓\n",
       "┃\u001b[1m \u001b[0m\u001b[1mLayer (type)                   \u001b[0m\u001b[1m \u001b[0m┃\u001b[1m \u001b[0m\u001b[1mOutput Shape          \u001b[0m\u001b[1m \u001b[0m┃\u001b[1m \u001b[0m\u001b[1m      Param #\u001b[0m\u001b[1m \u001b[0m┃\n",
       "┡━━━━━━━━━━━━━━━━━━━━━━━━━━━━━━━━━╇━━━━━━━━━━━━━━━━━━━━━━━━╇━━━━━━━━━━━━━━━┩\n",
       "│ conv2d (\u001b[38;5;33mConv2D\u001b[0m)                 │ (\u001b[38;5;45mNone\u001b[0m, \u001b[38;5;34m26\u001b[0m, \u001b[38;5;34m26\u001b[0m, \u001b[38;5;34m32\u001b[0m)     │           \u001b[38;5;34m320\u001b[0m │\n",
       "├─────────────────────────────────┼────────────────────────┼───────────────┤\n",
       "│ max_pooling2d (\u001b[38;5;33mMaxPooling2D\u001b[0m)    │ (\u001b[38;5;45mNone\u001b[0m, \u001b[38;5;34m13\u001b[0m, \u001b[38;5;34m13\u001b[0m, \u001b[38;5;34m32\u001b[0m)     │             \u001b[38;5;34m0\u001b[0m │\n",
       "├─────────────────────────────────┼────────────────────────┼───────────────┤\n",
       "│ conv2d_1 (\u001b[38;5;33mConv2D\u001b[0m)               │ (\u001b[38;5;45mNone\u001b[0m, \u001b[38;5;34m11\u001b[0m, \u001b[38;5;34m11\u001b[0m, \u001b[38;5;34m64\u001b[0m)     │        \u001b[38;5;34m18,496\u001b[0m │\n",
       "├─────────────────────────────────┼────────────────────────┼───────────────┤\n",
       "│ max_pooling2d_1 (\u001b[38;5;33mMaxPooling2D\u001b[0m)  │ (\u001b[38;5;45mNone\u001b[0m, \u001b[38;5;34m5\u001b[0m, \u001b[38;5;34m5\u001b[0m, \u001b[38;5;34m64\u001b[0m)       │             \u001b[38;5;34m0\u001b[0m │\n",
       "├─────────────────────────────────┼────────────────────────┼───────────────┤\n",
       "│ conv2d_2 (\u001b[38;5;33mConv2D\u001b[0m)               │ (\u001b[38;5;45mNone\u001b[0m, \u001b[38;5;34m3\u001b[0m, \u001b[38;5;34m3\u001b[0m, \u001b[38;5;34m128\u001b[0m)      │        \u001b[38;5;34m73,856\u001b[0m │\n",
       "├─────────────────────────────────┼────────────────────────┼───────────────┤\n",
       "│ max_pooling2d_2 (\u001b[38;5;33mMaxPooling2D\u001b[0m)  │ (\u001b[38;5;45mNone\u001b[0m, \u001b[38;5;34m1\u001b[0m, \u001b[38;5;34m1\u001b[0m, \u001b[38;5;34m128\u001b[0m)      │             \u001b[38;5;34m0\u001b[0m │\n",
       "├─────────────────────────────────┼────────────────────────┼───────────────┤\n",
       "│ flatten (\u001b[38;5;33mFlatten\u001b[0m)               │ (\u001b[38;5;45mNone\u001b[0m, \u001b[38;5;34m128\u001b[0m)            │             \u001b[38;5;34m0\u001b[0m │\n",
       "├─────────────────────────────────┼────────────────────────┼───────────────┤\n",
       "│ dense (\u001b[38;5;33mDense\u001b[0m)                   │ (\u001b[38;5;45mNone\u001b[0m, \u001b[38;5;34m64\u001b[0m)             │         \u001b[38;5;34m8,256\u001b[0m │\n",
       "├─────────────────────────────────┼────────────────────────┼───────────────┤\n",
       "│ dropout (\u001b[38;5;33mDropout\u001b[0m)               │ (\u001b[38;5;45mNone\u001b[0m, \u001b[38;5;34m64\u001b[0m)             │             \u001b[38;5;34m0\u001b[0m │\n",
       "├─────────────────────────────────┼────────────────────────┼───────────────┤\n",
       "│ dense_1 (\u001b[38;5;33mDense\u001b[0m)                 │ (\u001b[38;5;45mNone\u001b[0m, \u001b[38;5;34m10\u001b[0m)             │           \u001b[38;5;34m650\u001b[0m │\n",
       "└─────────────────────────────────┴────────────────────────┴───────────────┘\n"
      ]
     },
     "metadata": {},
     "output_type": "display_data"
    },
    {
     "data": {
      "text/html": [
       "<pre style=\"white-space:pre;overflow-x:auto;line-height:normal;font-family:Menlo,'DejaVu Sans Mono',consolas,'Courier New',monospace\"><span style=\"font-weight: bold\"> Total params: </span><span style=\"color: #00af00; text-decoration-color: #00af00\">101,578</span> (396.79 KB)\n",
       "</pre>\n"
      ],
      "text/plain": [
       "\u001b[1m Total params: \u001b[0m\u001b[38;5;34m101,578\u001b[0m (396.79 KB)\n"
      ]
     },
     "metadata": {},
     "output_type": "display_data"
    },
    {
     "data": {
      "text/html": [
       "<pre style=\"white-space:pre;overflow-x:auto;line-height:normal;font-family:Menlo,'DejaVu Sans Mono',consolas,'Courier New',monospace\"><span style=\"font-weight: bold\"> Trainable params: </span><span style=\"color: #00af00; text-decoration-color: #00af00\">101,578</span> (396.79 KB)\n",
       "</pre>\n"
      ],
      "text/plain": [
       "\u001b[1m Trainable params: \u001b[0m\u001b[38;5;34m101,578\u001b[0m (396.79 KB)\n"
      ]
     },
     "metadata": {},
     "output_type": "display_data"
    },
    {
     "data": {
      "text/html": [
       "<pre style=\"white-space:pre;overflow-x:auto;line-height:normal;font-family:Menlo,'DejaVu Sans Mono',consolas,'Courier New',monospace\"><span style=\"font-weight: bold\"> Non-trainable params: </span><span style=\"color: #00af00; text-decoration-color: #00af00\">0</span> (0.00 B)\n",
       "</pre>\n"
      ],
      "text/plain": [
       "\u001b[1m Non-trainable params: \u001b[0m\u001b[38;5;34m0\u001b[0m (0.00 B)\n"
      ]
     },
     "metadata": {},
     "output_type": "display_data"
    }
   ],
   "source": [
    "# Print a detailed summary of the model architecture,\n",
    "# including layer types, output shapes, and number of parameters.\n",
    "model.summary()"
   ]
  },
  {
   "cell_type": "markdown",
   "metadata": {
    "id": "Gge3k9e1ejZl"
   },
   "source": [
    "### Visualize the CNN Architecture"
   ]
  },
  {
   "cell_type": "code",
   "execution_count": 8,
   "metadata": {
    "id": "K8UcBrwKeCXL",
    "outputId": "c7fc2bf0-7fe5-4b76-d12d-c1b7dc8ee9ca"
   },
   "outputs": [
    {
     "data": {
      "image/png": "[encoded data removed]",
      "text/plain": [
       "<PIL.Image.Image image mode=RGBA size=357x413>"
      ]
     },
     "execution_count": 8,
     "metadata": {},
     "output_type": "execute_result"
    }
   ],
   "source": [
    "import visualkeras\n",
    "# Display a layered visual representation of the model architecture.\n",
    "# 'scale_xy' controls the scaling of the diagram.\n",
    "# 'legend=True' shows layer types with corresponding color codes.\n",
    "visualkeras.layered_view(model, scale_xy=10, legend=True)"
   ]
  },
  {
   "cell_type": "markdown",
   "metadata": {
    "id": "NESrPk4FfJXt"
   },
   "source": [
    "### Visualize Model Architecture Diagram"
   ]
  },
  {
   "cell_type": "code",
   "execution_count": 9,
   "metadata": {
    "id": "Ezh8-GF6cnxz"
   },
   "outputs": [],
   "source": [
    "# Generate and display a plot of the model architecture,\n",
    "# showing each layer’s name and output shape.\n",
    "# tf.keras.utils.plot_model(model, show_shapes=True, dpi = 75)"
   ]
  },
  {
   "cell_type": "markdown",
   "metadata": {
    "id": "vXNtqN6kjJHF"
   },
   "source": [
    "### Fit the model on training data."
   ]
  },
  {
   "cell_type": "code",
   "execution_count": null,
   "metadata": {
    "colab": {
     "base_uri": "https://localhost:8080/"
    },
    "executionInfo": {
     "elapsed": 186632,
     "status": "ok",
     "timestamp": 1701725100779,
     "user": {
      "displayName": "Mujtaba Nazari",
      "userId": "16194551095817193214"
     },
     "user_tz": 360
    },
    "id": "GzyaDHxqjJHF",
    "outputId": "742e6690-2042-4d6c-edbc-265d112f1828"
   },
   "outputs": [
    {
     "name": "stdout",
     "output_type": "stream",
     "text": [
      "Train on 60000 samples\n"
     ]
    },
    {
     "name": "stderr",
     "output_type": "stream",
     "text": [
      "2025-01-21 15:31:30.211264: I tensorflow/core/common_runtime/gpu/gpu_device.cc:1613] Created device /job:localhost/replica:0/task:0/device:GPU:0 with 42002 MB memory:  -> device: 0, name: NVIDIA RTX A6000, pci bus id: 0000:d5:00.0, compute capability: 8.6\n",
      "2025-01-21 15:31:30.316932: I tensorflow/compiler/mlir/mlir_graph_optimization_pass.cc:357] MLIR V1 optimization pass is not enabled\n"
     ]
    },
    {
     "name": "stdout",
     "output_type": "stream",
     "text": [
      "Epoch 1/3\n"
     ]
    },
    {
     "name": "stderr",
     "output_type": "stream",
     "text": [
      "2025-01-21 15:31:31.237784: W tensorflow/c/c_api.cc:291] Operation '{name:'training/Adam/dense_1/kernel/m/Assign' id:375 op device:{requested: '', assigned: ''} def:{{{node training/Adam/dense_1/kernel/m/Assign}} = AssignVariableOp[_has_manual_control_dependencies=true, dtype=DT_FLOAT, validate_shape=false](training/Adam/dense_1/kernel/m, training/Adam/dense_1/kernel/m/Initializer/zeros)}}' was changed by setting attribute after it was run by a session. This mutation will have no effect, and will trigger an error in the future. Either don't modify nodes after running them or create a new session.\n",
      "2025-01-21 15:31:31.540504: I tensorflow/compiler/xla/stream_executor/cuda/cuda_dnn.cc:428] Loaded cuDNN version 8907\n",
      "2025-01-21 15:31:31.838883: I tensorflow/compiler/xla/stream_executor/cuda/cuda_blas.cc:630] TensorFloat-32 will be used for the matrix multiplication. This will only be logged once.\n"
     ]
    },
    {
     "name": "stdout",
     "output_type": "stream",
     "text": [
      "60000/60000 [==============================] - 25s 411us/sample - loss: 0.2193 - accuracy: 0.9326\n",
      "Epoch 2/3\n",
      "60000/60000 [==============================] - 22s 372us/sample - loss: 0.0744 - accuracy: 0.9771\n",
      "Epoch 3/3\n",
      "60000/60000 [==============================] - 25s 417us/sample - loss: 0.0545 - accuracy: 0.9844\n"
     ]
    }
   ],
   "source": [
    "# Train the model on the training data for 3 epochs.\n",
    "# The history object stores training metrics and loss values.\n",
    "# history = model.fit(x_train, y_train, epochs=10, batch_size=128)"
   ]
  },
  {
   "cell_type": "markdown",
   "metadata": {
    "id": "2m6UtydZhyrb"
   },
   "source": [
    "## Load or Save the Trained Model"
   ]
  },
  {
   "cell_type": "code",
   "execution_count": 10,
   "metadata": {
    "id": "J7iOiNTseCXL",
    "outputId": "b3738847-f53c-45a6-b201-61bd2b4a40f1"
   },
   "outputs": [
    {
     "name": "stdout",
     "output_type": "stream",
     "text": [
      "--2025-08-25 16:04:14--  https://raw.githubusercontent.com/mnazari123/SecAI_Workshop_Data/main/Models/mnist10_model.keras\n",
      "Resolving raw.githubusercontent.com (raw.githubusercontent.com)... 185.199.109.133, 185.199.110.133, 185.199.111.133, ...\n",
      "Connecting to raw.githubusercontent.com (raw.githubusercontent.com)|185.199.109.133|:443... connected.\n",
      "HTTP request sent, awaiting response... 200 OK\n",
      "Length: 1266398 (1.2M) [application/octet-stream]\n",
      "Saving to: ‘mnist10_model.keras.2’\n",
      "\n",
      "mnist10_model.keras 100%[===================>]   1.21M  --.-KB/s    in 0.1s    \n",
      "\n",
      "2025-08-25 16:04:15 (11.2 MB/s) - ‘mnist10_model.keras.2’ saved [1266398/1266398]\n",
      "\n"
     ]
    },
    {
     "data": {
      "text/html": [
       "<pre style=\"white-space:pre;overflow-x:auto;line-height:normal;font-family:Menlo,'DejaVu Sans Mono',consolas,'Courier New',monospace\"><span style=\"font-weight: bold\">Model: \"sequential\"</span>\n",
       "</pre>\n"
      ],
      "text/plain": [
       "\u001b[1mModel: \"sequential\"\u001b[0m\n"
      ]
     },
     "metadata": {},
     "output_type": "display_data"
    },
    {
     "data": {
      "text/html": [
       "<pre style=\"white-space:pre;overflow-x:auto;line-height:normal;font-family:Menlo,'DejaVu Sans Mono',consolas,'Courier New',monospace\">┏━━━━━━━━━━━━━━━━━━━━━━━━━━━━━━━━━┳━━━━━━━━━━━━━━━━━━━━━━━━┳━━━━━━━━━━━━━━━┓\n",
       "┃<span style=\"font-weight: bold\"> Layer (type)                    </span>┃<span style=\"font-weight: bold\"> Output Shape           </span>┃<span style=\"font-weight: bold\">       Param # </span>┃\n",
       "┡━━━━━━━━━━━━━━━━━━━━━━━━━━━━━━━━━╇━━━━━━━━━━━━━━━━━━━━━━━━╇━━━━━━━━━━━━━━━┩\n",
       "│ conv2d (<span style=\"color: #0087ff; text-decoration-color: #0087ff\">Conv2D</span>)                 │ (<span style=\"color: #00d7ff; text-decoration-color: #00d7ff\">None</span>, <span style=\"color: #00af00; text-decoration-color: #00af00\">26</span>, <span style=\"color: #00af00; text-decoration-color: #00af00\">26</span>, <span style=\"color: #00af00; text-decoration-color: #00af00\">32</span>)     │           <span style=\"color: #00af00; text-decoration-color: #00af00\">320</span> │\n",
       "├─────────────────────────────────┼────────────────────────┼───────────────┤\n",
       "│ max_pooling2d (<span style=\"color: #0087ff; text-decoration-color: #0087ff\">MaxPooling2D</span>)    │ (<span style=\"color: #00d7ff; text-decoration-color: #00d7ff\">None</span>, <span style=\"color: #00af00; text-decoration-color: #00af00\">13</span>, <span style=\"color: #00af00; text-decoration-color: #00af00\">13</span>, <span style=\"color: #00af00; text-decoration-color: #00af00\">32</span>)     │             <span style=\"color: #00af00; text-decoration-color: #00af00\">0</span> │\n",
       "├─────────────────────────────────┼────────────────────────┼───────────────┤\n",
       "│ conv2d_1 (<span style=\"color: #0087ff; text-decoration-color: #0087ff\">Conv2D</span>)               │ (<span style=\"color: #00d7ff; text-decoration-color: #00d7ff\">None</span>, <span style=\"color: #00af00; text-decoration-color: #00af00\">11</span>, <span style=\"color: #00af00; text-decoration-color: #00af00\">11</span>, <span style=\"color: #00af00; text-decoration-color: #00af00\">64</span>)     │        <span style=\"color: #00af00; text-decoration-color: #00af00\">18,496</span> │\n",
       "├─────────────────────────────────┼────────────────────────┼───────────────┤\n",
       "│ max_pooling2d_1 (<span style=\"color: #0087ff; text-decoration-color: #0087ff\">MaxPooling2D</span>)  │ (<span style=\"color: #00d7ff; text-decoration-color: #00d7ff\">None</span>, <span style=\"color: #00af00; text-decoration-color: #00af00\">5</span>, <span style=\"color: #00af00; text-decoration-color: #00af00\">5</span>, <span style=\"color: #00af00; text-decoration-color: #00af00\">64</span>)       │             <span style=\"color: #00af00; text-decoration-color: #00af00\">0</span> │\n",
       "├─────────────────────────────────┼────────────────────────┼───────────────┤\n",
       "│ conv2d_2 (<span style=\"color: #0087ff; text-decoration-color: #0087ff\">Conv2D</span>)               │ (<span style=\"color: #00d7ff; text-decoration-color: #00d7ff\">None</span>, <span style=\"color: #00af00; text-decoration-color: #00af00\">3</span>, <span style=\"color: #00af00; text-decoration-color: #00af00\">3</span>, <span style=\"color: #00af00; text-decoration-color: #00af00\">128</span>)      │        <span style=\"color: #00af00; text-decoration-color: #00af00\">73,856</span> │\n",
       "├─────────────────────────────────┼────────────────────────┼───────────────┤\n",
       "│ max_pooling2d_2 (<span style=\"color: #0087ff; text-decoration-color: #0087ff\">MaxPooling2D</span>)  │ (<span style=\"color: #00d7ff; text-decoration-color: #00d7ff\">None</span>, <span style=\"color: #00af00; text-decoration-color: #00af00\">1</span>, <span style=\"color: #00af00; text-decoration-color: #00af00\">1</span>, <span style=\"color: #00af00; text-decoration-color: #00af00\">128</span>)      │             <span style=\"color: #00af00; text-decoration-color: #00af00\">0</span> │\n",
       "├─────────────────────────────────┼────────────────────────┼───────────────┤\n",
       "│ flatten (<span style=\"color: #0087ff; text-decoration-color: #0087ff\">Flatten</span>)               │ (<span style=\"color: #00d7ff; text-decoration-color: #00d7ff\">None</span>, <span style=\"color: #00af00; text-decoration-color: #00af00\">128</span>)            │             <span style=\"color: #00af00; text-decoration-color: #00af00\">0</span> │\n",
       "├─────────────────────────────────┼────────────────────────┼───────────────┤\n",
       "│ dense (<span style=\"color: #0087ff; text-decoration-color: #0087ff\">Dense</span>)                   │ (<span style=\"color: #00d7ff; text-decoration-color: #00d7ff\">None</span>, <span style=\"color: #00af00; text-decoration-color: #00af00\">64</span>)             │         <span style=\"color: #00af00; text-decoration-color: #00af00\">8,256</span> │\n",
       "├─────────────────────────────────┼────────────────────────┼───────────────┤\n",
       "│ dropout (<span style=\"color: #0087ff; text-decoration-color: #0087ff\">Dropout</span>)               │ (<span style=\"color: #00d7ff; text-decoration-color: #00d7ff\">None</span>, <span style=\"color: #00af00; text-decoration-color: #00af00\">64</span>)             │             <span style=\"color: #00af00; text-decoration-color: #00af00\">0</span> │\n",
       "├─────────────────────────────────┼────────────────────────┼───────────────┤\n",
       "│ dense_1 (<span style=\"color: #0087ff; text-decoration-color: #0087ff\">Dense</span>)                 │ (<span style=\"color: #00d7ff; text-decoration-color: #00d7ff\">None</span>, <span style=\"color: #00af00; text-decoration-color: #00af00\">10</span>)             │           <span style=\"color: #00af00; text-decoration-color: #00af00\">650</span> │\n",
       "└─────────────────────────────────┴────────────────────────┴───────────────┘\n",
       "</pre>\n"
      ],
      "text/plain": [
       "┏━━━━━━━━━━━━━━━━━━━━━━━━━━━━━━━━━┳━━━━━━━━━━━━━━━━━━━━━━━━┳━━━━━━━━━━━━━━━┓\n",
       "┃\u001b[1m \u001b[0m\u001b[1mLayer (type)                   \u001b[0m\u001b[1m \u001b[0m┃\u001b[1m \u001b[0m\u001b[1mOutput Shape          \u001b[0m\u001b[1m \u001b[0m┃\u001b[1m \u001b[0m\u001b[1m      Param #\u001b[0m\u001b[1m \u001b[0m┃\n",
       "┡━━━━━━━━━━━━━━━━━━━━━━━━━━━━━━━━━╇━━━━━━━━━━━━━━━━━━━━━━━━╇━━━━━━━━━━━━━━━┩\n",
       "│ conv2d (\u001b[38;5;33mConv2D\u001b[0m)                 │ (\u001b[38;5;45mNone\u001b[0m, \u001b[38;5;34m26\u001b[0m, \u001b[38;5;34m26\u001b[0m, \u001b[38;5;34m32\u001b[0m)     │           \u001b[38;5;34m320\u001b[0m │\n",
       "├─────────────────────────────────┼────────────────────────┼───────────────┤\n",
       "│ max_pooling2d (\u001b[38;5;33mMaxPooling2D\u001b[0m)    │ (\u001b[38;5;45mNone\u001b[0m, \u001b[38;5;34m13\u001b[0m, \u001b[38;5;34m13\u001b[0m, \u001b[38;5;34m32\u001b[0m)     │             \u001b[38;5;34m0\u001b[0m │\n",
       "├─────────────────────────────────┼────────────────────────┼───────────────┤\n",
       "│ conv2d_1 (\u001b[38;5;33mConv2D\u001b[0m)               │ (\u001b[38;5;45mNone\u001b[0m, \u001b[38;5;34m11\u001b[0m, \u001b[38;5;34m11\u001b[0m, \u001b[38;5;34m64\u001b[0m)     │        \u001b[38;5;34m18,496\u001b[0m │\n",
       "├─────────────────────────────────┼────────────────────────┼───────────────┤\n",
       "│ max_pooling2d_1 (\u001b[38;5;33mMaxPooling2D\u001b[0m)  │ (\u001b[38;5;45mNone\u001b[0m, \u001b[38;5;34m5\u001b[0m, \u001b[38;5;34m5\u001b[0m, \u001b[38;5;34m64\u001b[0m)       │             \u001b[38;5;34m0\u001b[0m │\n",
       "├─────────────────────────────────┼────────────────────────┼───────────────┤\n",
       "│ conv2d_2 (\u001b[38;5;33mConv2D\u001b[0m)               │ (\u001b[38;5;45mNone\u001b[0m, \u001b[38;5;34m3\u001b[0m, \u001b[38;5;34m3\u001b[0m, \u001b[38;5;34m128\u001b[0m)      │        \u001b[38;5;34m73,856\u001b[0m │\n",
       "├─────────────────────────────────┼────────────────────────┼───────────────┤\n",
       "│ max_pooling2d_2 (\u001b[38;5;33mMaxPooling2D\u001b[0m)  │ (\u001b[38;5;45mNone\u001b[0m, \u001b[38;5;34m1\u001b[0m, \u001b[38;5;34m1\u001b[0m, \u001b[38;5;34m128\u001b[0m)      │             \u001b[38;5;34m0\u001b[0m │\n",
       "├─────────────────────────────────┼────────────────────────┼───────────────┤\n",
       "│ flatten (\u001b[38;5;33mFlatten\u001b[0m)               │ (\u001b[38;5;45mNone\u001b[0m, \u001b[38;5;34m128\u001b[0m)            │             \u001b[38;5;34m0\u001b[0m │\n",
       "├─────────────────────────────────┼────────────────────────┼───────────────┤\n",
       "│ dense (\u001b[38;5;33mDense\u001b[0m)                   │ (\u001b[38;5;45mNone\u001b[0m, \u001b[38;5;34m64\u001b[0m)             │         \u001b[38;5;34m8,256\u001b[0m │\n",
       "├─────────────────────────────────┼────────────────────────┼───────────────┤\n",
       "│ dropout (\u001b[38;5;33mDropout\u001b[0m)               │ (\u001b[38;5;45mNone\u001b[0m, \u001b[38;5;34m64\u001b[0m)             │             \u001b[38;5;34m0\u001b[0m │\n",
       "├─────────────────────────────────┼────────────────────────┼───────────────┤\n",
       "│ dense_1 (\u001b[38;5;33mDense\u001b[0m)                 │ (\u001b[38;5;45mNone\u001b[0m, \u001b[38;5;34m10\u001b[0m)             │           \u001b[38;5;34m650\u001b[0m │\n",
       "└─────────────────────────────────┴────────────────────────┴───────────────┘\n"
      ]
     },
     "metadata": {},
     "output_type": "display_data"
    },
    {
     "data": {
      "text/html": [
       "<pre style=\"white-space:pre;overflow-x:auto;line-height:normal;font-family:Menlo,'DejaVu Sans Mono',consolas,'Courier New',monospace\"><span style=\"font-weight: bold\"> Total params: </span><span style=\"color: #00af00; text-decoration-color: #00af00\">304,736</span> (1.16 MB)\n",
       "</pre>\n"
      ],
      "text/plain": [
       "\u001b[1m Total params: \u001b[0m\u001b[38;5;34m304,736\u001b[0m (1.16 MB)\n"
      ]
     },
     "metadata": {},
     "output_type": "display_data"
    },
    {
     "data": {
      "text/html": [
       "<pre style=\"white-space:pre;overflow-x:auto;line-height:normal;font-family:Menlo,'DejaVu Sans Mono',consolas,'Courier New',monospace\"><span style=\"font-weight: bold\"> Trainable params: </span><span style=\"color: #00af00; text-decoration-color: #00af00\">101,578</span> (396.79 KB)\n",
       "</pre>\n"
      ],
      "text/plain": [
       "\u001b[1m Trainable params: \u001b[0m\u001b[38;5;34m101,578\u001b[0m (396.79 KB)\n"
      ]
     },
     "metadata": {},
     "output_type": "display_data"
    },
    {
     "data": {
      "text/html": [
       "<pre style=\"white-space:pre;overflow-x:auto;line-height:normal;font-family:Menlo,'DejaVu Sans Mono',consolas,'Courier New',monospace\"><span style=\"font-weight: bold\"> Non-trainable params: </span><span style=\"color: #00af00; text-decoration-color: #00af00\">0</span> (0.00 B)\n",
       "</pre>\n"
      ],
      "text/plain": [
       "\u001b[1m Non-trainable params: \u001b[0m\u001b[38;5;34m0\u001b[0m (0.00 B)\n"
      ]
     },
     "metadata": {},
     "output_type": "display_data"
    },
    {
     "data": {
      "text/html": [
       "<pre style=\"white-space:pre;overflow-x:auto;line-height:normal;font-family:Menlo,'DejaVu Sans Mono',consolas,'Courier New',monospace\"><span style=\"font-weight: bold\"> Optimizer params: </span><span style=\"color: #00af00; text-decoration-color: #00af00\">203,158</span> (793.59 KB)\n",
       "</pre>\n"
      ],
      "text/plain": [
       "\u001b[1m Optimizer params: \u001b[0m\u001b[38;5;34m203,158\u001b[0m (793.59 KB)\n"
      ]
     },
     "metadata": {},
     "output_type": "display_data"
    }
   ],
   "source": [
    "# If you have trained your own model and want to save it, uncomment and run:\n",
    "model_path = './mnist10_model.keras'\n",
    "# model.save(model_path)\n",
    "\n",
    "# Otherwise, load the pretrained model provided (e.g., from Google Drive or HuggingFace).\n",
    "!wget https://raw.githubusercontent.com/mnazari123/SecAI_Workshop_Data/main/Models/mnist10_model.keras\n",
    "model = tf.keras.models.load_model(model_path)\n",
    "\n",
    "# Display the model architecture summary to make sure the model has successfully been loaded.\n",
    "model.summary()"
   ]
  },
  {
   "cell_type": "markdown",
   "metadata": {
    "id": "4E-ciO4MjJHG"
   },
   "source": [
    "### Evaluate Model Performance on Test Data"
   ]
  },
  {
   "cell_type": "code",
   "execution_count": 11,
   "metadata": {
    "colab": {
     "base_uri": "https://localhost:8080/"
    },
    "executionInfo": {
     "elapsed": 251,
     "status": "ok",
     "timestamp": 1701725129279,
     "user": {
      "displayName": "Mujtaba Nazari",
      "userId": "16194551095817193214"
     },
     "user_tz": 360
    },
    "id": "2k5U_iKYjJHG",
    "outputId": "a0660c1d-c0ec-4ae4-96e7-eac35223d58d"
   },
   "outputs": [
    {
     "name": "stderr",
     "output_type": "stream",
     "text": [
      "I0000 00:00:1756155860.142662  163029 service.cc:148] XLA service 0x7f2468005990 initialized for platform CUDA (this does not guarantee that XLA will be used). Devices:\n",
      "I0000 00:00:1756155860.142702  163029 service.cc:156]   StreamExecutor device (0): NVIDIA RTX A6000, Compute Capability 8.6\n",
      "I0000 00:00:1756155860.142708  163029 service.cc:156]   StreamExecutor device (1): Quadro RTX 6000, Compute Capability 7.5\n",
      "I0000 00:00:1756155860.142712  163029 service.cc:156]   StreamExecutor device (2): Quadro RTX 8000, Compute Capability 7.5\n",
      "2025-08-25 16:04:20.157518: I tensorflow/compiler/mlir/tensorflow/utils/dump_mlir_util.cc:268] disabling MLIR crash reproducer, set env var `MLIR_CRASH_REPRODUCER_DIRECTORY` to enable.\n",
      "I0000 00:00:1756155860.192094  163029 cuda_dnn.cc:529] Loaded cuDNN version 91200\n"
     ]
    },
    {
     "name": "stdout",
     "output_type": "stream",
     "text": [
      "\u001b[1m111/313\u001b[0m \u001b[32m━━━━━━━\u001b[0m\u001b[37m━━━━━━━━━━━━━\u001b[0m \u001b[1m0s\u001b[0m 1ms/step - accuracy: 0.9853 - loss: 0.0749 "
     ]
    },
    {
     "name": "stderr",
     "output_type": "stream",
     "text": [
      "I0000 00:00:1756155860.986133  163029 device_compiler.h:188] Compiled cluster using XLA!  This line is logged at most once for the lifetime of the process.\n"
     ]
    },
    {
     "name": "stdout",
     "output_type": "stream",
     "text": [
      "\u001b[1m313/313\u001b[0m \u001b[32m━━━━━━━━━━━━━━━━━━━━\u001b[0m\u001b[37m\u001b[0m \u001b[1m2s\u001b[0m 3ms/step - accuracy: 0.9896 - loss: 0.0566\n",
      "Accuracy on test data: 98.96%\n"
     ]
    }
   ],
   "source": [
    "# Evaluate the model on the test dataset and get loss and accuracy.\n",
    "loss_test, accuracy_test = model.evaluate(x_test, y_test)\n",
    "\n",
    "# Print the test accuracy as a percentage.\n",
    "print('Accuracy on test data: {:4.2f}%'.format(accuracy_test * 100))"
   ]
  },
  {
   "cell_type": "markdown",
   "metadata": {
    "id": "2pAmvXWSjJHH"
   },
   "source": [
    "### Wrap the Keras Model with an ART Classifier"
   ]
  },
  {
   "cell_type": "code",
   "execution_count": 14,
   "metadata": {
    "id": "PDy1OpEOjJHH"
   },
   "outputs": [],
   "source": [
    "# Create an ART KerasClassifier to enable adversarial robustness tools.\n",
    "# 'clip_values' defines the input data range for normalization and attack generation.\n",
    "classifier = KerasClassifier(model=model, clip_values=(min_val, max_val))"
   ]
  },
  {
   "cell_type": "markdown",
   "metadata": {
    "id": "oRYYFUKBjXdT"
   },
   "source": [
    "# **Fast Gradient Method (FGM)**\n"
   ]
  },
  {
   "cell_type": "markdown",
   "metadata": {
    "id": "lWft_yKPTzaR"
   },
   "source": [
    "\n",
    "## Overview\n",
    "\n",
    "> class art.attacks.evasion.FastGradientMethod(estimator: CLASSIFIER_LOSS_GRADIENTS_TYPE, norm: int | float | str = inf, eps: int | float | ndarray = 0.3, eps_step: int | float | ndarray = 0.1, targeted: bool = False, num_random_init: int = 0, batch_size: int = 32, minimal: bool = False, summary_writer: str | bool | SummaryWriter = False)\n",
    "\n",
    "This attack was originally implemented by Goodfellow et al. (2015) with the infinity norm (and is known as the “Fast Gradient Sign Method”). This implementation extends the attack to other norms, and is therefore called the Fast Gradient Method.\n",
    "* Paper link: https://arxiv.org/abs/1412.6572\n",
    "\n",
    "*\\_\\_init__(estimator: CLASSIFIER_LOSS_GRADIENTS_TYPE, norm: int | float | str = inf, eps: int | float | ndarray = 0.3, eps_step: int | float | ndarray = 0.1, targeted: bool = False, num_random_init: int = 0, batch_size: int = 32, minimal: bool = False, summary_writer: str | bool | SummaryWriter = False) → None*\n",
    "\n",
    "**Create a FastGradientMethod instance.**\n",
    "\n",
    "     Parameters:\n",
    "* estimator – A trained classifier.\n",
    "* norm – The norm of the adversarial perturbation. Possible values: “inf”, np.inf, 1 or 2.\n",
    "* eps – Attack step size (input variation).\n",
    "* eps_step – Step size of input variation for minimal perturbation computation.\n",
    "* targeted (bool) – Indicates whether the attack is targeted (True) or untargeted (False)\n",
    "* num_random_init (int) – Number of random initialisations within the epsilon ball. For random_init=0 starting at the original input.\n",
    "* batch_size (int) – Size of the batch on which adversarial samples are generated.\n",
    "* minimal (bool) – Indicates if computing the minimal perturbation (True). If True, also define eps_step for the step size and eps for the maximum perturbation.\n",
    "* summary_writer – Activate summary writer for TensorBoard. Default is False and deactivated summary writer. If True save runs/CURRENT_DATETIME_HOSTNAME in current directory. If of type str save in path. If of type SummaryWriter apply provided custom summary writer. Use hierarchical folder structure to compare between runs easily. e.g. pass in ‘runs/exp1’, ‘runs/exp2’, etc. for each new experiment to compare across them.\n",
    "\n",
    "    \n",
    "**generate(x: ndarray, y: ndarray | None = None, \\*\\*kwargs) → ndarray**\n",
    "\n",
    "Generate adversarial samples and return them in an array.\n",
    "\n",
    "    Return type:\n",
    "* ndarray\n",
    "    \n",
    "    \n",
    "    Parameters:\n",
    "* x (ndarray) – An array with the original inputs.\n",
    "* y – Target values (class labels) one-hot-encoded of shape (nb_samples, nb_classes) or indices of shape (nb_samples,). Only provide this parameter if you’d like to use true labels when crafting adversarial samples. Otherwise, model predictions are used as labels to avoid the “label leaking” effect (explained in this paper: https://arxiv.org/abs/1611.01236). Default is None.\n",
    "\n",
    "* mask (np.ndarray) – An array with a mask broadcastable to input x defining where to apply adversarial perturbations. Shape needs to be broadcastable to the shape of x and can also be of the same shape as x. Any features for which the mask is zero will not be adversarially perturbed.\n",
    "\n",
    "        Returns:\n",
    "* An array holding the adversarial examples.\n",
    "\n",
    "Link: https://adversarial-robustness-toolbox.readthedocs.io/en/latest/modules/attacks/evasion.html#fast-gradient-method-fgm\n"
   ]
  },
  {
   "cell_type": "markdown",
   "metadata": {
    "id": "psNjvw4UjJHH"
   },
   "source": [
    "### Create an ART Fast Gradient Sign Method attack."
   ]
  },
  {
   "cell_type": "code",
   "execution_count": 15,
   "metadata": {
    "id": "UqwJlSGbjJHI"
   },
   "outputs": [],
   "source": [
    "# eps – defines the attack step size (input variation). The smaller the eps, the little the attack scale would be.\n",
    "attack_fgsm = FastGradientMethod(estimator=classifier, eps=0.2)"
   ]
  },
  {
   "cell_type": "markdown",
   "metadata": {
    "id": "fDdLBE2EjJHI"
   },
   "source": [
    "## Generate Adversarial Examples Using SimBA Attack"
   ]
  },
  {
   "cell_type": "code",
   "execution_count": 16,
   "metadata": {
    "id": "smdn0bvtjJHI",
    "outputId": "c182affb-dd05-45bd-a7f1-19ed94b85ec9"
   },
   "outputs": [],
   "source": [
    "# Reduce test set size to 500 samples for faster adversarial generation and evaluation.\n",
    "x_test = x_test[:500]\n",
    "y_test = y_test[:500]\n",
    "\n",
    "# Generate adversarial examples from the reduced test set using the PGD attack.\n",
    "x_test_adv = attack_fgsm.generate(x_test)"
   ]
  },
  {
   "cell_type": "markdown",
   "metadata": {
    "id": "D6wlloIzmysk"
   },
   "source": [
    "## Save or Load PGD-Generated Adversarial Test Data"
   ]
  },
  {
   "cell_type": "code",
   "execution_count": 17,
   "metadata": {
    "id": "BY3zJgmamzTT"
   },
   "outputs": [],
   "source": [
    "# Option 1: Save your newly generated adversarial test data (uncomment to use).\n",
    "fgsm_data_path = 'fgsm_poison_data_MNIST10_test_S500.npz'\n",
    "np.savez(fgsm_data_path,\n",
    "         x_test_adv=x_test_adv, y_test_adv=y_test)\n",
    "\n",
    "# Option 2: Load previously saved adversarial test data (recommended for reuse or quick experiments).\n",
    "# Download the data file from GitHub raw URL\n",
    "# !wget https://raw.githubusercontent.com/mnazari123/SecAI_Workshop_Data/main/data/pgd_poison_data_MNIST10_test_S500.npz\n",
    "\n",
    "# x_test_data = np.load(pgd_data_path)\n",
    "# x_test_adv, y_test = x_test_data['x_test_adv'], x_test_data['y_test_adv']\n",
    "# x_test_adv.shape, y_test.shape"
   ]
  },
  {
   "cell_type": "markdown",
   "metadata": {
    "id": "ngiJyPOVsk00"
   },
   "source": [
    "## Visualize Adversarial Examples and Their Predictions"
   ]
  },
  {
   "cell_type": "code",
   "execution_count": 18,
   "metadata": {
    "colab": {
     "base_uri": "https://localhost:8080/",
     "height": 348
    },
    "executionInfo": {
     "elapsed": 2234,
     "status": "ok",
     "timestamp": 1701725145678,
     "user": {
      "displayName": "Mujtaba Nazari",
      "userId": "16194551095817193214"
     },
     "user_tz": 360
    },
    "id": "mtdiwibYsXGi",
    "outputId": "274b1555-14f9-49a9-9186-c158a02dd8ba"
   },
   "outputs": [
    {
     "name": "stdout",
     "output_type": "stream",
     "text": [
      "\u001b[1m1/1\u001b[0m \u001b[32m━━━━━━━━━━━━━━━━━━━━\u001b[0m\u001b[37m\u001b[0m \u001b[1m1s\u001b[0m 588ms/step\n",
      "\u001b[1m1/1\u001b[0m \u001b[32m━━━━━━━━━━━━━━━━━━━━\u001b[0m\u001b[37m\u001b[0m \u001b[1m0s\u001b[0m 67ms/step\n",
      "\u001b[1m1/1\u001b[0m \u001b[32m━━━━━━━━━━━━━━━━━━━━\u001b[0m\u001b[37m\u001b[0m \u001b[1m0s\u001b[0m 67ms/step\n",
      "\u001b[1m1/1\u001b[0m \u001b[32m━━━━━━━━━━━━━━━━━━━━\u001b[0m\u001b[37m\u001b[0m \u001b[1m0s\u001b[0m 69ms/step\n",
      "\u001b[1m1/1\u001b[0m \u001b[32m━━━━━━━━━━━━━━━━━━━━\u001b[0m\u001b[37m\u001b[0m \u001b[1m0s\u001b[0m 66ms/step\n",
      "\u001b[1m1/1\u001b[0m \u001b[32m━━━━━━━━━━━━━━━━━━━━\u001b[0m\u001b[37m\u001b[0m \u001b[1m0s\u001b[0m 64ms/step\n",
      "\u001b[1m1/1\u001b[0m \u001b[32m━━━━━━━━━━━━━━━━━━━━\u001b[0m\u001b[37m\u001b[0m \u001b[1m0s\u001b[0m 64ms/step\n",
      "\u001b[1m1/1\u001b[0m \u001b[32m━━━━━━━━━━━━━━━━━━━━\u001b[0m\u001b[37m\u001b[0m \u001b[1m0s\u001b[0m 70ms/step\n",
      "\u001b[1m1/1\u001b[0m \u001b[32m━━━━━━━━━━━━━━━━━━━━\u001b[0m\u001b[37m\u001b[0m \u001b[1m0s\u001b[0m 63ms/step\n",
      "\u001b[1m1/1\u001b[0m \u001b[32m━━━━━━━━━━━━━━━━━━━━\u001b[0m\u001b[37m\u001b[0m \u001b[1m0s\u001b[0m 64ms/step\n"
     ]
    },
    {
     "data": {
      "image/png": "[encoded data removed]",
      "text/plain": [
       "<Figure size 1500x700 with 10 Axes>"
      ]
     },
     "metadata": {},
     "output_type": "display_data"
    }
   ],
   "source": [
    "# Display the first 10 adversarial examples along with their actual and predicted labels.\n",
    "fig, ax = plt.subplots(2, 5, figsize=(15, 7))\n",
    "ax = ax.flatten()\n",
    "\n",
    "for i, (image, label) in enumerate(zip(x_test_adv[:10], y_test[:10])):\n",
    "    # Display the adversarial image.\n",
    "    ax[i].imshow(image.squeeze(), cmap='gray_r')\n",
    "\n",
    "    # Show actual and predicted labels.\n",
    "    prediction = model.predict(np.expand_dims(image, axis=0)).argmax()\n",
    "    ax[i].set_title(f\"Actual: {label.argmax()} \\nPredicted: {prediction}\", fontsize=12)\n",
    "    ax[i].axis('off')"
   ]
  },
  {
   "cell_type": "markdown",
   "metadata": {
    "id": "vC9_e8NTjJHJ"
   },
   "source": [
    "## Evaluate the Model on Adversarial Test Data"
   ]
  },
  {
   "cell_type": "code",
   "execution_count": 19,
   "metadata": {
    "colab": {
     "base_uri": "https://localhost:8080/"
    },
    "executionInfo": {
     "elapsed": 100,
     "status": "ok",
     "timestamp": 1701725148402,
     "user": {
      "displayName": "Mujtaba Nazari",
      "userId": "16194551095817193214"
     },
     "user_tz": 360
    },
    "id": "Xyh3nHj2jJHJ",
    "outputId": "15a002fe-874e-44a8-a2e9-618bffb00a90"
   },
   "outputs": [
    {
     "name": "stdout",
     "output_type": "stream",
     "text": [
      "\u001b[1m16/16\u001b[0m \u001b[32m━━━━━━━━━━━━━━━━━━━━\u001b[0m\u001b[37m\u001b[0m \u001b[1m1s\u001b[0m 41ms/step - accuracy: 0.4940 - loss: 2.7728\n",
      "Accuracy on adversarial test data: 49.40%\n",
      "Average perturbation: 0.07\n"
     ]
    }
   ],
   "source": [
    "# Evaluate model performance on adversarial examples.\n",
    "loss_test, accuracy_test = model.evaluate(x_test_adv, y_test)\n",
    "\n",
    "# Calculate the average perturbation introduced by the adversarial attack.\n",
    "perturbation = np.mean(np.abs(x_test_adv - x_test))\n",
    "\n",
    "# Print evaluation results.\n",
    "print('Accuracy on adversarial test data: {:4.2f}%'.format(accuracy_test * 100))\n",
    "print('Average perturbation: {:4.2f}'.format(perturbation))"
   ]
  },
  {
   "cell_type": "markdown",
   "metadata": {
    "id": "LV9jzJ47n0IG"
   },
   "source": [
    "# Prepare Training Data for Adversarial Sample Detector"
   ]
  },
  {
   "cell_type": "code",
   "execution_count": 20,
   "metadata": {
    "id": "i_vV1IXbn52q"
   },
   "outputs": [],
   "source": [
    "# Generate new adversarial examples from a subset of the training data using PGD.\n",
    "x_train_adv = attack_fgsm.generate(x_train[:500])\n",
    "nb_train = x_train[:500].shape[0]\n",
    "\n",
    "# Combine clean and adversarial samples to create a binary classification dataset for detection.\n",
    "x_train_detector = np.concatenate((x_train[:500], x_train_adv), axis=0)\n",
    "\n",
    "# Create labels: [1, 0] for clean samples, [0, 1] for adversarial samples.\n",
    "y_train_detector = np.concatenate((\n",
    "    np.array([[1, 0]] * nb_train),  # Clean\n",
    "    np.array([[0, 1]] * nb_train)   # Adversarial\n",
    "), axis=0)"
   ]
  },
  {
   "cell_type": "markdown",
   "metadata": {
    "id": "PIuxhslBoZyL"
   },
   "source": [
    "##Save or Load Adversarial Detector Training Data"
   ]
  },
  {
   "cell_type": "code",
   "execution_count": 21,
   "metadata": {
    "id": "xwFFUODSobf7"
   },
   "outputs": [],
   "source": [
    "# Option 1: Save generated clean and adversarial samples for training the detector.\n",
    "np.savez('./fgsm_poison_data_MNIST10_train_S1000.npz',\n",
    "         x_train_detector=x_train_detector, y_train_detector=y_train_detector)\n",
    "\n",
    "# Option 2: Load pre-saved detector training data to avoid regeneration.\n",
    "# detector_data = np.load('./pgd_generated_data/pgd_detector_generated_MNIST10.npz')\n",
    "# x_train_detector, y_train_detector = detector_data['x_train_detector'], detector_data['y_train_detector']\n",
    "\n",
    "# Verify the shape of loaded or prepared data.\n",
    "# x_train_detector.shape, y_train_detector.shape"
   ]
  },
  {
   "cell_type": "markdown",
   "metadata": {
    "id": "PJLuYmMZefWV"
   },
   "source": [
    "## Build a similar CNN architecture model for detecting Adversarial Inputs"
   ]
  },
  {
   "cell_type": "code",
   "execution_count": 22,
   "metadata": {
    "id": "8pNOO14pq_lX"
   },
   "outputs": [],
   "source": [
    "# Define a CNN model to detect adversarial vs. clean images (binary classification).\n",
    "detector_model = tf.keras.models.Sequential([\n",
    "    # First convolutional block\n",
    "    tf.keras.layers.Conv2D(32, kernel_size=(3, 3), activation='relu', input_shape=(28, 28, 1)),\n",
    "    tf.keras.layers.MaxPooling2D(pool_size=(2, 2)),\n",
    "\n",
    "    # Second convolutional block\n",
    "    tf.keras.layers.Conv2D(64, kernel_size=(3, 3), activation='relu', strides=1),\n",
    "    tf.keras.layers.MaxPooling2D(pool_size=(2, 2), strides=2),\n",
    "\n",
    "    # Third convolutional block\n",
    "    tf.keras.layers.Conv2D(128, kernel_size=(3, 3), activation='relu', strides=1),\n",
    "    tf.keras.layers.MaxPooling2D(pool_size=(2, 2), strides=2),\n",
    "\n",
    "    # Classification head\n",
    "    tf.keras.layers.Flatten(),\n",
    "    tf.keras.layers.Dense(128, activation='relu'),\n",
    "    tf.keras.layers.Dropout(0.2),\n",
    "    tf.keras.layers.Dense(2, activation='softmax')  # Two output classes: [clean, adversarial]\n",
    "])\n",
    "\n",
    "# Compile the detector model with Adam optimizer and categorical crossentropy loss.\n",
    "detector_model.compile(\n",
    "    optimizer='adam',\n",
    "    loss='categorical_crossentropy',\n",
    "    metrics=['accuracy']\n",
    ")"
   ]
  },
  {
   "cell_type": "markdown",
   "metadata": {
    "id": "jvTYK7aspL0g"
   },
   "source": [
    "## Train the Adversarial Detector Model"
   ]
  },
  {
   "cell_type": "code",
   "execution_count": 23,
   "metadata": {
    "id": "iFqutUN0pRxS"
   },
   "outputs": [
    {
     "name": "stdout",
     "output_type": "stream",
     "text": [
      "Epoch 1/10\n",
      "\u001b[1m32/32\u001b[0m \u001b[32m━━━━━━━━━━━━━━━━━━━━\u001b[0m\u001b[37m\u001b[0m \u001b[1m4s\u001b[0m 50ms/step - accuracy: 0.8050 - loss: 0.4719\n",
      "Epoch 2/10\n",
      "\u001b[1m32/32\u001b[0m \u001b[32m━━━━━━━━━━━━━━━━━━━━\u001b[0m\u001b[37m\u001b[0m \u001b[1m0s\u001b[0m 3ms/step - accuracy: 0.9970 - loss: 0.0106\n",
      "Epoch 3/10\n",
      "\u001b[1m32/32\u001b[0m \u001b[32m━━━━━━━━━━━━━━━━━━━━\u001b[0m\u001b[37m\u001b[0m \u001b[1m0s\u001b[0m 3ms/step - accuracy: 1.0000 - loss: 2.8322e-04\n",
      "Epoch 4/10\n",
      "\u001b[1m32/32\u001b[0m \u001b[32m━━━━━━━━━━━━━━━━━━━━\u001b[0m\u001b[37m\u001b[0m \u001b[1m0s\u001b[0m 3ms/step - accuracy: 1.0000 - loss: 1.3189e-04\n",
      "Epoch 5/10\n",
      "\u001b[1m32/32\u001b[0m \u001b[32m━━━━━━━━━━━━━━━━━━━━\u001b[0m\u001b[37m\u001b[0m \u001b[1m0s\u001b[0m 3ms/step - accuracy: 1.0000 - loss: 8.6238e-05\n",
      "Epoch 6/10\n",
      "\u001b[1m32/32\u001b[0m \u001b[32m━━━━━━━━━━━━━━━━━━━━\u001b[0m\u001b[37m\u001b[0m \u001b[1m0s\u001b[0m 3ms/step - accuracy: 1.0000 - loss: 8.7730e-05\n",
      "Epoch 7/10\n",
      "\u001b[1m32/32\u001b[0m \u001b[32m━━━━━━━━━━━━━━━━━━━━\u001b[0m\u001b[37m\u001b[0m \u001b[1m0s\u001b[0m 3ms/step - accuracy: 1.0000 - loss: 7.0993e-05\n",
      "Epoch 8/10\n",
      "\u001b[1m32/32\u001b[0m \u001b[32m━━━━━━━━━━━━━━━━━━━━\u001b[0m\u001b[37m\u001b[0m \u001b[1m0s\u001b[0m 3ms/step - accuracy: 1.0000 - loss: 5.5526e-05\n",
      "Epoch 9/10\n",
      "\u001b[1m32/32\u001b[0m \u001b[32m━━━━━━━━━━━━━━━━━━━━\u001b[0m\u001b[37m\u001b[0m \u001b[1m0s\u001b[0m 3ms/step - accuracy: 1.0000 - loss: 4.1498e-05\n",
      "Epoch 10/10\n",
      "\u001b[1m32/32\u001b[0m \u001b[32m━━━━━━━━━━━━━━━━━━━━\u001b[0m\u001b[37m\u001b[0m \u001b[1m0s\u001b[0m 3ms/step - accuracy: 1.0000 - loss: 4.7137e-05\n"
     ]
    }
   ],
   "source": [
    "# Train the adversarial detector model for 3 epochs.\n",
    "# Since the goal is to distinguish between clean and adversarial inputs,\n",
    "# a few epochs (e.g., 3) are typically sufficient to learn this binary classification task.\n",
    "history = detector_model.fit(x_train_detector, y_train_detector, epochs=10)"
   ]
  },
  {
   "cell_type": "code",
   "execution_count": 24,
   "metadata": {
    "id": "TLIrlwlopfY5"
   },
   "outputs": [
    {
     "data": {
      "text/html": [
       "<pre style=\"white-space:pre;overflow-x:auto;line-height:normal;font-family:Menlo,'DejaVu Sans Mono',consolas,'Courier New',monospace\"><span style=\"font-weight: bold\">Model: \"sequential_1\"</span>\n",
       "</pre>\n"
      ],
      "text/plain": [
       "\u001b[1mModel: \"sequential_1\"\u001b[0m\n"
      ]
     },
     "metadata": {},
     "output_type": "display_data"
    },
    {
     "data": {
      "text/html": [
       "<pre style=\"white-space:pre;overflow-x:auto;line-height:normal;font-family:Menlo,'DejaVu Sans Mono',consolas,'Courier New',monospace\">┏━━━━━━━━━━━━━━━━━━━━━━━━━━━━━━━━━┳━━━━━━━━━━━━━━━━━━━━━━━━┳━━━━━━━━━━━━━━━┓\n",
       "┃<span style=\"font-weight: bold\"> Layer (type)                    </span>┃<span style=\"font-weight: bold\"> Output Shape           </span>┃<span style=\"font-weight: bold\">       Param # </span>┃\n",
       "┡━━━━━━━━━━━━━━━━━━━━━━━━━━━━━━━━━╇━━━━━━━━━━━━━━━━━━━━━━━━╇━━━━━━━━━━━━━━━┩\n",
       "│ conv2d_3 (<span style=\"color: #0087ff; text-decoration-color: #0087ff\">Conv2D</span>)               │ (<span style=\"color: #00d7ff; text-decoration-color: #00d7ff\">None</span>, <span style=\"color: #00af00; text-decoration-color: #00af00\">26</span>, <span style=\"color: #00af00; text-decoration-color: #00af00\">26</span>, <span style=\"color: #00af00; text-decoration-color: #00af00\">32</span>)     │           <span style=\"color: #00af00; text-decoration-color: #00af00\">320</span> │\n",
       "├─────────────────────────────────┼────────────────────────┼───────────────┤\n",
       "│ max_pooling2d_3 (<span style=\"color: #0087ff; text-decoration-color: #0087ff\">MaxPooling2D</span>)  │ (<span style=\"color: #00d7ff; text-decoration-color: #00d7ff\">None</span>, <span style=\"color: #00af00; text-decoration-color: #00af00\">13</span>, <span style=\"color: #00af00; text-decoration-color: #00af00\">13</span>, <span style=\"color: #00af00; text-decoration-color: #00af00\">32</span>)     │             <span style=\"color: #00af00; text-decoration-color: #00af00\">0</span> │\n",
       "├─────────────────────────────────┼────────────────────────┼───────────────┤\n",
       "│ conv2d_4 (<span style=\"color: #0087ff; text-decoration-color: #0087ff\">Conv2D</span>)               │ (<span style=\"color: #00d7ff; text-decoration-color: #00d7ff\">None</span>, <span style=\"color: #00af00; text-decoration-color: #00af00\">11</span>, <span style=\"color: #00af00; text-decoration-color: #00af00\">11</span>, <span style=\"color: #00af00; text-decoration-color: #00af00\">64</span>)     │        <span style=\"color: #00af00; text-decoration-color: #00af00\">18,496</span> │\n",
       "├─────────────────────────────────┼────────────────────────┼───────────────┤\n",
       "│ max_pooling2d_4 (<span style=\"color: #0087ff; text-decoration-color: #0087ff\">MaxPooling2D</span>)  │ (<span style=\"color: #00d7ff; text-decoration-color: #00d7ff\">None</span>, <span style=\"color: #00af00; text-decoration-color: #00af00\">5</span>, <span style=\"color: #00af00; text-decoration-color: #00af00\">5</span>, <span style=\"color: #00af00; text-decoration-color: #00af00\">64</span>)       │             <span style=\"color: #00af00; text-decoration-color: #00af00\">0</span> │\n",
       "├─────────────────────────────────┼────────────────────────┼───────────────┤\n",
       "│ conv2d_5 (<span style=\"color: #0087ff; text-decoration-color: #0087ff\">Conv2D</span>)               │ (<span style=\"color: #00d7ff; text-decoration-color: #00d7ff\">None</span>, <span style=\"color: #00af00; text-decoration-color: #00af00\">3</span>, <span style=\"color: #00af00; text-decoration-color: #00af00\">3</span>, <span style=\"color: #00af00; text-decoration-color: #00af00\">128</span>)      │        <span style=\"color: #00af00; text-decoration-color: #00af00\">73,856</span> │\n",
       "├─────────────────────────────────┼────────────────────────┼───────────────┤\n",
       "│ max_pooling2d_5 (<span style=\"color: #0087ff; text-decoration-color: #0087ff\">MaxPooling2D</span>)  │ (<span style=\"color: #00d7ff; text-decoration-color: #00d7ff\">None</span>, <span style=\"color: #00af00; text-decoration-color: #00af00\">1</span>, <span style=\"color: #00af00; text-decoration-color: #00af00\">1</span>, <span style=\"color: #00af00; text-decoration-color: #00af00\">128</span>)      │             <span style=\"color: #00af00; text-decoration-color: #00af00\">0</span> │\n",
       "├─────────────────────────────────┼────────────────────────┼───────────────┤\n",
       "│ flatten_1 (<span style=\"color: #0087ff; text-decoration-color: #0087ff\">Flatten</span>)             │ (<span style=\"color: #00d7ff; text-decoration-color: #00d7ff\">None</span>, <span style=\"color: #00af00; text-decoration-color: #00af00\">128</span>)            │             <span style=\"color: #00af00; text-decoration-color: #00af00\">0</span> │\n",
       "├─────────────────────────────────┼────────────────────────┼───────────────┤\n",
       "│ dense_2 (<span style=\"color: #0087ff; text-decoration-color: #0087ff\">Dense</span>)                 │ (<span style=\"color: #00d7ff; text-decoration-color: #00d7ff\">None</span>, <span style=\"color: #00af00; text-decoration-color: #00af00\">128</span>)            │        <span style=\"color: #00af00; text-decoration-color: #00af00\">16,512</span> │\n",
       "├─────────────────────────────────┼────────────────────────┼───────────────┤\n",
       "│ dropout_1 (<span style=\"color: #0087ff; text-decoration-color: #0087ff\">Dropout</span>)             │ (<span style=\"color: #00d7ff; text-decoration-color: #00d7ff\">None</span>, <span style=\"color: #00af00; text-decoration-color: #00af00\">128</span>)            │             <span style=\"color: #00af00; text-decoration-color: #00af00\">0</span> │\n",
       "├─────────────────────────────────┼────────────────────────┼───────────────┤\n",
       "│ dense_3 (<span style=\"color: #0087ff; text-decoration-color: #0087ff\">Dense</span>)                 │ (<span style=\"color: #00d7ff; text-decoration-color: #00d7ff\">None</span>, <span style=\"color: #00af00; text-decoration-color: #00af00\">2</span>)              │           <span style=\"color: #00af00; text-decoration-color: #00af00\">258</span> │\n",
       "└─────────────────────────────────┴────────────────────────┴───────────────┘\n",
       "</pre>\n"
      ],
      "text/plain": [
       "┏━━━━━━━━━━━━━━━━━━━━━━━━━━━━━━━━━┳━━━━━━━━━━━━━━━━━━━━━━━━┳━━━━━━━━━━━━━━━┓\n",
       "┃\u001b[1m \u001b[0m\u001b[1mLayer (type)                   \u001b[0m\u001b[1m \u001b[0m┃\u001b[1m \u001b[0m\u001b[1mOutput Shape          \u001b[0m\u001b[1m \u001b[0m┃\u001b[1m \u001b[0m\u001b[1m      Param #\u001b[0m\u001b[1m \u001b[0m┃\n",
       "┡━━━━━━━━━━━━━━━━━━━━━━━━━━━━━━━━━╇━━━━━━━━━━━━━━━━━━━━━━━━╇━━━━━━━━━━━━━━━┩\n",
       "│ conv2d_3 (\u001b[38;5;33mConv2D\u001b[0m)               │ (\u001b[38;5;45mNone\u001b[0m, \u001b[38;5;34m26\u001b[0m, \u001b[38;5;34m26\u001b[0m, \u001b[38;5;34m32\u001b[0m)     │           \u001b[38;5;34m320\u001b[0m │\n",
       "├─────────────────────────────────┼────────────────────────┼───────────────┤\n",
       "│ max_pooling2d_3 (\u001b[38;5;33mMaxPooling2D\u001b[0m)  │ (\u001b[38;5;45mNone\u001b[0m, \u001b[38;5;34m13\u001b[0m, \u001b[38;5;34m13\u001b[0m, \u001b[38;5;34m32\u001b[0m)     │             \u001b[38;5;34m0\u001b[0m │\n",
       "├─────────────────────────────────┼────────────────────────┼───────────────┤\n",
       "│ conv2d_4 (\u001b[38;5;33mConv2D\u001b[0m)               │ (\u001b[38;5;45mNone\u001b[0m, \u001b[38;5;34m11\u001b[0m, \u001b[38;5;34m11\u001b[0m, \u001b[38;5;34m64\u001b[0m)     │        \u001b[38;5;34m18,496\u001b[0m │\n",
       "├─────────────────────────────────┼────────────────────────┼───────────────┤\n",
       "│ max_pooling2d_4 (\u001b[38;5;33mMaxPooling2D\u001b[0m)  │ (\u001b[38;5;45mNone\u001b[0m, \u001b[38;5;34m5\u001b[0m, \u001b[38;5;34m5\u001b[0m, \u001b[38;5;34m64\u001b[0m)       │             \u001b[38;5;34m0\u001b[0m │\n",
       "├─────────────────────────────────┼────────────────────────┼───────────────┤\n",
       "│ conv2d_5 (\u001b[38;5;33mConv2D\u001b[0m)               │ (\u001b[38;5;45mNone\u001b[0m, \u001b[38;5;34m3\u001b[0m, \u001b[38;5;34m3\u001b[0m, \u001b[38;5;34m128\u001b[0m)      │        \u001b[38;5;34m73,856\u001b[0m │\n",
       "├─────────────────────────────────┼────────────────────────┼───────────────┤\n",
       "│ max_pooling2d_5 (\u001b[38;5;33mMaxPooling2D\u001b[0m)  │ (\u001b[38;5;45mNone\u001b[0m, \u001b[38;5;34m1\u001b[0m, \u001b[38;5;34m1\u001b[0m, \u001b[38;5;34m128\u001b[0m)      │             \u001b[38;5;34m0\u001b[0m │\n",
       "├─────────────────────────────────┼────────────────────────┼───────────────┤\n",
       "│ flatten_1 (\u001b[38;5;33mFlatten\u001b[0m)             │ (\u001b[38;5;45mNone\u001b[0m, \u001b[38;5;34m128\u001b[0m)            │             \u001b[38;5;34m0\u001b[0m │\n",
       "├─────────────────────────────────┼────────────────────────┼───────────────┤\n",
       "│ dense_2 (\u001b[38;5;33mDense\u001b[0m)                 │ (\u001b[38;5;45mNone\u001b[0m, \u001b[38;5;34m128\u001b[0m)            │        \u001b[38;5;34m16,512\u001b[0m │\n",
       "├─────────────────────────────────┼────────────────────────┼───────────────┤\n",
       "│ dropout_1 (\u001b[38;5;33mDropout\u001b[0m)             │ (\u001b[38;5;45mNone\u001b[0m, \u001b[38;5;34m128\u001b[0m)            │             \u001b[38;5;34m0\u001b[0m │\n",
       "├─────────────────────────────────┼────────────────────────┼───────────────┤\n",
       "│ dense_3 (\u001b[38;5;33mDense\u001b[0m)                 │ (\u001b[38;5;45mNone\u001b[0m, \u001b[38;5;34m2\u001b[0m)              │           \u001b[38;5;34m258\u001b[0m │\n",
       "└─────────────────────────────────┴────────────────────────┴───────────────┘\n"
      ]
     },
     "metadata": {},
     "output_type": "display_data"
    },
    {
     "data": {
      "text/html": [
       "<pre style=\"white-space:pre;overflow-x:auto;line-height:normal;font-family:Menlo,'DejaVu Sans Mono',consolas,'Courier New',monospace\"><span style=\"font-weight: bold\"> Total params: </span><span style=\"color: #00af00; text-decoration-color: #00af00\">328,328</span> (1.25 MB)\n",
       "</pre>\n"
      ],
      "text/plain": [
       "\u001b[1m Total params: \u001b[0m\u001b[38;5;34m328,328\u001b[0m (1.25 MB)\n"
      ]
     },
     "metadata": {},
     "output_type": "display_data"
    },
    {
     "data": {
      "text/html": [
       "<pre style=\"white-space:pre;overflow-x:auto;line-height:normal;font-family:Menlo,'DejaVu Sans Mono',consolas,'Courier New',monospace\"><span style=\"font-weight: bold\"> Trainable params: </span><span style=\"color: #00af00; text-decoration-color: #00af00\">109,442</span> (427.51 KB)\n",
       "</pre>\n"
      ],
      "text/plain": [
       "\u001b[1m Trainable params: \u001b[0m\u001b[38;5;34m109,442\u001b[0m (427.51 KB)\n"
      ]
     },
     "metadata": {},
     "output_type": "display_data"
    },
    {
     "data": {
      "text/html": [
       "<pre style=\"white-space:pre;overflow-x:auto;line-height:normal;font-family:Menlo,'DejaVu Sans Mono',consolas,'Courier New',monospace\"><span style=\"font-weight: bold\"> Non-trainable params: </span><span style=\"color: #00af00; text-decoration-color: #00af00\">0</span> (0.00 B)\n",
       "</pre>\n"
      ],
      "text/plain": [
       "\u001b[1m Non-trainable params: \u001b[0m\u001b[38;5;34m0\u001b[0m (0.00 B)\n"
      ]
     },
     "metadata": {},
     "output_type": "display_data"
    },
    {
     "data": {
      "text/html": [
       "<pre style=\"white-space:pre;overflow-x:auto;line-height:normal;font-family:Menlo,'DejaVu Sans Mono',consolas,'Courier New',monospace\"><span style=\"font-weight: bold\"> Optimizer params: </span><span style=\"color: #00af00; text-decoration-color: #00af00\">218,886</span> (855.03 KB)\n",
       "</pre>\n"
      ],
      "text/plain": [
       "\u001b[1m Optimizer params: \u001b[0m\u001b[38;5;34m218,886\u001b[0m (855.03 KB)\n"
      ]
     },
     "metadata": {},
     "output_type": "display_data"
    }
   ],
   "source": [
    "# Define path to save/load the detector model\n",
    "detector_model_path = './FGSM_detector_model_mnist10.keras'\n",
    "detector_model.save(detector_model_path)\n",
    "\n",
    "# Load the pre-trained detector model from the specified path\n",
    "# detector_model = tf.keras.models.load_model(path)\n",
    "\n",
    "# Display the model architecture to make sure the models has been loaded successfully.\n",
    "detector_model.summary()"
   ]
  },
  {
   "cell_type": "markdown",
   "metadata": {
    "id": "0ntsPL0ZqmkZ"
   },
   "source": [
    "## Prepare test samples for the detector model"
   ]
  },
  {
   "cell_type": "code",
   "execution_count": 25,
   "metadata": {
    "id": "pOYbEmc8qonT"
   },
   "outputs": [],
   "source": [
    "# Get the number of original test samples\n",
    "nb_test = x_test.shape[0]\n",
    "\n",
    "# Combine clean and adversarial test images into one array\n",
    "x_test_detector = np.concatenate((x_test, x_test_adv), axis=0)\n",
    "\n",
    "# Create corresponding labels: [1, 0] for clean, [0, 1] for adversarial\n",
    "y_test_detector = np.concatenate((np.array([[1, 0]] * nb_test),\n",
    "                                  np.array([[0, 1]] * nb_test)), axis=0)"
   ]
  },
  {
   "cell_type": "markdown",
   "metadata": {
    "id": "FiI8WGtGqws-"
   },
   "source": [
    "### Evaluat the result"
   ]
  },
  {
   "cell_type": "code",
   "execution_count": 26,
   "metadata": {
    "id": "-SPrzISqqwbV"
   },
   "outputs": [
    {
     "name": "stdout",
     "output_type": "stream",
     "text": [
      "\u001b[1m32/32\u001b[0m \u001b[32m━━━━━━━━━━━━━━━━━━━━\u001b[0m\u001b[37m\u001b[0m \u001b[1m1s\u001b[0m 16ms/step - accuracy: 0.9980 - loss: 0.0026 \n",
      "Accuracy on test data: 99.80%\n"
     ]
    }
   ],
   "source": [
    "# --- Evaluate the detector model on combined test data ---\n",
    "\n",
    "# Evaluate the model's performance on clean + adversarial samples\n",
    "loss_test, accuracy_test = detector_model.evaluate(x_test_detector, y_test_detector)\n",
    "\n",
    "# Print the accuracy as a percentage\n",
    "print('Accuracy on test data: {:4.2f}%'.format(accuracy_test * 100))"
   ]
  },
  {
   "cell_type": "markdown",
   "metadata": {
    "id": "AX5vJpdwrDKg"
   },
   "source": [
    "## Wrap detector model for adversarial detection"
   ]
  },
  {
   "cell_type": "code",
   "execution_count": 27,
   "metadata": {
    "id": "kACdJrS-eZO5"
   },
   "outputs": [],
   "source": [
    "# Wrap the Keras detector model with ART's KerasClassifier\n",
    "detector_classifier = KerasClassifier(clip_values=(0.0, 0.1), model=detector_model, use_logits=False)\n",
    "\n",
    "# Create a BinaryInputDetector using the wrapped classifier\n",
    "detector = BinaryInputDetector(detector_classifier)"
   ]
  },
  {
   "cell_type": "markdown",
   "metadata": {
    "id": "YMHRy01NrTxV"
   },
   "source": [
    "## Train the BinaryInputDetector"
   ]
  },
  {
   "cell_type": "code",
   "execution_count": 28,
   "metadata": {
    "id": "RkCXCLkYjUTa"
   },
   "outputs": [],
   "source": [
    "## Train the BinaryInputDetector\n",
    "\n",
    "# Train the detector on labeled clean and adversarial training data\n",
    "detector.fit(x_train_detector, y_train_detector, nb_epochs=3, batch_size=32)"
   ]
  },
  {
   "cell_type": "markdown",
   "metadata": {
    "id": "0FlQ2LDBenOm"
   },
   "source": [
    "## Evaluating the detector on adversarial data"
   ]
  },
  {
   "cell_type": "code",
   "execution_count": null,
   "metadata": {
    "id": "jXTuRxsVreml"
   },
   "outputs": [
    {
     "name": "stdout",
     "output_type": "stream",
     "text": [
      "Adversarial test data (first 1000 images):\n",
      "Flagged: 500\n",
      "Not flagged: 500\n"
     ]
    }
   ],
   "source": [
    "# Apply the detector to the adversarial test data\n",
    "_, is_adversarial = detector.detect(x_test_adv)\n",
    "\n",
    "# Count how many adversarial samples were flagged\n",
    "flag_adv = np.sum(is_adversarial)\n",
    "\n",
    "# Display detection results\n",
    "print(\"Adversarial test data (first 500 images):\")\n",
    "print(\"Flagged: {}\".format(flag_adv))\n",
    "print(\"Not flagged: {}\".format(500 - flag_adv))"
   ]
  },
  {
   "cell_type": "markdown",
   "metadata": {
    "id": "hwq4CP3te4Ow"
   },
   "source": [
    "## Evaluating the detector on clean (non-adversarial) data"
   ]
  },
  {
   "cell_type": "code",
   "execution_count": 30,
   "metadata": {
    "colab": {
     "base_uri": "https://localhost:8080/"
    },
    "executionInfo": {
     "elapsed": 95,
     "status": "ok",
     "timestamp": 1701726856053,
     "user": {
      "displayName": "Mujtaba Nazari",
      "userId": "16194551095817193214"
     },
     "user_tz": 360
    },
    "id": "_D480aEPe58S",
    "outputId": "687a343b-4404-447a-83c7-a1336244612a"
   },
   "outputs": [
    {
     "name": "stdout",
     "output_type": "stream",
     "text": [
      "Original test data (first 100 images):\n",
      "Flagged: 1\n",
      "Not flagged: 99\n"
     ]
    }
   ],
   "source": [
    "_, is_adversarial = detector.detect(x_test[:100])\n",
    "flag_original = np.sum(is_adversarial)\n",
    "\n",
    "print(\"Original test data (first 100 images):\")\n",
    "print(\"Flagged: {}\".format(flag_original))\n",
    "print(\"Not flagged: {}\".format(100 - flag_original))"
   ]
  },
  {
   "cell_type": "markdown",
   "metadata": {
    "id": "4HqzAbcee9Tn"
   },
   "source": [
    "## Evaluate the detector across different attack strengths (eps values)\n"
   ]
  },
  {
   "cell_type": "code",
   "execution_count": 31,
   "metadata": {
    "id": "BA8FqxpXe92m"
   },
   "outputs": [
    {
     "name": "stdout",
     "output_type": "stream",
     "text": [
      "WARNING:tensorflow:5 out of the last 7 calls to <function KerasClassifier.__init__.<locals>._forward_pass at 0x7f288d80e340> triggered tf.function retracing. Tracing is expensive and the excessive number of tracings could be due to (1) creating @tf.function repeatedly in a loop, (2) passing tensors with different shapes, (3) passing Python objects instead of tensors. For (1), please define your @tf.function outside of the loop. For (2), @tf.function has reduce_retracing=True option that can avoid unnecessary retracing. For (3), please refer to https://www.tensorflow.org/guide/function#controlling_retracing and https://www.tensorflow.org/api_docs/python/tf/function for  more details.\n"
     ]
    }
   ],
   "source": [
    "# Note: Detector was trained with adversarial samples generated using eps = 0.2\n",
    "\n",
    "eps_range = [0.01, 0.02, 0.03, 0.04, 0.05, 0.1, 0.2, 0.3, 0.4, 0.5, 0.6, 0.7, 0.8, 0.9]\n",
    "nb_flag_adv = []      # Number of adversarial examples flagged by the detector\n",
    "nb_missclass = []     # Number of adversarial examples that fooled the classifier\n",
    "\n",
    "for eps in eps_range:\n",
    "    # Update FGSM attack with current epsilon\n",
    "    attack_fgsm.set_params(**{'eps': eps})\n",
    "\n",
    "    # Generate adversarial examples for current eps\n",
    "    x_test_adv = attack_fgsm.generate(x_test[:100])\n",
    "\n",
    "    # Count how many were flagged by the detector\n",
    "    nb_flag_adv.append(np.sum(detector.detect(x_test_adv)[1]))\n",
    "\n",
    "    # Count how many were misclassified by the classifier\n",
    "    nb_missclass.append(\n",
    "        np.sum(np.argmax(classifier.predict(x_test_adv), axis=1) != np.argmax(y_test[:100], axis=1))\n",
    "    )\n",
    "\n",
    "# Add clean data evaluation (eps=0) to the results\n",
    "eps_range = [0] + eps_range\n",
    "nb_flag_adv = [flag_original] + nb_flag_adv  # flag_original from clean data detection\n",
    "nb_missclass = [2] + nb_missclass            # 2 misclassifications in clean test subset"
   ]
  },
  {
   "cell_type": "markdown",
   "metadata": {
    "id": "ybhL7vO6AZ4J"
   },
   "source": [
    "## Plot detector performance vs. classifier errors for varying attack strengths"
   ]
  },
  {
   "cell_type": "code",
   "execution_count": 32,
   "metadata": {
    "colab": {
     "base_uri": "https://localhost:8080/",
     "height": 449
    },
    "executionInfo": {
     "elapsed": 514,
     "status": "ok",
     "timestamp": 1701726884065,
     "user": {
      "displayName": "Mujtaba Nazari",
      "userId": "16194551095817193214"
     },
     "user_tz": 360
    },
    "id": "eG_vv4TEfNh_",
    "outputId": "7260c575-f53e-434d-cfe8-6db630d4e61f"
   },
   "outputs": [
    {
     "data": {
      "image/png": "[encoded data removed]",
      "text/plain": [
       "<Figure size 640x480 with 1 Axes>"
      ]
     },
     "metadata": {},
     "output_type": "display_data"
    }
   ],
   "source": [
    "fig, ax = plt.subplots()\n",
    "\n",
    "# Plot number of adversarial samples flagged by the detector\n",
    "ax.plot(np.array(eps_range)[:10], np.array(nb_flag_adv)[:10], 'b--', label='Detector flags')\n",
    "\n",
    "# Plot number of adversarial samples misclassified by the classifier\n",
    "ax.plot(np.array(eps_range)[:10], np.array(nb_missclass)[:10], 'r--', label='Classifier errors')\n",
    "\n",
    "# Customize legend\n",
    "legend = ax.legend(loc='center right', shadow=True, fontsize='large')\n",
    "legend.get_frame().set_facecolor('#00FFCC')\n",
    "\n",
    "# Add axis labels\n",
    "plt.xlabel('Attack strength (learning rate)')\n",
    "plt.ylabel('Per 100 adversarial samples')\n",
    "\n",
    "# Display the plot\n",
    "plt.show()\n"
   ]
  },
  {
   "cell_type": "markdown",
   "metadata": {
    "id": "rnT-qAUceCXT"
   },
   "source": [
    "### Summary:\n",
    "\n",
    "The Fast Gradient Sign Method (FGSM) is an adversarial attack that perturbs input data to mislead machine learning models. It generates adversarial examples by adding a small, directed perturbation to each input, calculated using the gradient of the loss function with respect to the input. The perturbation is controlled by a parameter $ϵ$, which determines the magnitude of the change. Specifically, the perturbed input is given by $x′=x+ϵ⋅sign(∇xJ(θ,x,y))$. A larger $ϵ$ increases the perturbation, making the attack more likely to succeed but potentially more noticeable."
   ]
  }
 ],
 "metadata": {
  "colab": {
   "provenance": []
  },
  "kernelspec": {
   "display_name": "sec-ai",
   "language": "python",
   "name": "python3"
  },
  "language_info": {
   "codemirror_mode": {
    "name": "ipython",
    "version": 3
   },
   "file_extension": ".py",
   "mimetype": "text/x-python",
   "name": "python",
   "nbconvert_exporter": "python",
   "pygments_lexer": "ipython3",
   "version": "3.11.13"
  }
 },
 "nbformat": 4,
 "nbformat_minor": 0
}
