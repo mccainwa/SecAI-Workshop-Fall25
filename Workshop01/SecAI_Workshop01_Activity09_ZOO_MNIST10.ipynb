{
 "cells": [
  {
   "cell_type": "markdown",
   "metadata": {
    "id": "n4BVyEpjaxuW"
   },
   "source": [
    "# **Zeroth-Order Optimization (ZOO) Attack and Binary Input Detector Using MNIST-10**"
   ]
  },
  {
   "cell_type": "markdown",
   "metadata": {
    "id": "xJifR34PaxuX"
   },
   "source": [
    "### **Zero-Order Optimization (ZOO) Attack - Overview**\n",
    "\n",
    "The Zero-Order Optimization (ZOO) attack is a black-box adversarial attack introduced by Athalye, Carlini, and Wagner in 2018. This attack targets scenarios where the attacker has no access to the model's gradients or any internal information (such as architecture or weights). In contrast to attacks like FGSM or PGD, which rely on gradient information, ZOO uses zero-order optimization to generate adversarial examples by querying the model and using the output (e.g., class probabilities) to estimate gradients indirectly.\n",
    "\n",
    "#### **Key Concepts**\n",
    "\n",
    "**1. Black-box Attack**: The attacker only has access to the model’s outputs (e.g., logits or probabilities) for different inputs, without any access to the model's parameters, gradients, or internal structure.\n",
    "\n",
    "**2. Zero-Order Optimization**: Instead of computing gradients directly, ZOO estimates the gradient using finite differences based on model queries. This is a numerical method where the gradient is approximated by observing how small changes to the input affect the output.\n",
    "\n",
    "**3. Adversarial Example**: A perturbation of the input that is designed to make the model misclassify the input while keeping the perturbation imperceptible to humans.\n",
    "\n",
    "#### **How Zero-Order Optimization (ZOO) Works**\n",
    "\n",
    "The ZOO attack formulates the generation of adversarial examples as an optimization problem. The main goal is to find an input perturbation $δ$ that minimizes the loss or maximizes the misclassification score. This perturbation is computed using an optimization procedure, where the gradients are approximated using finite differences, i.e., by querying the model multiple times with perturbed inputs.\n",
    "The ZOO Attack Formulation\n",
    "\n",
    "#### **The ZOO attack optimizes the following objective function:**\n",
    "$$L(x_{adv},x)=E[Loss(f(x_{adv}),y)]+λ⋅∥x_{adv}−x∥_{p}$$\n",
    "\n",
    "Where:\n",
    "\n",
    "* $x_{adv}$​ is the adversarial example.\n",
    "* $x$ is the original input.\n",
    "* $f(x_{adv})$ is the model's output for the adversarial input $x_{adv}$​.\n",
    "* $y$ is the true label of the original input $x$.\n",
    "* $λ$ is a regularization parameter that controls the trade-off between adversarial effectiveness and perturbation magnitude.\n",
    "* $∥x_{adv}−x∥_{p}$​ is the perturbation magnitude, typically measured using the p-norm (e.g., $p=2$ for Euclidean distance).\n",
    "\n",
    "The attack attempts to perturb $x$ to minimize this objective function, thus ensuring that the adversarial example $x_{adv}$​ causes the model to misclassify while maintaining a small perturbation.\n",
    "\n",
    "#### **Step 1: Finite Difference Gradient Estimation**\n",
    "\n",
    "Since we do not have direct access to the gradients of the model, we use finite differences to estimate the gradient. This involves querying the model multiple times with small perturbations and measuring how the outputs change in response.\n",
    "\n",
    "For an input $x$ and a perturbation vector $δ$, the gradient estimate for a particular dimension $i$ of the input is given by:\n",
    "\n",
    "$$\\hat{∇}_{i}​=\\frac{f(x + \\epsilon e_i) - f(x - \\epsilon e_i)}{2\\epsilon}​$$\n",
    "\n",
    "Where:\n",
    "\n",
    "* $\\hat{∇}_{i}$​ is the estimate of the gradient in the i-th direction.\n",
    "* $f(x)$ is the model's output (e.g., class probability or logits) for the input $x$.\n",
    "* $ϵ$ is a small perturbation (step size), and $e_{i}$​ is the unit vector along the $i$-th dimension of the input.\n",
    "* The term $f(x+ϵei)$ represents the output of the model when the input $x$ is perturbed positively along the $i$-th axis by $ϵ$.\n",
    "* The term $f(x−ϵei)$ represents the output of the model when the input $x$ is perturbed negatively along the $i$-th axis by $ϵ$.\n",
    "\n",
    "#### **Step 2: Optimization Procedure**\n",
    "\n",
    "Using these estimated gradients, the attack proceeds to optimize the perturbation $δ$ iteratively. The objective function for the optimization can be written as:\n",
    "$$L(δ)=E[Loss(f(x+δ),y)]+λ⋅∥δ∥_{p}$$\n",
    "\n",
    "\n",
    "Where:\n",
    "\n",
    "* $δ$ is the perturbation that is being optimized.\n",
    "* $f(x+δ)$ is the model’s output for the perturbed input $x+δ$.\n",
    "* $λ$ controls the trade-off between minimizing the loss (misclassification) and minimizing the magnitude of the perturbation.\n",
    "* The regularization term $∥δ∥_{p}$​ ensures that the perturbation is not too large and remains imperceptible to humans.\n",
    "\n",
    "The optimization problem is solved using an iterative algorithm like L-BFGS or Adam, which adjusts $δ$ to minimize the objective function.\n",
    "\n",
    "#### **Step 3: Querying and Perturbing the Input**\n",
    "\n",
    "For each iteration, the following steps are performed:\n",
    "\n",
    "**1. Perturb** the input $x$ by a small amount $δ$.\n",
    "\n",
    "**2. Query the model** with the perturbed inputs $x+δ$ and $x−δ$.\n",
    "\n",
    "**3. Estimate the gradient** using the finite difference method.\n",
    "\n",
    "**4. Update the perturbation** $δ$ based on the gradient information to reduce the misclassification loss while controlling the perturbation size.\n",
    "\n",
    "#### **Step 4: Generating the Adversarial Example**\n",
    "\n",
    "The attack continues until the optimization converges, i.e., until the adversarial example $x_{adv}=x+δ$ successfully misclassifies the model or the perturbation reaches the desired magnitude.\n",
    "Zero-Order Optimization (ZOO) Attack Process\n",
    "\n",
    "**1. Initialize** the original input $x$ and true label $y$.\n",
    "\n",
    "**2. Set the regularization parameter** $λ$ and perturbation size $ϵ$.\n",
    "\n",
    "**3. Iterate** over the optimization procedure:\n",
    "* Use finite differences to estimate the gradient for each dimension of the input.\n",
    "* Update the perturbation $δ$ using an optimization algorithm (e.g., L-BFGS or Adam).\n",
    "\n",
    "**4. Final adversarial example** $x_{adv}=x+δ$.\n",
    "\n",
    "#### **Strengths and Weaknesses of ZOO**\n",
    "\n",
    "**Strengths:**\n",
    "\n",
    "* **Black-box Applicability**: ZOO is designed specifically for black-box attacks, where the attacker has no access to the model's internals (e.g., weights, gradients, architecture).\n",
    "* **High Success Rate**: Despite being a black-box attack, ZOO is highly effective and can generate adversarial examples that successfully mislead the model.\n",
    "* **Versatility**: ZOO can be applied to various models and tasks (e.g., classification, regression), as long as the attacker can query the model.\n",
    "\n",
    "**Weaknesses:**\n",
    "\n",
    "* **Query Intensive**: ZOO requires many queries to estimate the gradients, making it computationally expensive, especially for high-dimensional inputs such as images.\n",
    "* **Slow Convergence**: The optimization may take time to converge, particularly when the perturbation space is large (e.g., for high-dimensional inputs such as images).\n",
    "* **Dependence on Perturbation Size**: The success of ZOO heavily depends on the choice of $ϵ$ (perturbation size). A large ϵϵ might make the perturbation visible, while a small ϵϵ might not be sufficient to fool the model."
   ]
  },
  {
   "cell_type": "markdown",
   "metadata": {
    "id": "4R7VBKHDbTA4"
   },
   "source": [
    "## **Implementation**"
   ]
  },
  {
   "cell_type": "markdown",
   "metadata": {
    "id": "GSABWwGzbQXC"
   },
   "source": [
    "This notebook demonstrates the implementation of the Zoo attack using the Adversarial Robustness Toolbox (ART) against deep learning models trained on the MNIST-10 dataset. The tasks covered in this notebook are:\n",
    "\n",
    "* Load the Required Libraries\n",
    "\n",
    "* Load the Dataset and Inspect the Data\n",
    "\n",
    "* Create a Deep Learning Model\n",
    "\n",
    "* Train and Evaluate the Deep Learning Model on MNIST Test Data\n",
    "\n",
    "* Implement ZOO Attack Using ART\n",
    "\n",
    "* Create Adversarial Samples Using the Z00 Attack\n",
    "\n",
    "* Evaluate the Deep Learning Model Against the Adversarial Samples\n",
    "\n",
    "* Create a Detector Model to Detect Adversarial Samples\n",
    "\n",
    "* Train and Evaluate the Detector Model"
   ]
  },
  {
   "cell_type": "markdown",
   "metadata": {
    "id": "UA0g_AAoaxuY"
   },
   "source": [
    "## Import and install required libaries"
   ]
  },
  {
   "cell_type": "code",
   "execution_count": null,
   "metadata": {
    "id": "PcOL9RIH6EZU"
   },
   "outputs": [],
   "source": [
    "# Install the Adversarial Robustness Toolbox for creating and evaluating adversarial attacks.\n",
    "!pip install adversarial-robustness-toolbox\n",
    "\n",
    "# Install VisualKeras for visualizing model architecture with layer types and connections.\n",
    "!pip install visualkeras"
   ]
  },
  {
   "cell_type": "code",
   "execution_count": 14,
   "metadata": {
    "executionInfo": {
     "elapsed": 12090,
     "status": "ok",
     "timestamp": 1702477887012,
     "user": {
      "displayName": "Mujtaba Nazari",
      "userId": "16194551095817193214"
     },
     "user_tz": 360
    },
    "id": "NaA2YOjN6QZs",
    "outputId": "d4c06be4-ae9e-4493-9e33-79921e00c4df"
   },
   "outputs": [],
   "source": [
    "# Suppress warnings to keep the notebook output clean.\n",
    "import warnings\n",
    "warnings.filterwarnings('ignore')\n",
    "\n",
    "# Import TensorFlow and disable eager execution for compatibility with some ART components.\n",
    "import tensorflow as tf\n",
    "# tf.compat.v1.disable_eager_execution()\n",
    "\n",
    "# Import numerical and visualization libraries.\n",
    "import numpy as np\n",
    "from matplotlib import pyplot as plt\n",
    "\n",
    "# Import ART (Adversarial Robustness Toolbox) modules:\n",
    "# - KerasClassifier wraps Keras models for ART compatibility.\n",
    "# - ZooAttack is an evasion attack method.\n",
    "# - BinaryInputDetector is used to detect adversarial inputs.\n",
    "from art.estimators.classification import KerasClassifier\n",
    "from art.attacks.evasion import ZooAttack\n",
    "from art.defences.detector.evasion import BinaryInputDetector"
   ]
  },
  {
   "cell_type": "code",
   "execution_count": 2,
   "metadata": {},
   "outputs": [
    {
     "name": "stdout",
     "output_type": "stream",
     "text": [
      "3 Physical GPUs, 1 Logical GPU(s) being used.\n"
     ]
    },
    {
     "name": "stderr",
     "output_type": "stream",
     "text": [
      "I0000 00:00:1756157064.457744  180752 gpu_device.cc:2022] Created device /job:localhost/replica:0/task:0/device:GPU:0 with 22477 MB memory:  -> device: 1, name: Quadro RTX 6000, pci bus id: 0000:17:00.0, compute capability: 7.5\n"
     ]
    }
   ],
   "source": [
    "# Set only GPU:1 to be visible (index starts at 0)\n",
    "gpus = tf.config.list_physical_devices('GPU')\n",
    "if gpus:\n",
    "    try:\n",
    "        # Restrict TensorFlow to only use the second GPU\n",
    "        tf.config.set_visible_devices(gpus[1], 'GPU')\n",
    "\n",
    "        # Optionally, set memory growth to avoid pre-allocating the entire GPU\n",
    "        tf.config.experimental.set_memory_growth(gpus[1], True)\n",
    "\n",
    "        logical_gpus = tf.config.list_logical_devices('GPU')\n",
    "        print(f\"{len(gpus)} Physical GPUs, {len(logical_gpus)} Logical GPU(s) being used.\")\n",
    "    except RuntimeError as e:\n",
    "        print(e)"
   ]
  },
  {
   "cell_type": "markdown",
   "metadata": {
    "id": "XiUWkGWM7Mn2"
   },
   "source": [
    "### Load MNIST dataset"
   ]
  },
  {
   "cell_type": "code",
   "execution_count": 3,
   "metadata": {
    "colab": {
     "base_uri": "https://localhost:8080/"
    },
    "executionInfo": {
     "elapsed": 1920,
     "status": "ok",
     "timestamp": 1702477933261,
     "user": {
      "displayName": "Mujtaba Nazari",
      "userId": "16194551095817193214"
     },
     "user_tz": 360
    },
    "id": "tpw_jCNy7Sp9",
    "outputId": "a5e6c69a-f030-4ebe-9701-bfd4ff25b31a"
   },
   "outputs": [
    {
     "data": {
      "text/plain": [
       "((60000, 28, 28),\n",
       " (60000,),\n",
       " (10000, 28, 28),\n",
       " (10000,),\n",
       " np.float32(0.0),\n",
       " np.float32(1.0))"
      ]
     },
     "execution_count": 3,
     "metadata": {},
     "output_type": "execute_result"
    }
   ],
   "source": [
    "# Load MNIST dataset from TensorFlow's built-in datasets.\n",
    "(x_train, y_train), (x_test, y_test) = tf.keras.datasets.mnist.load_data()\n",
    "\n",
    "# Normalize pixel values to the range [0, 1].\n",
    "x_train = x_train.astype(\"float32\") / 255.0\n",
    "x_test = x_test.astype(\"float32\") / 255.0\n",
    "\n",
    "# Get minimum and maximum pixel values (should be 0.0 and 1.0 after normalization).\n",
    "min_val = x_train.min()\n",
    "max_val = x_train.max()\n",
    "\n",
    "# Output dataset shapes and value range for verification.\n",
    "x_train.shape, y_train.shape, x_test.shape, y_test.shape, min_val, max_val"
   ]
  },
  {
   "cell_type": "markdown",
   "metadata": {
    "id": "0vkmOb8R7hLh"
   },
   "source": [
    "\n",
    "\n",
    "Have a look at the data!\n"
   ]
  },
  {
   "cell_type": "code",
   "execution_count": 4,
   "metadata": {
    "colab": {
     "base_uri": "https://localhost:8080/",
     "height": 577
    },
    "executionInfo": {
     "elapsed": 2407,
     "status": "ok",
     "timestamp": 1702477938551,
     "user": {
      "displayName": "Mujtaba Nazari",
      "userId": "16194551095817193214"
     },
     "user_tz": 360
    },
    "id": "hy2vKXLV7jb0",
    "outputId": "56454ec8-ca75-43ba-ffdc-18698e6559c3"
   },
   "outputs": [
    {
     "data": {
      "image/png": "[encoded data removed]",
      "text/plain": [
       "<Figure size 1500x700 with 10 Axes>"
      ]
     },
     "metadata": {},
     "output_type": "display_data"
    }
   ],
   "source": [
    "# Plot 10 sample images from the training set with their corresponding labels.\n",
    "fig, ax = plt.subplots(2, 5, figsize=(15, 7))\n",
    "ax = ax.flatten()\n",
    "\n",
    "# Display one example image for each digit label from 0 to 9.\n",
    "for i in range(10):\n",
    "    # Get the first image corresponding to label i\n",
    "    img_idx = np.argwhere(y_train == i)[0][0]\n",
    "    ax[i].imshow(x_train[img_idx], cmap='gray_r')\n",
    "    ax[i].set_title(f\"Label: {i}\", fontsize=12)\n",
    "    ax[i].axis('off')"
   ]
  },
  {
   "cell_type": "markdown",
   "metadata": {
    "id": "zcgZr2HfdG6o"
   },
   "source": [
    "### Reshape and one-hot encode the data"
   ]
  },
  {
   "cell_type": "code",
   "execution_count": 5,
   "metadata": {
    "id": "Yh6uMAHuaxub"
   },
   "outputs": [],
   "source": [
    "# Number of output classes (digits 0 through 9).\n",
    "nb_classes = 10\n",
    "\n",
    "# One-hot encode the labels for training and testing sets.\n",
    "y_train = tf.keras.utils.to_categorical(y_train, num_classes=nb_classes)\n",
    "y_test = tf.keras.utils.to_categorical(y_test, num_classes=nb_classes)\n",
    "\n",
    "# Expand image dimensions to add a channel axis (from [28, 28] to [28, 28, 1]).\n",
    "x_train = np.expand_dims(x_train, axis=-1)\n",
    "x_test = np.expand_dims(x_test, axis=-1)"
   ]
  },
  {
   "cell_type": "markdown",
   "metadata": {
    "id": "kyd6K3W8eGDp"
   },
   "source": [
    "## **Model Training**"
   ]
  },
  {
   "cell_type": "markdown",
   "metadata": {
    "id": "WrDFMofhAwi3"
   },
   "source": [
    "#### **Model Description**\n",
    "\n",
    "This convolutional neural network (CNN) is designed for image classification tasks. It consists of several layers that progressively extract features from the input images and classify them into one of 10 categories.\n",
    "\n",
    "1. Input Layer: The model accepts input images of shape (28, 28, 1).\n",
    "2. Convolutional Layers:\n",
    "    * First Conv Layer: 32 filters of size (3x3), activated by ReLU, followed by max pooling (2x2).\n",
    "    * Second Conv Layer: 64 filters of size (3x3), activated by ReLU, followed by max pooling (2x2).\n",
    "    * Third Conv Layer: 128 filters of size (3x3), activated by ReLU, followed by max pooling (2x2).\n",
    "3. Flatten Layer: Converts the 2D feature maps to a 1D feature vector.\n",
    "4. Dense Layer: Fully connected layer with 128 neurons, activated by ReLU, and includes a dropout of 20% to prevent overfitting.\n",
    "5. Output Layer: 10 neurons with softmax activation to classify the input image into one of the 10 categories.\n",
    "\n",
    "The model is compiled with the Adam optimizer and uses categorical cross-entropy loss, with accuracy as the performance metric."
   ]
  },
  {
   "cell_type": "code",
   "execution_count": 7,
   "metadata": {
    "id": "JiwX-L0Iaxuc"
   },
   "outputs": [],
   "source": [
    "# Define a sequential Convolutional Neural Network (CNN) model.\n",
    "model = tf.keras.models.Sequential([\n",
    "    # First convolutional block: Conv → ReLU → MaxPooling\n",
    "    # tf.keras.layers.InputLayer(input_shape=(28, 28, 1)),\n",
    "    tf.keras.layers.Conv2D(32, kernel_size=(3, 3), activation='relu', input_shape=(28, 28, 1)),\n",
    "    tf.keras.layers.MaxPooling2D(pool_size=(2, 2)),\n",
    "\n",
    "    # Second convolutional block\n",
    "    tf.keras.layers.Conv2D(64, kernel_size=(3, 3), activation='relu', strides=1),\n",
    "    tf.keras.layers.MaxPooling2D(pool_size=(2, 2), strides=2),\n",
    "\n",
    "    # Third convolutional block\n",
    "    tf.keras.layers.Conv2D(128, kernel_size=(3, 3), activation='relu', strides=1),\n",
    "    tf.keras.layers.MaxPooling2D(pool_size=(2, 2), strides=2),\n",
    "\n",
    "    # Flatten the output to feed into dense layers\n",
    "    tf.keras.layers.Flatten(),\n",
    "\n",
    "    # Fully connected dense layer\n",
    "    tf.keras.layers.Dense(64, activation='relu'),\n",
    "    tf.keras.layers.Dropout(0.2),  # Dropout for regularization\n",
    "\n",
    "    # Output layer with softmax activation for multi-class classification\n",
    "    tf.keras.layers.Dense(10, activation='softmax')\n",
    "])\n",
    "\n",
    "# Compile the model with Adam optimizer and categorical crossentropy loss\n",
    "model.compile(\n",
    "    optimizer='adam',\n",
    "    loss='categorical_crossentropy',\n",
    "    metrics=['accuracy']\n",
    ")"
   ]
  },
  {
   "cell_type": "markdown",
   "metadata": {
    "id": "kpc3N4PvervF"
   },
   "source": [
    "### Model Summary"
   ]
  },
  {
   "cell_type": "code",
   "execution_count": 8,
   "metadata": {
    "id": "wbjzZ7LEaxuc",
    "outputId": "d1993e3b-779c-4eb2-8e89-4d455fd4d5e2"
   },
   "outputs": [
    {
     "data": {
      "text/html": [
       "<pre style=\"white-space:pre;overflow-x:auto;line-height:normal;font-family:Menlo,'DejaVu Sans Mono',consolas,'Courier New',monospace\"><span style=\"font-weight: bold\">Model: \"sequential\"</span>\n",
       "</pre>\n"
      ],
      "text/plain": [
       "\u001b[1mModel: \"sequential\"\u001b[0m\n"
      ]
     },
     "metadata": {},
     "output_type": "display_data"
    },
    {
     "data": {
      "text/html": [
       "<pre style=\"white-space:pre;overflow-x:auto;line-height:normal;font-family:Menlo,'DejaVu Sans Mono',consolas,'Courier New',monospace\">┏━━━━━━━━━━━━━━━━━━━━━━━━━━━━━━━━━┳━━━━━━━━━━━━━━━━━━━━━━━━┳━━━━━━━━━━━━━━━┓\n",
       "┃<span style=\"font-weight: bold\"> Layer (type)                    </span>┃<span style=\"font-weight: bold\"> Output Shape           </span>┃<span style=\"font-weight: bold\">       Param # </span>┃\n",
       "┡━━━━━━━━━━━━━━━━━━━━━━━━━━━━━━━━━╇━━━━━━━━━━━━━━━━━━━━━━━━╇━━━━━━━━━━━━━━━┩\n",
       "│ conv2d (<span style=\"color: #0087ff; text-decoration-color: #0087ff\">Conv2D</span>)                 │ (<span style=\"color: #00d7ff; text-decoration-color: #00d7ff\">None</span>, <span style=\"color: #00af00; text-decoration-color: #00af00\">26</span>, <span style=\"color: #00af00; text-decoration-color: #00af00\">26</span>, <span style=\"color: #00af00; text-decoration-color: #00af00\">32</span>)     │           <span style=\"color: #00af00; text-decoration-color: #00af00\">320</span> │\n",
       "├─────────────────────────────────┼────────────────────────┼───────────────┤\n",
       "│ max_pooling2d (<span style=\"color: #0087ff; text-decoration-color: #0087ff\">MaxPooling2D</span>)    │ (<span style=\"color: #00d7ff; text-decoration-color: #00d7ff\">None</span>, <span style=\"color: #00af00; text-decoration-color: #00af00\">13</span>, <span style=\"color: #00af00; text-decoration-color: #00af00\">13</span>, <span style=\"color: #00af00; text-decoration-color: #00af00\">32</span>)     │             <span style=\"color: #00af00; text-decoration-color: #00af00\">0</span> │\n",
       "├─────────────────────────────────┼────────────────────────┼───────────────┤\n",
       "│ conv2d_1 (<span style=\"color: #0087ff; text-decoration-color: #0087ff\">Conv2D</span>)               │ (<span style=\"color: #00d7ff; text-decoration-color: #00d7ff\">None</span>, <span style=\"color: #00af00; text-decoration-color: #00af00\">11</span>, <span style=\"color: #00af00; text-decoration-color: #00af00\">11</span>, <span style=\"color: #00af00; text-decoration-color: #00af00\">64</span>)     │        <span style=\"color: #00af00; text-decoration-color: #00af00\">18,496</span> │\n",
       "├─────────────────────────────────┼────────────────────────┼───────────────┤\n",
       "│ max_pooling2d_1 (<span style=\"color: #0087ff; text-decoration-color: #0087ff\">MaxPooling2D</span>)  │ (<span style=\"color: #00d7ff; text-decoration-color: #00d7ff\">None</span>, <span style=\"color: #00af00; text-decoration-color: #00af00\">5</span>, <span style=\"color: #00af00; text-decoration-color: #00af00\">5</span>, <span style=\"color: #00af00; text-decoration-color: #00af00\">64</span>)       │             <span style=\"color: #00af00; text-decoration-color: #00af00\">0</span> │\n",
       "├─────────────────────────────────┼────────────────────────┼───────────────┤\n",
       "│ conv2d_2 (<span style=\"color: #0087ff; text-decoration-color: #0087ff\">Conv2D</span>)               │ (<span style=\"color: #00d7ff; text-decoration-color: #00d7ff\">None</span>, <span style=\"color: #00af00; text-decoration-color: #00af00\">3</span>, <span style=\"color: #00af00; text-decoration-color: #00af00\">3</span>, <span style=\"color: #00af00; text-decoration-color: #00af00\">128</span>)      │        <span style=\"color: #00af00; text-decoration-color: #00af00\">73,856</span> │\n",
       "├─────────────────────────────────┼────────────────────────┼───────────────┤\n",
       "│ max_pooling2d_2 (<span style=\"color: #0087ff; text-decoration-color: #0087ff\">MaxPooling2D</span>)  │ (<span style=\"color: #00d7ff; text-decoration-color: #00d7ff\">None</span>, <span style=\"color: #00af00; text-decoration-color: #00af00\">1</span>, <span style=\"color: #00af00; text-decoration-color: #00af00\">1</span>, <span style=\"color: #00af00; text-decoration-color: #00af00\">128</span>)      │             <span style=\"color: #00af00; text-decoration-color: #00af00\">0</span> │\n",
       "├─────────────────────────────────┼────────────────────────┼───────────────┤\n",
       "│ flatten (<span style=\"color: #0087ff; text-decoration-color: #0087ff\">Flatten</span>)               │ (<span style=\"color: #00d7ff; text-decoration-color: #00d7ff\">None</span>, <span style=\"color: #00af00; text-decoration-color: #00af00\">128</span>)            │             <span style=\"color: #00af00; text-decoration-color: #00af00\">0</span> │\n",
       "├─────────────────────────────────┼────────────────────────┼───────────────┤\n",
       "│ dense (<span style=\"color: #0087ff; text-decoration-color: #0087ff\">Dense</span>)                   │ (<span style=\"color: #00d7ff; text-decoration-color: #00d7ff\">None</span>, <span style=\"color: #00af00; text-decoration-color: #00af00\">64</span>)             │         <span style=\"color: #00af00; text-decoration-color: #00af00\">8,256</span> │\n",
       "├─────────────────────────────────┼────────────────────────┼───────────────┤\n",
       "│ dropout (<span style=\"color: #0087ff; text-decoration-color: #0087ff\">Dropout</span>)               │ (<span style=\"color: #00d7ff; text-decoration-color: #00d7ff\">None</span>, <span style=\"color: #00af00; text-decoration-color: #00af00\">64</span>)             │             <span style=\"color: #00af00; text-decoration-color: #00af00\">0</span> │\n",
       "├─────────────────────────────────┼────────────────────────┼───────────────┤\n",
       "│ dense_1 (<span style=\"color: #0087ff; text-decoration-color: #0087ff\">Dense</span>)                 │ (<span style=\"color: #00d7ff; text-decoration-color: #00d7ff\">None</span>, <span style=\"color: #00af00; text-decoration-color: #00af00\">10</span>)             │           <span style=\"color: #00af00; text-decoration-color: #00af00\">650</span> │\n",
       "└─────────────────────────────────┴────────────────────────┴───────────────┘\n",
       "</pre>\n"
      ],
      "text/plain": [
       "┏━━━━━━━━━━━━━━━━━━━━━━━━━━━━━━━━━┳━━━━━━━━━━━━━━━━━━━━━━━━┳━━━━━━━━━━━━━━━┓\n",
       "┃\u001b[1m \u001b[0m\u001b[1mLayer (type)                   \u001b[0m\u001b[1m \u001b[0m┃\u001b[1m \u001b[0m\u001b[1mOutput Shape          \u001b[0m\u001b[1m \u001b[0m┃\u001b[1m \u001b[0m\u001b[1m      Param #\u001b[0m\u001b[1m \u001b[0m┃\n",
       "┡━━━━━━━━━━━━━━━━━━━━━━━━━━━━━━━━━╇━━━━━━━━━━━━━━━━━━━━━━━━╇━━━━━━━━━━━━━━━┩\n",
       "│ conv2d (\u001b[38;5;33mConv2D\u001b[0m)                 │ (\u001b[38;5;45mNone\u001b[0m, \u001b[38;5;34m26\u001b[0m, \u001b[38;5;34m26\u001b[0m, \u001b[38;5;34m32\u001b[0m)     │           \u001b[38;5;34m320\u001b[0m │\n",
       "├─────────────────────────────────┼────────────────────────┼───────────────┤\n",
       "│ max_pooling2d (\u001b[38;5;33mMaxPooling2D\u001b[0m)    │ (\u001b[38;5;45mNone\u001b[0m, \u001b[38;5;34m13\u001b[0m, \u001b[38;5;34m13\u001b[0m, \u001b[38;5;34m32\u001b[0m)     │             \u001b[38;5;34m0\u001b[0m │\n",
       "├─────────────────────────────────┼────────────────────────┼───────────────┤\n",
       "│ conv2d_1 (\u001b[38;5;33mConv2D\u001b[0m)               │ (\u001b[38;5;45mNone\u001b[0m, \u001b[38;5;34m11\u001b[0m, \u001b[38;5;34m11\u001b[0m, \u001b[38;5;34m64\u001b[0m)     │        \u001b[38;5;34m18,496\u001b[0m │\n",
       "├─────────────────────────────────┼────────────────────────┼───────────────┤\n",
       "│ max_pooling2d_1 (\u001b[38;5;33mMaxPooling2D\u001b[0m)  │ (\u001b[38;5;45mNone\u001b[0m, \u001b[38;5;34m5\u001b[0m, \u001b[38;5;34m5\u001b[0m, \u001b[38;5;34m64\u001b[0m)       │             \u001b[38;5;34m0\u001b[0m │\n",
       "├─────────────────────────────────┼────────────────────────┼───────────────┤\n",
       "│ conv2d_2 (\u001b[38;5;33mConv2D\u001b[0m)               │ (\u001b[38;5;45mNone\u001b[0m, \u001b[38;5;34m3\u001b[0m, \u001b[38;5;34m3\u001b[0m, \u001b[38;5;34m128\u001b[0m)      │        \u001b[38;5;34m73,856\u001b[0m │\n",
       "├─────────────────────────────────┼────────────────────────┼───────────────┤\n",
       "│ max_pooling2d_2 (\u001b[38;5;33mMaxPooling2D\u001b[0m)  │ (\u001b[38;5;45mNone\u001b[0m, \u001b[38;5;34m1\u001b[0m, \u001b[38;5;34m1\u001b[0m, \u001b[38;5;34m128\u001b[0m)      │             \u001b[38;5;34m0\u001b[0m │\n",
       "├─────────────────────────────────┼────────────────────────┼───────────────┤\n",
       "│ flatten (\u001b[38;5;33mFlatten\u001b[0m)               │ (\u001b[38;5;45mNone\u001b[0m, \u001b[38;5;34m128\u001b[0m)            │             \u001b[38;5;34m0\u001b[0m │\n",
       "├─────────────────────────────────┼────────────────────────┼───────────────┤\n",
       "│ dense (\u001b[38;5;33mDense\u001b[0m)                   │ (\u001b[38;5;45mNone\u001b[0m, \u001b[38;5;34m64\u001b[0m)             │         \u001b[38;5;34m8,256\u001b[0m │\n",
       "├─────────────────────────────────┼────────────────────────┼───────────────┤\n",
       "│ dropout (\u001b[38;5;33mDropout\u001b[0m)               │ (\u001b[38;5;45mNone\u001b[0m, \u001b[38;5;34m64\u001b[0m)             │             \u001b[38;5;34m0\u001b[0m │\n",
       "├─────────────────────────────────┼────────────────────────┼───────────────┤\n",
       "│ dense_1 (\u001b[38;5;33mDense\u001b[0m)                 │ (\u001b[38;5;45mNone\u001b[0m, \u001b[38;5;34m10\u001b[0m)             │           \u001b[38;5;34m650\u001b[0m │\n",
       "└─────────────────────────────────┴────────────────────────┴───────────────┘\n"
      ]
     },
     "metadata": {},
     "output_type": "display_data"
    },
    {
     "data": {
      "text/html": [
       "<pre style=\"white-space:pre;overflow-x:auto;line-height:normal;font-family:Menlo,'DejaVu Sans Mono',consolas,'Courier New',monospace\"><span style=\"font-weight: bold\"> Total params: </span><span style=\"color: #00af00; text-decoration-color: #00af00\">101,578</span> (396.79 KB)\n",
       "</pre>\n"
      ],
      "text/plain": [
       "\u001b[1m Total params: \u001b[0m\u001b[38;5;34m101,578\u001b[0m (396.79 KB)\n"
      ]
     },
     "metadata": {},
     "output_type": "display_data"
    },
    {
     "data": {
      "text/html": [
       "<pre style=\"white-space:pre;overflow-x:auto;line-height:normal;font-family:Menlo,'DejaVu Sans Mono',consolas,'Courier New',monospace\"><span style=\"font-weight: bold\"> Trainable params: </span><span style=\"color: #00af00; text-decoration-color: #00af00\">101,578</span> (396.79 KB)\n",
       "</pre>\n"
      ],
      "text/plain": [
       "\u001b[1m Trainable params: \u001b[0m\u001b[38;5;34m101,578\u001b[0m (396.79 KB)\n"
      ]
     },
     "metadata": {},
     "output_type": "display_data"
    },
    {
     "data": {
      "text/html": [
       "<pre style=\"white-space:pre;overflow-x:auto;line-height:normal;font-family:Menlo,'DejaVu Sans Mono',consolas,'Courier New',monospace\"><span style=\"font-weight: bold\"> Non-trainable params: </span><span style=\"color: #00af00; text-decoration-color: #00af00\">0</span> (0.00 B)\n",
       "</pre>\n"
      ],
      "text/plain": [
       "\u001b[1m Non-trainable params: \u001b[0m\u001b[38;5;34m0\u001b[0m (0.00 B)\n"
      ]
     },
     "metadata": {},
     "output_type": "display_data"
    }
   ],
   "source": [
    "# Print a detailed summary of the model architecture,\n",
    "# including layer types, output shapes, and number of parameters.\n",
    "model.summary()"
   ]
  },
  {
   "cell_type": "markdown",
   "metadata": {
    "id": "a68pmhC9eoV6"
   },
   "source": [
    "### Visualize the CNN Architecture"
   ]
  },
  {
   "cell_type": "code",
   "execution_count": 9,
   "metadata": {
    "id": "U7V0mc1iaxuc",
    "outputId": "da6eb759-1b19-48c4-874b-0e15953cb393"
   },
   "outputs": [
    {
     "data": {
      "image/png": "[encoded data removed]",
      "text/plain": [
       "<PIL.Image.Image image mode=RGBA size=357x413>"
      ]
     },
     "execution_count": 9,
     "metadata": {},
     "output_type": "execute_result"
    }
   ],
   "source": [
    "import visualkeras\n",
    "# Display a layered visual representation of the model architecture.\n",
    "# 'scale_xy' controls the scaling of the diagram.\n",
    "# 'legend=True' shows layer types with corresponding color codes.\n",
    "visualkeras.layered_view(model, scale_xy=10, legend=True)"
   ]
  },
  {
   "cell_type": "markdown",
   "metadata": {
    "id": "-UCGHp2IfBDc"
   },
   "source": [
    "### Visualize Model Architecture Diagram"
   ]
  },
  {
   "cell_type": "code",
   "execution_count": 10,
   "metadata": {
    "colab": {
     "base_uri": "https://localhost:8080/",
     "height": 865
    },
    "executionInfo": {
     "elapsed": 609,
     "status": "ok",
     "timestamp": 1702477976804,
     "user": {
      "displayName": "Mujtaba Nazari",
      "userId": "16194551095817193214"
     },
     "user_tz": 360
    },
    "id": "wIBlIEH08Sfi",
    "outputId": "32c378a4-c8ee-4821-a635-9c2493e0e567"
   },
   "outputs": [],
   "source": [
    "# Generate and display a plot of the model architecture,\n",
    "# showing each layer’s name and output shape.\n",
    "# tf.keras.utils.plot_model(model, show_shapes=True, dpi = 75)"
   ]
  },
  {
   "cell_type": "markdown",
   "metadata": {
    "id": "DYPA7u4Faxud"
   },
   "source": [
    "### Fit the model on training data."
   ]
  },
  {
   "cell_type": "code",
   "execution_count": null,
   "metadata": {
    "id": "QhVrIdW8axud",
    "outputId": "e754f9f1-05b6-4849-d73d-8059ccd08312"
   },
   "outputs": [
    {
     "name": "stderr",
     "output_type": "stream",
     "text": [
      "2025-01-14 15:47:43.913932: I tensorflow/core/common_runtime/gpu/gpu_device.cc:1613] Created device /job:localhost/replica:0/task:0/device:GPU:0 with 618 MB memory:  -> device: 2, name: Quadro RTX 8000, pci bus id: 0000:73:00.0, compute capability: 7.5\n",
      "2025-01-14 15:47:44.055611: I tensorflow/compiler/mlir/mlir_graph_optimization_pass.cc:357] MLIR V1 optimization pass is not enabled\n",
      "2025-01-14 15:47:44.178675: W tensorflow/c/c_api.cc:291] Operation '{name:'dense_1_1/kernel/Assign' id:338 op device:{requested: '', assigned: ''} def:{{{node dense_1_1/kernel/Assign}} = AssignVariableOp[_has_manual_control_dependencies=true, dtype=DT_FLOAT, validate_shape=false](dense_1_1/kernel, dense_1_1/kernel/Initializer/stateless_random_uniform)}}' was changed by setting attribute after it was run by a session. This mutation will have no effect, and will trigger an error in the future. Either don't modify nodes after running them or create a new session.\n",
      "2025-01-14 15:47:44.516238: W tensorflow/c/c_api.cc:291] Operation '{name:'conv2d_2_1/kernel/v/Assign' id:587 op device:{requested: '', assigned: ''} def:{{{node conv2d_2_1/kernel/v/Assign}} = AssignVariableOp[_has_manual_control_dependencies=true, dtype=DT_FLOAT, validate_shape=false](conv2d_2_1/kernel/v, conv2d_2_1/kernel/v/Initializer/zeros)}}' was changed by setting attribute after it was run by a session. This mutation will have no effect, and will trigger an error in the future. Either don't modify nodes after running them or create a new session.\n"
     ]
    }
   ],
   "source": [
    "# Train the model on the training data for 3 epochs.\n",
    "# The history object stores training metrics and loss values.\n",
    "# history = model.fit(x_train, y_train, epochs=10, batch_size=128)"
   ]
  },
  {
   "cell_type": "markdown",
   "metadata": {
    "id": "vxhzFXQChs-2"
   },
   "source": [
    "## Load or Save the Trained Model"
   ]
  },
  {
   "cell_type": "code",
   "execution_count": 11,
   "metadata": {
    "id": "nwr8gaWGiAG-"
   },
   "outputs": [
    {
     "name": "stdout",
     "output_type": "stream",
     "text": [
      "--2025-08-25 16:24:55--  https://raw.githubusercontent.com/mnazari123/SecAI_Workshop_Data/main/Models/mnist10_model.keras\n",
      "Resolving raw.githubusercontent.com (raw.githubusercontent.com)... 185.199.110.133, 185.199.111.133, 185.199.108.133, ...\n",
      "Connecting to raw.githubusercontent.com (raw.githubusercontent.com)|185.199.110.133|:443... connected.\n",
      "HTTP request sent, awaiting response... 200 OK\n",
      "Length: 1266398 (1.2M) [application/octet-stream]\n",
      "Saving to: ‘mnist10_model.keras.5’\n",
      "\n",
      "mnist10_model.keras 100%[===================>]   1.21M  --.-KB/s    in 0.1s    \n",
      "\n",
      "2025-08-25 16:24:55 (11.2 MB/s) - ‘mnist10_model.keras.5’ saved [1266398/1266398]\n",
      "\n"
     ]
    },
    {
     "data": {
      "text/html": [
       "<pre style=\"white-space:pre;overflow-x:auto;line-height:normal;font-family:Menlo,'DejaVu Sans Mono',consolas,'Courier New',monospace\"><span style=\"font-weight: bold\">Model: \"sequential\"</span>\n",
       "</pre>\n"
      ],
      "text/plain": [
       "\u001b[1mModel: \"sequential\"\u001b[0m\n"
      ]
     },
     "metadata": {},
     "output_type": "display_data"
    },
    {
     "data": {
      "text/html": [
       "<pre style=\"white-space:pre;overflow-x:auto;line-height:normal;font-family:Menlo,'DejaVu Sans Mono',consolas,'Courier New',monospace\">┏━━━━━━━━━━━━━━━━━━━━━━━━━━━━━━━━━┳━━━━━━━━━━━━━━━━━━━━━━━━┳━━━━━━━━━━━━━━━┓\n",
       "┃<span style=\"font-weight: bold\"> Layer (type)                    </span>┃<span style=\"font-weight: bold\"> Output Shape           </span>┃<span style=\"font-weight: bold\">       Param # </span>┃\n",
       "┡━━━━━━━━━━━━━━━━━━━━━━━━━━━━━━━━━╇━━━━━━━━━━━━━━━━━━━━━━━━╇━━━━━━━━━━━━━━━┩\n",
       "│ conv2d (<span style=\"color: #0087ff; text-decoration-color: #0087ff\">Conv2D</span>)                 │ (<span style=\"color: #00d7ff; text-decoration-color: #00d7ff\">None</span>, <span style=\"color: #00af00; text-decoration-color: #00af00\">26</span>, <span style=\"color: #00af00; text-decoration-color: #00af00\">26</span>, <span style=\"color: #00af00; text-decoration-color: #00af00\">32</span>)     │           <span style=\"color: #00af00; text-decoration-color: #00af00\">320</span> │\n",
       "├─────────────────────────────────┼────────────────────────┼───────────────┤\n",
       "│ max_pooling2d (<span style=\"color: #0087ff; text-decoration-color: #0087ff\">MaxPooling2D</span>)    │ (<span style=\"color: #00d7ff; text-decoration-color: #00d7ff\">None</span>, <span style=\"color: #00af00; text-decoration-color: #00af00\">13</span>, <span style=\"color: #00af00; text-decoration-color: #00af00\">13</span>, <span style=\"color: #00af00; text-decoration-color: #00af00\">32</span>)     │             <span style=\"color: #00af00; text-decoration-color: #00af00\">0</span> │\n",
       "├─────────────────────────────────┼────────────────────────┼───────────────┤\n",
       "│ conv2d_1 (<span style=\"color: #0087ff; text-decoration-color: #0087ff\">Conv2D</span>)               │ (<span style=\"color: #00d7ff; text-decoration-color: #00d7ff\">None</span>, <span style=\"color: #00af00; text-decoration-color: #00af00\">11</span>, <span style=\"color: #00af00; text-decoration-color: #00af00\">11</span>, <span style=\"color: #00af00; text-decoration-color: #00af00\">64</span>)     │        <span style=\"color: #00af00; text-decoration-color: #00af00\">18,496</span> │\n",
       "├─────────────────────────────────┼────────────────────────┼───────────────┤\n",
       "│ max_pooling2d_1 (<span style=\"color: #0087ff; text-decoration-color: #0087ff\">MaxPooling2D</span>)  │ (<span style=\"color: #00d7ff; text-decoration-color: #00d7ff\">None</span>, <span style=\"color: #00af00; text-decoration-color: #00af00\">5</span>, <span style=\"color: #00af00; text-decoration-color: #00af00\">5</span>, <span style=\"color: #00af00; text-decoration-color: #00af00\">64</span>)       │             <span style=\"color: #00af00; text-decoration-color: #00af00\">0</span> │\n",
       "├─────────────────────────────────┼────────────────────────┼───────────────┤\n",
       "│ conv2d_2 (<span style=\"color: #0087ff; text-decoration-color: #0087ff\">Conv2D</span>)               │ (<span style=\"color: #00d7ff; text-decoration-color: #00d7ff\">None</span>, <span style=\"color: #00af00; text-decoration-color: #00af00\">3</span>, <span style=\"color: #00af00; text-decoration-color: #00af00\">3</span>, <span style=\"color: #00af00; text-decoration-color: #00af00\">128</span>)      │        <span style=\"color: #00af00; text-decoration-color: #00af00\">73,856</span> │\n",
       "├─────────────────────────────────┼────────────────────────┼───────────────┤\n",
       "│ max_pooling2d_2 (<span style=\"color: #0087ff; text-decoration-color: #0087ff\">MaxPooling2D</span>)  │ (<span style=\"color: #00d7ff; text-decoration-color: #00d7ff\">None</span>, <span style=\"color: #00af00; text-decoration-color: #00af00\">1</span>, <span style=\"color: #00af00; text-decoration-color: #00af00\">1</span>, <span style=\"color: #00af00; text-decoration-color: #00af00\">128</span>)      │             <span style=\"color: #00af00; text-decoration-color: #00af00\">0</span> │\n",
       "├─────────────────────────────────┼────────────────────────┼───────────────┤\n",
       "│ flatten (<span style=\"color: #0087ff; text-decoration-color: #0087ff\">Flatten</span>)               │ (<span style=\"color: #00d7ff; text-decoration-color: #00d7ff\">None</span>, <span style=\"color: #00af00; text-decoration-color: #00af00\">128</span>)            │             <span style=\"color: #00af00; text-decoration-color: #00af00\">0</span> │\n",
       "├─────────────────────────────────┼────────────────────────┼───────────────┤\n",
       "│ dense (<span style=\"color: #0087ff; text-decoration-color: #0087ff\">Dense</span>)                   │ (<span style=\"color: #00d7ff; text-decoration-color: #00d7ff\">None</span>, <span style=\"color: #00af00; text-decoration-color: #00af00\">64</span>)             │         <span style=\"color: #00af00; text-decoration-color: #00af00\">8,256</span> │\n",
       "├─────────────────────────────────┼────────────────────────┼───────────────┤\n",
       "│ dropout (<span style=\"color: #0087ff; text-decoration-color: #0087ff\">Dropout</span>)               │ (<span style=\"color: #00d7ff; text-decoration-color: #00d7ff\">None</span>, <span style=\"color: #00af00; text-decoration-color: #00af00\">64</span>)             │             <span style=\"color: #00af00; text-decoration-color: #00af00\">0</span> │\n",
       "├─────────────────────────────────┼────────────────────────┼───────────────┤\n",
       "│ dense_1 (<span style=\"color: #0087ff; text-decoration-color: #0087ff\">Dense</span>)                 │ (<span style=\"color: #00d7ff; text-decoration-color: #00d7ff\">None</span>, <span style=\"color: #00af00; text-decoration-color: #00af00\">10</span>)             │           <span style=\"color: #00af00; text-decoration-color: #00af00\">650</span> │\n",
       "└─────────────────────────────────┴────────────────────────┴───────────────┘\n",
       "</pre>\n"
      ],
      "text/plain": [
       "┏━━━━━━━━━━━━━━━━━━━━━━━━━━━━━━━━━┳━━━━━━━━━━━━━━━━━━━━━━━━┳━━━━━━━━━━━━━━━┓\n",
       "┃\u001b[1m \u001b[0m\u001b[1mLayer (type)                   \u001b[0m\u001b[1m \u001b[0m┃\u001b[1m \u001b[0m\u001b[1mOutput Shape          \u001b[0m\u001b[1m \u001b[0m┃\u001b[1m \u001b[0m\u001b[1m      Param #\u001b[0m\u001b[1m \u001b[0m┃\n",
       "┡━━━━━━━━━━━━━━━━━━━━━━━━━━━━━━━━━╇━━━━━━━━━━━━━━━━━━━━━━━━╇━━━━━━━━━━━━━━━┩\n",
       "│ conv2d (\u001b[38;5;33mConv2D\u001b[0m)                 │ (\u001b[38;5;45mNone\u001b[0m, \u001b[38;5;34m26\u001b[0m, \u001b[38;5;34m26\u001b[0m, \u001b[38;5;34m32\u001b[0m)     │           \u001b[38;5;34m320\u001b[0m │\n",
       "├─────────────────────────────────┼────────────────────────┼───────────────┤\n",
       "│ max_pooling2d (\u001b[38;5;33mMaxPooling2D\u001b[0m)    │ (\u001b[38;5;45mNone\u001b[0m, \u001b[38;5;34m13\u001b[0m, \u001b[38;5;34m13\u001b[0m, \u001b[38;5;34m32\u001b[0m)     │             \u001b[38;5;34m0\u001b[0m │\n",
       "├─────────────────────────────────┼────────────────────────┼───────────────┤\n",
       "│ conv2d_1 (\u001b[38;5;33mConv2D\u001b[0m)               │ (\u001b[38;5;45mNone\u001b[0m, \u001b[38;5;34m11\u001b[0m, \u001b[38;5;34m11\u001b[0m, \u001b[38;5;34m64\u001b[0m)     │        \u001b[38;5;34m18,496\u001b[0m │\n",
       "├─────────────────────────────────┼────────────────────────┼───────────────┤\n",
       "│ max_pooling2d_1 (\u001b[38;5;33mMaxPooling2D\u001b[0m)  │ (\u001b[38;5;45mNone\u001b[0m, \u001b[38;5;34m5\u001b[0m, \u001b[38;5;34m5\u001b[0m, \u001b[38;5;34m64\u001b[0m)       │             \u001b[38;5;34m0\u001b[0m │\n",
       "├─────────────────────────────────┼────────────────────────┼───────────────┤\n",
       "│ conv2d_2 (\u001b[38;5;33mConv2D\u001b[0m)               │ (\u001b[38;5;45mNone\u001b[0m, \u001b[38;5;34m3\u001b[0m, \u001b[38;5;34m3\u001b[0m, \u001b[38;5;34m128\u001b[0m)      │        \u001b[38;5;34m73,856\u001b[0m │\n",
       "├─────────────────────────────────┼────────────────────────┼───────────────┤\n",
       "│ max_pooling2d_2 (\u001b[38;5;33mMaxPooling2D\u001b[0m)  │ (\u001b[38;5;45mNone\u001b[0m, \u001b[38;5;34m1\u001b[0m, \u001b[38;5;34m1\u001b[0m, \u001b[38;5;34m128\u001b[0m)      │             \u001b[38;5;34m0\u001b[0m │\n",
       "├─────────────────────────────────┼────────────────────────┼───────────────┤\n",
       "│ flatten (\u001b[38;5;33mFlatten\u001b[0m)               │ (\u001b[38;5;45mNone\u001b[0m, \u001b[38;5;34m128\u001b[0m)            │             \u001b[38;5;34m0\u001b[0m │\n",
       "├─────────────────────────────────┼────────────────────────┼───────────────┤\n",
       "│ dense (\u001b[38;5;33mDense\u001b[0m)                   │ (\u001b[38;5;45mNone\u001b[0m, \u001b[38;5;34m64\u001b[0m)             │         \u001b[38;5;34m8,256\u001b[0m │\n",
       "├─────────────────────────────────┼────────────────────────┼───────────────┤\n",
       "│ dropout (\u001b[38;5;33mDropout\u001b[0m)               │ (\u001b[38;5;45mNone\u001b[0m, \u001b[38;5;34m64\u001b[0m)             │             \u001b[38;5;34m0\u001b[0m │\n",
       "├─────────────────────────────────┼────────────────────────┼───────────────┤\n",
       "│ dense_1 (\u001b[38;5;33mDense\u001b[0m)                 │ (\u001b[38;5;45mNone\u001b[0m, \u001b[38;5;34m10\u001b[0m)             │           \u001b[38;5;34m650\u001b[0m │\n",
       "└─────────────────────────────────┴────────────────────────┴───────────────┘\n"
      ]
     },
     "metadata": {},
     "output_type": "display_data"
    },
    {
     "data": {
      "text/html": [
       "<pre style=\"white-space:pre;overflow-x:auto;line-height:normal;font-family:Menlo,'DejaVu Sans Mono',consolas,'Courier New',monospace\"><span style=\"font-weight: bold\"> Total params: </span><span style=\"color: #00af00; text-decoration-color: #00af00\">304,736</span> (1.16 MB)\n",
       "</pre>\n"
      ],
      "text/plain": [
       "\u001b[1m Total params: \u001b[0m\u001b[38;5;34m304,736\u001b[0m (1.16 MB)\n"
      ]
     },
     "metadata": {},
     "output_type": "display_data"
    },
    {
     "data": {
      "text/html": [
       "<pre style=\"white-space:pre;overflow-x:auto;line-height:normal;font-family:Menlo,'DejaVu Sans Mono',consolas,'Courier New',monospace\"><span style=\"font-weight: bold\"> Trainable params: </span><span style=\"color: #00af00; text-decoration-color: #00af00\">101,578</span> (396.79 KB)\n",
       "</pre>\n"
      ],
      "text/plain": [
       "\u001b[1m Trainable params: \u001b[0m\u001b[38;5;34m101,578\u001b[0m (396.79 KB)\n"
      ]
     },
     "metadata": {},
     "output_type": "display_data"
    },
    {
     "data": {
      "text/html": [
       "<pre style=\"white-space:pre;overflow-x:auto;line-height:normal;font-family:Menlo,'DejaVu Sans Mono',consolas,'Courier New',monospace\"><span style=\"font-weight: bold\"> Non-trainable params: </span><span style=\"color: #00af00; text-decoration-color: #00af00\">0</span> (0.00 B)\n",
       "</pre>\n"
      ],
      "text/plain": [
       "\u001b[1m Non-trainable params: \u001b[0m\u001b[38;5;34m0\u001b[0m (0.00 B)\n"
      ]
     },
     "metadata": {},
     "output_type": "display_data"
    },
    {
     "data": {
      "text/html": [
       "<pre style=\"white-space:pre;overflow-x:auto;line-height:normal;font-family:Menlo,'DejaVu Sans Mono',consolas,'Courier New',monospace\"><span style=\"font-weight: bold\"> Optimizer params: </span><span style=\"color: #00af00; text-decoration-color: #00af00\">203,158</span> (793.59 KB)\n",
       "</pre>\n"
      ],
      "text/plain": [
       "\u001b[1m Optimizer params: \u001b[0m\u001b[38;5;34m203,158\u001b[0m (793.59 KB)\n"
      ]
     },
     "metadata": {},
     "output_type": "display_data"
    }
   ],
   "source": [
    "# If you have trained your own model and want to save it, uncomment and run:\n",
    "model_path = './mnist10_model.keras'\n",
    "# model.save(model_path)\n",
    "\n",
    "# Otherwise, load the pretrained model provided (e.g., from Google Drive or HuggingFace).\n",
    "!wget https://raw.githubusercontent.com/mnazari123/SecAI_Workshop_Data/main/Models/mnist10_model.keras\n",
    "model = tf.keras.models.load_model(model_path)\n",
    "\n",
    "# Display the model architecture summary to make sure the model has successfully been loaded.\n",
    "model.summary()"
   ]
  },
  {
   "cell_type": "markdown",
   "metadata": {
    "id": "AEsRXfe4axud"
   },
   "source": [
    "### Evaluate Model Performance on Test Data"
   ]
  },
  {
   "cell_type": "code",
   "execution_count": 12,
   "metadata": {
    "id": "uL9R7mCHaxue",
    "outputId": "c5758025-d0a2-47ac-a134-cc9d7ffd8094"
   },
   "outputs": [
    {
     "name": "stderr",
     "output_type": "stream",
     "text": [
      "I0000 00:00:1756157101.815625  181163 service.cc:148] XLA service 0x7dd6d8005840 initialized for platform CUDA (this does not guarantee that XLA will be used). Devices:\n",
      "I0000 00:00:1756157101.815650  181163 service.cc:156]   StreamExecutor device (0): Quadro RTX 6000, Compute Capability 7.5\n",
      "2025-08-25 16:25:01.829732: I tensorflow/compiler/mlir/tensorflow/utils/dump_mlir_util.cc:268] disabling MLIR crash reproducer, set env var `MLIR_CRASH_REPRODUCER_DIRECTORY` to enable.\n",
      "I0000 00:00:1756157101.862177  181163 cuda_dnn.cc:529] Loaded cuDNN version 91200\n",
      "2025-08-25 16:25:02.075606: I external/local_xla/xla/service/gpu/autotuning/conv_algorithm_picker.cc:557] Omitted potentially buggy algorithm eng14{k25=0} for conv (f32[32,32,26,26]{3,2,1,0}, u8[0]{0}) custom-call(f32[32,1,28,28]{3,2,1,0}, f32[32,1,3,3]{3,2,1,0}, f32[32]{0}), window={size=3x3}, dim_labels=bf01_oi01->bf01, custom_call_target=\"__cudnn$convBiasActivationForward\", backend_config={\"cudnn_conv_backend_config\":{\"activation_mode\":\"kRelu\",\"conv_result_scale\":1,\"leakyrelu_alpha\":0,\"side_input_scale\":0},\"force_earliest_schedule\":false,\"operation_queue_id\":\"0\",\"wait_on_operation_queues\":[]}\n",
      "2025-08-25 16:25:02.116066: I external/local_xla/xla/service/gpu/autotuning/conv_algorithm_picker.cc:557] Omitted potentially buggy algorithm eng14{k25=0} for conv (f32[32,64,11,11]{3,2,1,0}, u8[0]{0}) custom-call(f32[32,32,13,13]{3,2,1,0}, f32[64,32,3,3]{3,2,1,0}, f32[64]{0}), window={size=3x3}, dim_labels=bf01_oi01->bf01, custom_call_target=\"__cudnn$convBiasActivationForward\", backend_config={\"cudnn_conv_backend_config\":{\"activation_mode\":\"kRelu\",\"conv_result_scale\":1,\"leakyrelu_alpha\":0,\"side_input_scale\":0},\"force_earliest_schedule\":false,\"operation_queue_id\":\"0\",\"wait_on_operation_queues\":[]}\n",
      "2025-08-25 16:25:02.160911: I external/local_xla/xla/service/gpu/autotuning/conv_algorithm_picker.cc:557] Omitted potentially buggy algorithm eng14{k25=0} for conv (f32[32,128,3,3]{3,2,1,0}, u8[0]{0}) custom-call(f32[32,64,5,5]{3,2,1,0}, f32[128,64,3,3]{3,2,1,0}, f32[128]{0}), window={size=3x3}, dim_labels=bf01_oi01->bf01, custom_call_target=\"__cudnn$convBiasActivationForward\", backend_config={\"cudnn_conv_backend_config\":{\"activation_mode\":\"kRelu\",\"conv_result_scale\":1,\"leakyrelu_alpha\":0,\"side_input_scale\":0},\"force_earliest_schedule\":false,\"operation_queue_id\":\"0\",\"wait_on_operation_queues\":[]}\n"
     ]
    },
    {
     "name": "stdout",
     "output_type": "stream",
     "text": [
      "\u001b[1m107/313\u001b[0m \u001b[32m━━━━━━\u001b[0m\u001b[37m━━━━━━━━━━━━━━\u001b[0m \u001b[1m0s\u001b[0m 1ms/step - accuracy: 0.9853 - loss: 0.0745 "
     ]
    },
    {
     "name": "stderr",
     "output_type": "stream",
     "text": [
      "I0000 00:00:1756157102.424511  181163 device_compiler.h:188] Compiled cluster using XLA!  This line is logged at most once for the lifetime of the process.\n"
     ]
    },
    {
     "name": "stdout",
     "output_type": "stream",
     "text": [
      "\u001b[1m298/313\u001b[0m \u001b[32m━━━━━━━━━━━━━━━━━━━\u001b[0m\u001b[37m━\u001b[0m \u001b[1m0s\u001b[0m 1ms/step - accuracy: 0.9867 - loss: 0.0717"
     ]
    },
    {
     "name": "stderr",
     "output_type": "stream",
     "text": [
      "2025-08-25 16:25:02.915466: I external/local_xla/xla/service/gpu/autotuning/conv_algorithm_picker.cc:557] Omitted potentially buggy algorithm eng14{k25=0} for conv (f32[16,32,26,26]{3,2,1,0}, u8[0]{0}) custom-call(f32[16,1,28,28]{3,2,1,0}, f32[32,1,3,3]{3,2,1,0}, f32[32]{0}), window={size=3x3}, dim_labels=bf01_oi01->bf01, custom_call_target=\"__cudnn$convBiasActivationForward\", backend_config={\"cudnn_conv_backend_config\":{\"activation_mode\":\"kRelu\",\"conv_result_scale\":1,\"leakyrelu_alpha\":0,\"side_input_scale\":0},\"force_earliest_schedule\":false,\"operation_queue_id\":\"0\",\"wait_on_operation_queues\":[]}\n",
      "2025-08-25 16:25:02.925461: I external/local_xla/xla/service/gpu/autotuning/conv_algorithm_picker.cc:557] Omitted potentially buggy algorithm eng14{k25=0} for conv (f32[16,64,11,11]{3,2,1,0}, u8[0]{0}) custom-call(f32[16,32,13,13]{3,2,1,0}, f32[64,32,3,3]{3,2,1,0}, f32[64]{0}), window={size=3x3}, dim_labels=bf01_oi01->bf01, custom_call_target=\"__cudnn$convBiasActivationForward\", backend_config={\"cudnn_conv_backend_config\":{\"activation_mode\":\"kRelu\",\"conv_result_scale\":1,\"leakyrelu_alpha\":0,\"side_input_scale\":0},\"force_earliest_schedule\":false,\"operation_queue_id\":\"0\",\"wait_on_operation_queues\":[]}\n",
      "2025-08-25 16:25:02.951902: I external/local_xla/xla/service/gpu/autotuning/conv_algorithm_picker.cc:557] Omitted potentially buggy algorithm eng14{k25=0} for conv (f32[16,128,3,3]{3,2,1,0}, u8[0]{0}) custom-call(f32[16,64,5,5]{3,2,1,0}, f32[128,64,3,3]{3,2,1,0}, f32[128]{0}), window={size=3x3}, dim_labels=bf01_oi01->bf01, custom_call_target=\"__cudnn$convBiasActivationForward\", backend_config={\"cudnn_conv_backend_config\":{\"activation_mode\":\"kRelu\",\"conv_result_scale\":1,\"leakyrelu_alpha\":0,\"side_input_scale\":0},\"force_earliest_schedule\":false,\"operation_queue_id\":\"0\",\"wait_on_operation_queues\":[]}\n"
     ]
    },
    {
     "name": "stdout",
     "output_type": "stream",
     "text": [
      "\u001b[1m313/313\u001b[0m \u001b[32m━━━━━━━━━━━━━━━━━━━━\u001b[0m\u001b[37m\u001b[0m \u001b[1m2s\u001b[0m 3ms/step - accuracy: 0.9896 - loss: 0.0567\n",
      "Accuracy on test data: 98.96%\n"
     ]
    }
   ],
   "source": [
    "# Evaluate the model on the test dataset and get loss and accuracy.\n",
    "loss_test, accuracy_test = model.evaluate(x_test, y_test)\n",
    "\n",
    "# Print the test accuracy as a percentage.\n",
    "print('Accuracy on test data: {:4.2f}%'.format(accuracy_test * 100))"
   ]
  },
  {
   "cell_type": "markdown",
   "metadata": {
    "id": "P5GqBqbqi3fl"
   },
   "source": [
    "### Wrap the Keras Model with an ART Classifier"
   ]
  },
  {
   "cell_type": "code",
   "execution_count": 13,
   "metadata": {
    "id": "yidSdFEwaxuf"
   },
   "outputs": [],
   "source": [
    "# Create an ART KerasClassifier to enable adversarial robustness tools.\n",
    "# 'clip_values' defines the input data range for normalization and attack generation.\n",
    "classifier = KerasClassifier(model=model, clip_values=(min_val, max_val))"
   ]
  },
  {
   "cell_type": "markdown",
   "metadata": {
    "id": "kRVEGgXt8FgT"
   },
   "source": [
    "# **Zeroth-Order Optimization (ZOO) Attack**"
   ]
  },
  {
   "cell_type": "markdown",
   "metadata": {
    "id": "aXPE0oYG8Lqk"
   },
   "source": [
    "## Overview\n",
    "\n",
    "> class art.attacks.evasion.ZooAttack(classifier: CLASSIFIER_TYPE, confidence: float = 0.0, targeted: bool = False, learning_rate: float = 0.01, max_iter: int = 10, binary_search_steps: int = 1, initial_const: float = 0.001, abort_early: bool = True, use_resize: bool = True, use_importance: bool = True, nb_parallel: int = 128, batch_size: int = 1, variable_h: float = 0.0001, verbose: bool = True)\n",
    "\n",
    "The black-box zeroth-order optimization attack from Pin-Yu Chen et al. (2018). This attack is a variant of the C&W attack which uses ADAM coordinate descent to perform numerical estimation of gradients.\n",
    "* Paper link: https://arxiv.org/abs/1708.03999\n",
    "\n",
    "*__init__(classifier: CLASSIFIER_TYPE, confidence: float = 0.0, targeted: bool = False, learning_rate: float = 0.01, max_iter: int = 10, binary_search_steps: int = 1, initial_const: float = 0.001, abort_early: bool = True, use_resize: bool = True, use_importance: bool = True, nb_parallel: int = 128, batch_size: int = 1, variable_h: float = 0.0001, verbose: bool = True)*\n",
    "\n",
    "**Create a ZOO attack instance.**\n",
    "\n",
    "**Parameters**\n",
    "\n",
    "* classifier – A trained classifier.\n",
    "* confidence (float) – Confidence of adversarial examples: a higher value produces examples that are farther away, from the original input, but classified with higher confidence as the target class.\n",
    "* targeted (bool) – Should the attack target one specific class.\n",
    "* learning_rate (float) – The initial learning rate for the attack algorithm. Smaller values produce better results but are slower to converge.\n",
    "* max_iter (int) – The maximum number of iterations.\n",
    "* binary_search_steps (int) – Number of times to adjust constant with binary search (positive value).\n",
    "* initial_const (float) – The initial trade-off constant c to use to tune the relative importance of distance and confidence. If binary_search_steps is large, the initial constant is not important, as discussed in Carlini and Wagner (2016).\n",
    "* abort_early (bool) – True if gradient descent should be abandoned when it gets stuck.\n",
    "* use_resize (bool) – True if to use the resizing strategy from the paper: first, compute attack on inputs resized to 32x32, then increase size if needed to 64x64, followed by 128x128.\n",
    "* use_importance (bool) – True if to use importance sampling when choosing coordinates to update.\n",
    "* nb_parallel (int) – Number of coordinate updates to run in parallel. A higher value for nb_parallel should be preferred over a large batch size.\n",
    "* batch_size (int) – Internal size of batches on which adversarial samples are generated. Small batch sizes are encouraged for ZOO, as the algorithm already runs nb_parallel coordinate updates in parallel for each sample. The batch size is a multiplier of nb_parallel in terms of memory consumption.\n",
    "* variable_h (float) – Step size for numerical estimation of derivatives.\n",
    "* verbose (bool) – Show progress bars.\n",
    "\n",
    "> generate(x: ndarray, y: Optional[ndarray] = None, **kwargs) → ndarray\n",
    "\n",
    "**Generate adversarial samples and return them in an array.**\n",
    "\n",
    "**Return type**\n",
    "* ndarray\n",
    "\n",
    "**Parameters**\n",
    "* x (ndarray) – An array with the original inputs to be attacked.\n",
    "* y – Target values (class labels) one-hot-encoded of shape (nb_samples, nb_classes) or indices of shape (nb_samples,).\n",
    "\n",
    "**Returns**\n",
    "* An array holding the adversarial examples.\n",
    "\n",
    "**Link**\n",
    "documetation: https://adversarial-robustness-toolbox.readthedocs.io/en/latest/modules/attacks/evasion.html#zeroth-order-optimization-zoo-attack\n",
    "github: https://github.com/Trusted-AI/adversarial-robustness-toolbox/blob/main/art/attacks/evasion/zoo.py"
   ]
  },
  {
   "cell_type": "markdown",
   "metadata": {
    "id": "-5gISqCcaxuf"
   },
   "source": [
    "### Create an ART ZOO attack."
   ]
  },
  {
   "cell_type": "code",
   "execution_count": 15,
   "metadata": {
    "id": "h8mRmKoY8cfU"
   },
   "outputs": [],
   "source": [
    "attack_zoo = ZooAttack(classifier = classifier,\n",
    "                       learning_rate=1.0,\n",
    "                       targeted = False,\n",
    "                       max_iter = 500,\n",
    "                       verbose = True,\n",
    "                       batch_size=32,\n",
    "                       nb_parallel=32)"
   ]
  },
  {
   "cell_type": "markdown",
   "metadata": {
    "id": "yI_tKmZpaxug"
   },
   "source": [
    "## Generate adversarial test data."
   ]
  },
  {
   "cell_type": "code",
   "execution_count": null,
   "metadata": {
    "id": "8BF1ggs9ku2n"
   },
   "outputs": [
    {
     "name": "stderr",
     "output_type": "stream",
     "text": [
      "ZOO: 100%|██████████| 16/16 [3:03:42<00:00, 688.88s/it]   \n"
     ]
    }
   ],
   "source": [
    "# Reduce test set size to 500 samples for faster adversarial generation and evaluation.\n",
    "# It took around 183 minutes to generate 500 samples. \n",
    "x_test = x_test[:500]\n",
    "y_test = y_test[:500]\n",
    "\n",
    "# Generate adversarial examples from the reduced test set using the ZOO attack.\n",
    "x_test_adv = attack_zoo.generate(x_test, y=y_test)"
   ]
  },
  {
   "cell_type": "markdown",
   "metadata": {
    "id": "1GhOfZ3ZlRIG"
   },
   "source": [
    "## Save or Load ZOO-Generated Adversarial Test Data"
   ]
  },
  {
   "cell_type": "code",
   "execution_count": 17,
   "metadata": {
    "id": "ZB49Xk2qaxug",
    "outputId": "3fedefd8-f0b1-47a2-e96e-049d136bfbac"
   },
   "outputs": [],
   "source": [
    "# Option 1: Save your newly generated adversarial test data (uncomment to use).\n",
    "zoo_data_path = 'zoo_poison_data_MNIST10_test_S500.npz'\n",
    "np.savez(zoo_data_path,\n",
    "         x_test_adv=x_test_adv, y_test_adv=y_test)\n",
    "\n",
    "# Option 2: Load previously saved adversarial test data (recommended for reuse or quick experiments).\n",
    "# Download the data file from GitHub raw URL\n",
    "# !wget https://raw.githubusercontent.com/mnazari123/SecAI_Workshop_Data/main/data/pgd_poison_data_MNIST10_test_S500.npz\n",
    "\n",
    "# x_test_data = np.load(pgd_data_path)\n",
    "# x_test_adv, y_test = x_test_data['x_test_adv'], x_test_data['y_test_adv']\n",
    "# x_test_adv.shape, y_test.shape"
   ]
  },
  {
   "cell_type": "markdown",
   "metadata": {
    "id": "zZWR3YD498H9"
   },
   "source": [
    "## Visualize Adversarial Examples and Their Predictions"
   ]
  },
  {
   "cell_type": "code",
   "execution_count": 18,
   "metadata": {
    "colab": {
     "base_uri": "https://localhost:8080/",
     "height": 598
    },
    "executionInfo": {
     "elapsed": 2560,
     "status": "ok",
     "timestamp": 1702478461593,
     "user": {
      "displayName": "Mujtaba Nazari",
      "userId": "16194551095817193214"
     },
     "user_tz": 360
    },
    "id": "-W-_o2WJ983J",
    "outputId": "bcf40642-216f-4eef-cd6d-80b00c822e1f"
   },
   "outputs": [
    {
     "name": "stderr",
     "output_type": "stream",
     "text": [
      "2025-08-26 09:28:30.960260: I external/local_xla/xla/service/gpu/autotuning/conv_algorithm_picker.cc:557] Omitted potentially buggy algorithm eng14{k25=0} for conv (f32[1,32,26,26]{3,2,1,0}, u8[0]{0}) custom-call(f32[1,1,28,28]{3,2,1,0}, f32[32,1,3,3]{3,2,1,0}, f32[32]{0}), window={size=3x3}, dim_labels=bf01_oi01->bf01, custom_call_target=\"__cudnn$convBiasActivationForward\", backend_config={\"cudnn_conv_backend_config\":{\"activation_mode\":\"kRelu\",\"conv_result_scale\":1,\"leakyrelu_alpha\":0,\"side_input_scale\":0},\"force_earliest_schedule\":false,\"operation_queue_id\":\"0\",\"wait_on_operation_queues\":[]}\n",
      "2025-08-26 09:28:30.975175: I external/local_xla/xla/service/gpu/autotuning/conv_algorithm_picker.cc:557] Omitted potentially buggy algorithm eng14{k25=0} for conv (f32[1,64,11,11]{3,2,1,0}, u8[0]{0}) custom-call(f32[1,32,13,13]{3,2,1,0}, f32[64,32,3,3]{3,2,1,0}, f32[64]{0}), window={size=3x3}, dim_labels=bf01_oi01->bf01, custom_call_target=\"__cudnn$convBiasActivationForward\", backend_config={\"cudnn_conv_backend_config\":{\"activation_mode\":\"kRelu\",\"conv_result_scale\":1,\"leakyrelu_alpha\":0,\"side_input_scale\":0},\"force_earliest_schedule\":false,\"operation_queue_id\":\"0\",\"wait_on_operation_queues\":[]}\n",
      "2025-08-26 09:28:31.012139: I external/local_xla/xla/service/gpu/autotuning/conv_algorithm_picker.cc:557] Omitted potentially buggy algorithm eng14{k25=0} for conv (f32[1,128,3,3]{3,2,1,0}, u8[0]{0}) custom-call(f32[1,64,5,5]{3,2,1,0}, f32[128,64,3,3]{3,2,1,0}, f32[128]{0}), window={size=3x3}, dim_labels=bf01_oi01->bf01, custom_call_target=\"__cudnn$convBiasActivationForward\", backend_config={\"cudnn_conv_backend_config\":{\"activation_mode\":\"kRelu\",\"conv_result_scale\":1,\"leakyrelu_alpha\":0,\"side_input_scale\":0},\"force_earliest_schedule\":false,\"operation_queue_id\":\"0\",\"wait_on_operation_queues\":[]}\n"
     ]
    },
    {
     "name": "stdout",
     "output_type": "stream",
     "text": [
      "\u001b[1m1/1\u001b[0m \u001b[32m━━━━━━━━━━━━━━━━━━━━\u001b[0m\u001b[37m\u001b[0m \u001b[1m0s\u001b[0m 378ms/step\n",
      "\u001b[1m1/1\u001b[0m \u001b[32m━━━━━━━━━━━━━━━━━━━━\u001b[0m\u001b[37m\u001b[0m \u001b[1m0s\u001b[0m 36ms/step\n",
      "\u001b[1m1/1\u001b[0m \u001b[32m━━━━━━━━━━━━━━━━━━━━\u001b[0m\u001b[37m\u001b[0m \u001b[1m0s\u001b[0m 37ms/step\n",
      "\u001b[1m1/1\u001b[0m \u001b[32m━━━━━━━━━━━━━━━━━━━━\u001b[0m\u001b[37m\u001b[0m \u001b[1m0s\u001b[0m 37ms/step\n",
      "\u001b[1m1/1\u001b[0m \u001b[32m━━━━━━━━━━━━━━━━━━━━\u001b[0m\u001b[37m\u001b[0m \u001b[1m0s\u001b[0m 37ms/step\n",
      "\u001b[1m1/1\u001b[0m \u001b[32m━━━━━━━━━━━━━━━━━━━━\u001b[0m\u001b[37m\u001b[0m \u001b[1m0s\u001b[0m 36ms/step\n",
      "\u001b[1m1/1\u001b[0m \u001b[32m━━━━━━━━━━━━━━━━━━━━\u001b[0m\u001b[37m\u001b[0m \u001b[1m0s\u001b[0m 36ms/step\n",
      "\u001b[1m1/1\u001b[0m \u001b[32m━━━━━━━━━━━━━━━━━━━━\u001b[0m\u001b[37m\u001b[0m \u001b[1m0s\u001b[0m 36ms/step\n",
      "\u001b[1m1/1\u001b[0m \u001b[32m━━━━━━━━━━━━━━━━━━━━\u001b[0m\u001b[37m\u001b[0m \u001b[1m0s\u001b[0m 36ms/step\n",
      "\u001b[1m1/1\u001b[0m \u001b[32m━━━━━━━━━━━━━━━━━━━━\u001b[0m\u001b[37m\u001b[0m \u001b[1m0s\u001b[0m 38ms/step\n"
     ]
    },
    {
     "data": {
      "image/png": "[encoded data removed]",
      "text/plain": [
       "<Figure size 1500x700 with 10 Axes>"
      ]
     },
     "metadata": {},
     "output_type": "display_data"
    }
   ],
   "source": [
    "# Display the first 10 adversarial examples along with their actual and predicted labels.\n",
    "fig, ax = plt.subplots(2, 5, figsize=(15, 7))\n",
    "ax = ax.flatten()\n",
    "\n",
    "for i, (image, label) in enumerate(zip(x_test_adv[:10], y_test[:10])):\n",
    "    # Display the adversarial image.\n",
    "    ax[i].imshow(image.squeeze(), cmap='gray_r')\n",
    "\n",
    "    # Show actual and predicted labels.\n",
    "    prediction = model.predict(np.expand_dims(image, axis=0)).argmax()\n",
    "    ax[i].set_title(f\"Actual: {label.argmax()} \\nPredicted: {prediction}\", fontsize=12)\n",
    "    ax[i].axis('off')"
   ]
  },
  {
   "cell_type": "markdown",
   "metadata": {
    "id": "Q2Wfw30YA24e"
   },
   "source": [
    "## Evaluate the Model on Adversarial Test Data"
   ]
  },
  {
   "cell_type": "code",
   "execution_count": 19,
   "metadata": {
    "id": "iWK7Tih0axug",
    "outputId": "faacdf31-02df-41a8-fcab-0aa60955f977"
   },
   "outputs": [
    {
     "name": "stdout",
     "output_type": "stream",
     "text": [
      "\u001b[1m 1/16\u001b[0m \u001b[32m━\u001b[0m\u001b[37m━━━━━━━━━━━━━━━━━━━\u001b[0m \u001b[1m0s\u001b[0m 24ms/step - accuracy: 0.9688 - loss: 0.0505"
     ]
    },
    {
     "name": "stderr",
     "output_type": "stream",
     "text": [
      "2025-08-26 09:28:45.055951: I external/local_xla/xla/service/gpu/autotuning/conv_algorithm_picker.cc:557] Omitted potentially buggy algorithm eng14{k25=0} for conv (f32[20,64,11,11]{3,2,1,0}, u8[0]{0}) custom-call(f32[20,32,13,13]{3,2,1,0}, f32[64,32,3,3]{3,2,1,0}, f32[64]{0}), window={size=3x3}, dim_labels=bf01_oi01->bf01, custom_call_target=\"__cudnn$convBiasActivationForward\", backend_config={\"cudnn_conv_backend_config\":{\"activation_mode\":\"kRelu\",\"conv_result_scale\":1,\"leakyrelu_alpha\":0,\"side_input_scale\":0},\"force_earliest_schedule\":false,\"operation_queue_id\":\"0\",\"wait_on_operation_queues\":[]}\n",
      "2025-08-26 09:28:45.082293: I external/local_xla/xla/service/gpu/autotuning/conv_algorithm_picker.cc:557] Omitted potentially buggy algorithm eng14{k25=0} for conv (f32[20,128,3,3]{3,2,1,0}, u8[0]{0}) custom-call(f32[20,64,5,5]{3,2,1,0}, f32[128,64,3,3]{3,2,1,0}, f32[128]{0}), window={size=3x3}, dim_labels=bf01_oi01->bf01, custom_call_target=\"__cudnn$convBiasActivationForward\", backend_config={\"cudnn_conv_backend_config\":{\"activation_mode\":\"kRelu\",\"conv_result_scale\":1,\"leakyrelu_alpha\":0,\"side_input_scale\":0},\"force_earliest_schedule\":false,\"operation_queue_id\":\"0\",\"wait_on_operation_queues\":[]}\n"
     ]
    },
    {
     "name": "stdout",
     "output_type": "stream",
     "text": [
      "\u001b[1m16/16\u001b[0m \u001b[32m━━━━━━━━━━━━━━━━━━━━\u001b[0m\u001b[37m\u001b[0m \u001b[1m1s\u001b[0m 33ms/step - accuracy: 0.9680 - loss: 0.0962\n",
      "Accuracy on adversarial test data: 96.80%\n",
      "Average perturbation: 0.00\n"
     ]
    }
   ],
   "source": [
    "# Evaluate model performance on adversarial examples.\n",
    "loss_test, accuracy_test = model.evaluate(x_test_adv, y_test)\n",
    "\n",
    "# Calculate the average perturbation introduced by the adversarial attack.\n",
    "perturbation = np.mean(np.abs(x_test_adv - x_test))\n",
    "\n",
    "# Print evaluation results.\n",
    "print('Accuracy on adversarial test data: {:4.2f}%'.format(accuracy_test * 100))\n",
    "print('Average perturbation: {:4.2f}'.format(perturbation))"
   ]
  },
  {
   "cell_type": "markdown",
   "metadata": {
    "id": "UCWw-2dqnwDY"
   },
   "source": [
    "# Prepare Training Data for Adversarial Sample Detector"
   ]
  },
  {
   "cell_type": "code",
   "execution_count": 20,
   "metadata": {
    "id": "a7787u8joMmq"
   },
   "outputs": [
    {
     "name": "stderr",
     "output_type": "stream",
     "text": [
      "ZOO: 100%|██████████| 16/16 [44:42<00:00, 167.65s/it]\n"
     ]
    }
   ],
   "source": [
    "# Generate new adversarial examples from a subset of the training data using PGD.\n",
    "x_train_adv = attack_zoo.generate(x_train[:500])\n",
    "nb_train = x_train[:500].shape[0]\n",
    "\n",
    "# Combine clean and adversarial samples to create a binary classification dataset for detection.\n",
    "x_train_detector = np.concatenate((x_train[:500], x_train_adv), axis=0)\n",
    "\n",
    "# Create labels: [1, 0] for clean samples, [0, 1] for adversarial samples.\n",
    "y_train_detector = np.concatenate((\n",
    "    np.array([[1, 0]] * nb_train),  # Clean\n",
    "    np.array([[0, 1]] * nb_train)   # Adversarial\n",
    "), axis=0)"
   ]
  },
  {
   "cell_type": "markdown",
   "metadata": {
    "id": "P79TEl96oWFg"
   },
   "source": [
    "##Save or Load Adversarial Detector Training Data"
   ]
  },
  {
   "cell_type": "code",
   "execution_count": 21,
   "metadata": {
    "id": "KTS36JC1oTW-"
   },
   "outputs": [],
   "source": [
    "# Option 1: Save generated clean and adversarial samples for training the detector.\n",
    "np.savez('./zoo_poison_data_MNIST10_train_S1000.npz',\n",
    "         x_train_detector=x_train_detector, y_train_detector=y_train_detector)\n",
    "\n",
    "# Option 2: Load pre-saved detector training data to avoid regeneration.\n",
    "# detector_data = np.load('./pgd_generated_data/pgd_detector_generated_MNIST10.npz')\n",
    "# x_train_detector, y_train_detector = detector_data['x_train_detector'], detector_data['y_train_detector']\n",
    "\n",
    "# Verify the shape of loaded or prepared data.\n",
    "# x_train_detector.shape, y_train_detector.shape"
   ]
  },
  {
   "cell_type": "markdown",
   "metadata": {
    "id": "DBRuTQr0aqOh"
   },
   "source": [
    "## Build a similar CNN architecture model for detecting Adversarial Inputs"
   ]
  },
  {
   "cell_type": "code",
   "execution_count": 22,
   "metadata": {
    "id": "PV5cNecwGO5n"
   },
   "outputs": [],
   "source": [
    "# Define a CNN model to detect adversarial vs. clean images (binary classification).\n",
    "detector_model = tf.keras.models.Sequential([\n",
    "    # First convolutional block\n",
    "    tf.keras.layers.Conv2D(32, kernel_size=(3, 3), activation='relu', input_shape=(28, 28, 1)),\n",
    "    tf.keras.layers.MaxPooling2D(pool_size=(2, 2)),\n",
    "\n",
    "    # Second convolutional block\n",
    "    tf.keras.layers.Conv2D(64, kernel_size=(3, 3), activation='relu', strides=1),\n",
    "    tf.keras.layers.MaxPooling2D(pool_size=(2, 2), strides=2),\n",
    "\n",
    "    # Third convolutional block\n",
    "    tf.keras.layers.Conv2D(128, kernel_size=(3, 3), activation='relu', strides=1),\n",
    "    tf.keras.layers.MaxPooling2D(pool_size=(2, 2), strides=2),\n",
    "\n",
    "    # Classification head\n",
    "    tf.keras.layers.Flatten(),\n",
    "    tf.keras.layers.Dense(128, activation='relu'),\n",
    "    tf.keras.layers.Dropout(0.2),\n",
    "    tf.keras.layers.Dense(2, activation='softmax')  # Two output classes: [clean, adversarial]\n",
    "])\n",
    "\n",
    "# Compile the detector model with Adam optimizer and categorical crossentropy loss.\n",
    "detector_model.compile(\n",
    "    optimizer='adam',\n",
    "    loss='categorical_crossentropy',\n",
    "    metrics=['accuracy']\n",
    ")"
   ]
  },
  {
   "cell_type": "markdown",
   "metadata": {
    "id": "vqs-9VjYpHeg"
   },
   "source": [
    "## Train the Adversarial Detector Model"
   ]
  },
  {
   "cell_type": "code",
   "execution_count": 23,
   "metadata": {
    "id": "w-FaodXjpGX0"
   },
   "outputs": [
    {
     "name": "stdout",
     "output_type": "stream",
     "text": [
      "Epoch 1/10\n"
     ]
    },
    {
     "name": "stderr",
     "output_type": "stream",
     "text": [
      "2025-08-26 10:27:43.526656: I external/local_xla/xla/service/gpu/autotuning/conv_algorithm_picker.cc:557] Omitted potentially buggy algorithm eng14{k25=0} for conv (f32[32,32,26,26]{3,2,1,0}, u8[0]{0}) custom-call(f32[32,1,28,28]{3,2,1,0}, f32[32,1,3,3]{3,2,1,0}, f32[32]{0}), window={size=3x3}, dim_labels=bf01_oi01->bf01, custom_call_target=\"__cudnn$convBiasActivationForward\", backend_config={\"cudnn_conv_backend_config\":{\"activation_mode\":\"kNone\",\"conv_result_scale\":1,\"leakyrelu_alpha\":0,\"side_input_scale\":0},\"force_earliest_schedule\":false,\"operation_queue_id\":\"0\",\"wait_on_operation_queues\":[]}\n",
      "2025-08-26 10:27:43.542978: I external/local_xla/xla/service/gpu/autotuning/conv_algorithm_picker.cc:557] Omitted potentially buggy algorithm eng14{k25=0} for conv (f32[32,64,11,11]{3,2,1,0}, u8[0]{0}) custom-call(f32[32,32,13,13]{3,2,1,0}, f32[64,32,3,3]{3,2,1,0}, f32[64]{0}), window={size=3x3}, dim_labels=bf01_oi01->bf01, custom_call_target=\"__cudnn$convBiasActivationForward\", backend_config={\"cudnn_conv_backend_config\":{\"activation_mode\":\"kNone\",\"conv_result_scale\":1,\"leakyrelu_alpha\":0,\"side_input_scale\":0},\"force_earliest_schedule\":false,\"operation_queue_id\":\"0\",\"wait_on_operation_queues\":[]}\n",
      "2025-08-26 10:27:43.561119: I external/local_xla/xla/service/gpu/autotuning/conv_algorithm_picker.cc:557] Omitted potentially buggy algorithm eng14{k25=0} for conv (f32[32,128,3,3]{3,2,1,0}, u8[0]{0}) custom-call(f32[32,64,5,5]{3,2,1,0}, f32[128,64,3,3]{3,2,1,0}, f32[128]{0}), window={size=3x3}, dim_labels=bf01_oi01->bf01, custom_call_target=\"__cudnn$convBiasActivationForward\", backend_config={\"cudnn_conv_backend_config\":{\"activation_mode\":\"kNone\",\"conv_result_scale\":1,\"leakyrelu_alpha\":0,\"side_input_scale\":0},\"force_earliest_schedule\":false,\"operation_queue_id\":\"0\",\"wait_on_operation_queues\":[]}\n"
     ]
    },
    {
     "name": "stdout",
     "output_type": "stream",
     "text": [
      "\u001b[1m28/32\u001b[0m \u001b[32m━━━━━━━━━━━━━━━━━\u001b[0m\u001b[37m━━━\u001b[0m \u001b[1m0s\u001b[0m 2ms/step - accuracy: 0.4782 - loss: 0.7014 "
     ]
    },
    {
     "name": "stderr",
     "output_type": "stream",
     "text": [
      "2025-08-26 10:27:44.905753: I external/local_xla/xla/service/gpu/autotuning/conv_algorithm_picker.cc:557] Omitted potentially buggy algorithm eng14{k25=0} for conv (f32[8,32,26,26]{3,2,1,0}, u8[0]{0}) custom-call(f32[8,1,28,28]{3,2,1,0}, f32[32,1,3,3]{3,2,1,0}, f32[32]{0}), window={size=3x3}, dim_labels=bf01_oi01->bf01, custom_call_target=\"__cudnn$convBiasActivationForward\", backend_config={\"cudnn_conv_backend_config\":{\"activation_mode\":\"kNone\",\"conv_result_scale\":1,\"leakyrelu_alpha\":0,\"side_input_scale\":0},\"force_earliest_schedule\":false,\"operation_queue_id\":\"0\",\"wait_on_operation_queues\":[]}\n",
      "2025-08-26 10:27:44.915057: I external/local_xla/xla/service/gpu/autotuning/conv_algorithm_picker.cc:557] Omitted potentially buggy algorithm eng14{k25=0} for conv (f32[8,64,11,11]{3,2,1,0}, u8[0]{0}) custom-call(f32[8,32,13,13]{3,2,1,0}, f32[64,32,3,3]{3,2,1,0}, f32[64]{0}), window={size=3x3}, dim_labels=bf01_oi01->bf01, custom_call_target=\"__cudnn$convBiasActivationForward\", backend_config={\"cudnn_conv_backend_config\":{\"activation_mode\":\"kNone\",\"conv_result_scale\":1,\"leakyrelu_alpha\":0,\"side_input_scale\":0},\"force_earliest_schedule\":false,\"operation_queue_id\":\"0\",\"wait_on_operation_queues\":[]}\n",
      "2025-08-26 10:27:44.938166: I external/local_xla/xla/service/gpu/autotuning/conv_algorithm_picker.cc:557] Omitted potentially buggy algorithm eng14{k25=0} for conv (f32[8,128,3,3]{3,2,1,0}, u8[0]{0}) custom-call(f32[8,64,5,5]{3,2,1,0}, f32[128,64,3,3]{3,2,1,0}, f32[128]{0}), window={size=3x3}, dim_labels=bf01_oi01->bf01, custom_call_target=\"__cudnn$convBiasActivationForward\", backend_config={\"cudnn_conv_backend_config\":{\"activation_mode\":\"kNone\",\"conv_result_scale\":1,\"leakyrelu_alpha\":0,\"side_input_scale\":0},\"force_earliest_schedule\":false,\"operation_queue_id\":\"0\",\"wait_on_operation_queues\":[]}\n"
     ]
    },
    {
     "name": "stdout",
     "output_type": "stream",
     "text": [
      "\u001b[1m32/32\u001b[0m \u001b[32m━━━━━━━━━━━━━━━━━━━━\u001b[0m\u001b[37m\u001b[0m \u001b[1m4s\u001b[0m 43ms/step - accuracy: 0.4750 - loss: 0.6997\n",
      "Epoch 2/10\n",
      "\u001b[1m32/32\u001b[0m \u001b[32m━━━━━━━━━━━━━━━━━━━━\u001b[0m\u001b[37m\u001b[0m \u001b[1m0s\u001b[0m 3ms/step - accuracy: 0.4650 - loss: 0.6954\n",
      "Epoch 3/10\n",
      "\u001b[1m32/32\u001b[0m \u001b[32m━━━━━━━━━━━━━━━━━━━━\u001b[0m\u001b[37m\u001b[0m \u001b[1m0s\u001b[0m 3ms/step - accuracy: 0.4890 - loss: 0.6938\n",
      "Epoch 4/10\n",
      "\u001b[1m32/32\u001b[0m \u001b[32m━━━━━━━━━━━━━━━━━━━━\u001b[0m\u001b[37m\u001b[0m \u001b[1m0s\u001b[0m 2ms/step - accuracy: 0.4630 - loss: 0.6935\n",
      "Epoch 5/10\n",
      "\u001b[1m32/32\u001b[0m \u001b[32m━━━━━━━━━━━━━━━━━━━━\u001b[0m\u001b[37m\u001b[0m \u001b[1m0s\u001b[0m 2ms/step - accuracy: 0.4880 - loss: 0.6935\n",
      "Epoch 6/10\n",
      "\u001b[1m32/32\u001b[0m \u001b[32m━━━━━━━━━━━━━━━━━━━━\u001b[0m\u001b[37m\u001b[0m \u001b[1m0s\u001b[0m 2ms/step - accuracy: 0.5070 - loss: 0.6933\n",
      "Epoch 7/10\n",
      "\u001b[1m32/32\u001b[0m \u001b[32m━━━━━━━━━━━━━━━━━━━━\u001b[0m\u001b[37m\u001b[0m \u001b[1m0s\u001b[0m 2ms/step - accuracy: 0.4980 - loss: 0.6935\n",
      "Epoch 8/10\n",
      "\u001b[1m32/32\u001b[0m \u001b[32m━━━━━━━━━━━━━━━━━━━━\u001b[0m\u001b[37m\u001b[0m \u001b[1m0s\u001b[0m 2ms/step - accuracy: 0.4960 - loss: 0.6932\n",
      "Epoch 9/10\n",
      "\u001b[1m32/32\u001b[0m \u001b[32m━━━━━━━━━━━━━━━━━━━━\u001b[0m\u001b[37m\u001b[0m \u001b[1m0s\u001b[0m 2ms/step - accuracy: 0.5100 - loss: 0.6947\n",
      "Epoch 10/10\n",
      "\u001b[1m32/32\u001b[0m \u001b[32m━━━━━━━━━━━━━━━━━━━━\u001b[0m\u001b[37m\u001b[0m \u001b[1m0s\u001b[0m 2ms/step - accuracy: 0.5010 - loss: 0.6932\n"
     ]
    }
   ],
   "source": [
    "# Train the adversarial detector model for 3 epochs.\n",
    "# Since the goal is to distinguish between clean and adversarial inputs,\n",
    "# a few epochs (e.g., 3) are typically sufficient to learn this binary classification task.\n",
    "history = detector_model.fit(x_train_detector, y_train_detector, epochs=10)"
   ]
  },
  {
   "cell_type": "code",
   "execution_count": 24,
   "metadata": {
    "id": "D5CVPzMcpcfK"
   },
   "outputs": [
    {
     "data": {
      "text/html": [
       "<pre style=\"white-space:pre;overflow-x:auto;line-height:normal;font-family:Menlo,'DejaVu Sans Mono',consolas,'Courier New',monospace\"><span style=\"font-weight: bold\">Model: \"sequential_1\"</span>\n",
       "</pre>\n"
      ],
      "text/plain": [
       "\u001b[1mModel: \"sequential_1\"\u001b[0m\n"
      ]
     },
     "metadata": {},
     "output_type": "display_data"
    },
    {
     "data": {
      "text/html": [
       "<pre style=\"white-space:pre;overflow-x:auto;line-height:normal;font-family:Menlo,'DejaVu Sans Mono',consolas,'Courier New',monospace\">┏━━━━━━━━━━━━━━━━━━━━━━━━━━━━━━━━━┳━━━━━━━━━━━━━━━━━━━━━━━━┳━━━━━━━━━━━━━━━┓\n",
       "┃<span style=\"font-weight: bold\"> Layer (type)                    </span>┃<span style=\"font-weight: bold\"> Output Shape           </span>┃<span style=\"font-weight: bold\">       Param # </span>┃\n",
       "┡━━━━━━━━━━━━━━━━━━━━━━━━━━━━━━━━━╇━━━━━━━━━━━━━━━━━━━━━━━━╇━━━━━━━━━━━━━━━┩\n",
       "│ conv2d_3 (<span style=\"color: #0087ff; text-decoration-color: #0087ff\">Conv2D</span>)               │ (<span style=\"color: #00d7ff; text-decoration-color: #00d7ff\">None</span>, <span style=\"color: #00af00; text-decoration-color: #00af00\">26</span>, <span style=\"color: #00af00; text-decoration-color: #00af00\">26</span>, <span style=\"color: #00af00; text-decoration-color: #00af00\">32</span>)     │           <span style=\"color: #00af00; text-decoration-color: #00af00\">320</span> │\n",
       "├─────────────────────────────────┼────────────────────────┼───────────────┤\n",
       "│ max_pooling2d_3 (<span style=\"color: #0087ff; text-decoration-color: #0087ff\">MaxPooling2D</span>)  │ (<span style=\"color: #00d7ff; text-decoration-color: #00d7ff\">None</span>, <span style=\"color: #00af00; text-decoration-color: #00af00\">13</span>, <span style=\"color: #00af00; text-decoration-color: #00af00\">13</span>, <span style=\"color: #00af00; text-decoration-color: #00af00\">32</span>)     │             <span style=\"color: #00af00; text-decoration-color: #00af00\">0</span> │\n",
       "├─────────────────────────────────┼────────────────────────┼───────────────┤\n",
       "│ conv2d_4 (<span style=\"color: #0087ff; text-decoration-color: #0087ff\">Conv2D</span>)               │ (<span style=\"color: #00d7ff; text-decoration-color: #00d7ff\">None</span>, <span style=\"color: #00af00; text-decoration-color: #00af00\">11</span>, <span style=\"color: #00af00; text-decoration-color: #00af00\">11</span>, <span style=\"color: #00af00; text-decoration-color: #00af00\">64</span>)     │        <span style=\"color: #00af00; text-decoration-color: #00af00\">18,496</span> │\n",
       "├─────────────────────────────────┼────────────────────────┼───────────────┤\n",
       "│ max_pooling2d_4 (<span style=\"color: #0087ff; text-decoration-color: #0087ff\">MaxPooling2D</span>)  │ (<span style=\"color: #00d7ff; text-decoration-color: #00d7ff\">None</span>, <span style=\"color: #00af00; text-decoration-color: #00af00\">5</span>, <span style=\"color: #00af00; text-decoration-color: #00af00\">5</span>, <span style=\"color: #00af00; text-decoration-color: #00af00\">64</span>)       │             <span style=\"color: #00af00; text-decoration-color: #00af00\">0</span> │\n",
       "├─────────────────────────────────┼────────────────────────┼───────────────┤\n",
       "│ conv2d_5 (<span style=\"color: #0087ff; text-decoration-color: #0087ff\">Conv2D</span>)               │ (<span style=\"color: #00d7ff; text-decoration-color: #00d7ff\">None</span>, <span style=\"color: #00af00; text-decoration-color: #00af00\">3</span>, <span style=\"color: #00af00; text-decoration-color: #00af00\">3</span>, <span style=\"color: #00af00; text-decoration-color: #00af00\">128</span>)      │        <span style=\"color: #00af00; text-decoration-color: #00af00\">73,856</span> │\n",
       "├─────────────────────────────────┼────────────────────────┼───────────────┤\n",
       "│ max_pooling2d_5 (<span style=\"color: #0087ff; text-decoration-color: #0087ff\">MaxPooling2D</span>)  │ (<span style=\"color: #00d7ff; text-decoration-color: #00d7ff\">None</span>, <span style=\"color: #00af00; text-decoration-color: #00af00\">1</span>, <span style=\"color: #00af00; text-decoration-color: #00af00\">1</span>, <span style=\"color: #00af00; text-decoration-color: #00af00\">128</span>)      │             <span style=\"color: #00af00; text-decoration-color: #00af00\">0</span> │\n",
       "├─────────────────────────────────┼────────────────────────┼───────────────┤\n",
       "│ flatten_1 (<span style=\"color: #0087ff; text-decoration-color: #0087ff\">Flatten</span>)             │ (<span style=\"color: #00d7ff; text-decoration-color: #00d7ff\">None</span>, <span style=\"color: #00af00; text-decoration-color: #00af00\">128</span>)            │             <span style=\"color: #00af00; text-decoration-color: #00af00\">0</span> │\n",
       "├─────────────────────────────────┼────────────────────────┼───────────────┤\n",
       "│ dense_2 (<span style=\"color: #0087ff; text-decoration-color: #0087ff\">Dense</span>)                 │ (<span style=\"color: #00d7ff; text-decoration-color: #00d7ff\">None</span>, <span style=\"color: #00af00; text-decoration-color: #00af00\">128</span>)            │        <span style=\"color: #00af00; text-decoration-color: #00af00\">16,512</span> │\n",
       "├─────────────────────────────────┼────────────────────────┼───────────────┤\n",
       "│ dropout_1 (<span style=\"color: #0087ff; text-decoration-color: #0087ff\">Dropout</span>)             │ (<span style=\"color: #00d7ff; text-decoration-color: #00d7ff\">None</span>, <span style=\"color: #00af00; text-decoration-color: #00af00\">128</span>)            │             <span style=\"color: #00af00; text-decoration-color: #00af00\">0</span> │\n",
       "├─────────────────────────────────┼────────────────────────┼───────────────┤\n",
       "│ dense_3 (<span style=\"color: #0087ff; text-decoration-color: #0087ff\">Dense</span>)                 │ (<span style=\"color: #00d7ff; text-decoration-color: #00d7ff\">None</span>, <span style=\"color: #00af00; text-decoration-color: #00af00\">2</span>)              │           <span style=\"color: #00af00; text-decoration-color: #00af00\">258</span> │\n",
       "└─────────────────────────────────┴────────────────────────┴───────────────┘\n",
       "</pre>\n"
      ],
      "text/plain": [
       "┏━━━━━━━━━━━━━━━━━━━━━━━━━━━━━━━━━┳━━━━━━━━━━━━━━━━━━━━━━━━┳━━━━━━━━━━━━━━━┓\n",
       "┃\u001b[1m \u001b[0m\u001b[1mLayer (type)                   \u001b[0m\u001b[1m \u001b[0m┃\u001b[1m \u001b[0m\u001b[1mOutput Shape          \u001b[0m\u001b[1m \u001b[0m┃\u001b[1m \u001b[0m\u001b[1m      Param #\u001b[0m\u001b[1m \u001b[0m┃\n",
       "┡━━━━━━━━━━━━━━━━━━━━━━━━━━━━━━━━━╇━━━━━━━━━━━━━━━━━━━━━━━━╇━━━━━━━━━━━━━━━┩\n",
       "│ conv2d_3 (\u001b[38;5;33mConv2D\u001b[0m)               │ (\u001b[38;5;45mNone\u001b[0m, \u001b[38;5;34m26\u001b[0m, \u001b[38;5;34m26\u001b[0m, \u001b[38;5;34m32\u001b[0m)     │           \u001b[38;5;34m320\u001b[0m │\n",
       "├─────────────────────────────────┼────────────────────────┼───────────────┤\n",
       "│ max_pooling2d_3 (\u001b[38;5;33mMaxPooling2D\u001b[0m)  │ (\u001b[38;5;45mNone\u001b[0m, \u001b[38;5;34m13\u001b[0m, \u001b[38;5;34m13\u001b[0m, \u001b[38;5;34m32\u001b[0m)     │             \u001b[38;5;34m0\u001b[0m │\n",
       "├─────────────────────────────────┼────────────────────────┼───────────────┤\n",
       "│ conv2d_4 (\u001b[38;5;33mConv2D\u001b[0m)               │ (\u001b[38;5;45mNone\u001b[0m, \u001b[38;5;34m11\u001b[0m, \u001b[38;5;34m11\u001b[0m, \u001b[38;5;34m64\u001b[0m)     │        \u001b[38;5;34m18,496\u001b[0m │\n",
       "├─────────────────────────────────┼────────────────────────┼───────────────┤\n",
       "│ max_pooling2d_4 (\u001b[38;5;33mMaxPooling2D\u001b[0m)  │ (\u001b[38;5;45mNone\u001b[0m, \u001b[38;5;34m5\u001b[0m, \u001b[38;5;34m5\u001b[0m, \u001b[38;5;34m64\u001b[0m)       │             \u001b[38;5;34m0\u001b[0m │\n",
       "├─────────────────────────────────┼────────────────────────┼───────────────┤\n",
       "│ conv2d_5 (\u001b[38;5;33mConv2D\u001b[0m)               │ (\u001b[38;5;45mNone\u001b[0m, \u001b[38;5;34m3\u001b[0m, \u001b[38;5;34m3\u001b[0m, \u001b[38;5;34m128\u001b[0m)      │        \u001b[38;5;34m73,856\u001b[0m │\n",
       "├─────────────────────────────────┼────────────────────────┼───────────────┤\n",
       "│ max_pooling2d_5 (\u001b[38;5;33mMaxPooling2D\u001b[0m)  │ (\u001b[38;5;45mNone\u001b[0m, \u001b[38;5;34m1\u001b[0m, \u001b[38;5;34m1\u001b[0m, \u001b[38;5;34m128\u001b[0m)      │             \u001b[38;5;34m0\u001b[0m │\n",
       "├─────────────────────────────────┼────────────────────────┼───────────────┤\n",
       "│ flatten_1 (\u001b[38;5;33mFlatten\u001b[0m)             │ (\u001b[38;5;45mNone\u001b[0m, \u001b[38;5;34m128\u001b[0m)            │             \u001b[38;5;34m0\u001b[0m │\n",
       "├─────────────────────────────────┼────────────────────────┼───────────────┤\n",
       "│ dense_2 (\u001b[38;5;33mDense\u001b[0m)                 │ (\u001b[38;5;45mNone\u001b[0m, \u001b[38;5;34m128\u001b[0m)            │        \u001b[38;5;34m16,512\u001b[0m │\n",
       "├─────────────────────────────────┼────────────────────────┼───────────────┤\n",
       "│ dropout_1 (\u001b[38;5;33mDropout\u001b[0m)             │ (\u001b[38;5;45mNone\u001b[0m, \u001b[38;5;34m128\u001b[0m)            │             \u001b[38;5;34m0\u001b[0m │\n",
       "├─────────────────────────────────┼────────────────────────┼───────────────┤\n",
       "│ dense_3 (\u001b[38;5;33mDense\u001b[0m)                 │ (\u001b[38;5;45mNone\u001b[0m, \u001b[38;5;34m2\u001b[0m)              │           \u001b[38;5;34m258\u001b[0m │\n",
       "└─────────────────────────────────┴────────────────────────┴───────────────┘\n"
      ]
     },
     "metadata": {},
     "output_type": "display_data"
    },
    {
     "data": {
      "text/html": [
       "<pre style=\"white-space:pre;overflow-x:auto;line-height:normal;font-family:Menlo,'DejaVu Sans Mono',consolas,'Courier New',monospace\"><span style=\"font-weight: bold\"> Total params: </span><span style=\"color: #00af00; text-decoration-color: #00af00\">328,328</span> (1.25 MB)\n",
       "</pre>\n"
      ],
      "text/plain": [
       "\u001b[1m Total params: \u001b[0m\u001b[38;5;34m328,328\u001b[0m (1.25 MB)\n"
      ]
     },
     "metadata": {},
     "output_type": "display_data"
    },
    {
     "data": {
      "text/html": [
       "<pre style=\"white-space:pre;overflow-x:auto;line-height:normal;font-family:Menlo,'DejaVu Sans Mono',consolas,'Courier New',monospace\"><span style=\"font-weight: bold\"> Trainable params: </span><span style=\"color: #00af00; text-decoration-color: #00af00\">109,442</span> (427.51 KB)\n",
       "</pre>\n"
      ],
      "text/plain": [
       "\u001b[1m Trainable params: \u001b[0m\u001b[38;5;34m109,442\u001b[0m (427.51 KB)\n"
      ]
     },
     "metadata": {},
     "output_type": "display_data"
    },
    {
     "data": {
      "text/html": [
       "<pre style=\"white-space:pre;overflow-x:auto;line-height:normal;font-family:Menlo,'DejaVu Sans Mono',consolas,'Courier New',monospace\"><span style=\"font-weight: bold\"> Non-trainable params: </span><span style=\"color: #00af00; text-decoration-color: #00af00\">0</span> (0.00 B)\n",
       "</pre>\n"
      ],
      "text/plain": [
       "\u001b[1m Non-trainable params: \u001b[0m\u001b[38;5;34m0\u001b[0m (0.00 B)\n"
      ]
     },
     "metadata": {},
     "output_type": "display_data"
    },
    {
     "data": {
      "text/html": [
       "<pre style=\"white-space:pre;overflow-x:auto;line-height:normal;font-family:Menlo,'DejaVu Sans Mono',consolas,'Courier New',monospace\"><span style=\"font-weight: bold\"> Optimizer params: </span><span style=\"color: #00af00; text-decoration-color: #00af00\">218,886</span> (855.03 KB)\n",
       "</pre>\n"
      ],
      "text/plain": [
       "\u001b[1m Optimizer params: \u001b[0m\u001b[38;5;34m218,886\u001b[0m (855.03 KB)\n"
      ]
     },
     "metadata": {},
     "output_type": "display_data"
    }
   ],
   "source": [
    "# Define path to save/load the detector model\n",
    "detector_model_path = './ZOO_detector_model_mnist10.keras'\n",
    "detector_model.save(detector_model_path)\n",
    "\n",
    "# Load the pre-trained detector model from the specified path\n",
    "# detector_model = tf.keras.models.load_model(path)\n",
    "\n",
    "# Display the model architecture to make sure the models has been loaded successfully.\n",
    "detector_model.summary()"
   ]
  },
  {
   "cell_type": "markdown",
   "metadata": {},
   "source": [
    "## Prepare test samples for the detector model"
   ]
  },
  {
   "cell_type": "code",
   "execution_count": 27,
   "metadata": {},
   "outputs": [],
   "source": [
    "# Get the number of original test samples\n",
    "nb_test = x_test.shape[0]\n",
    "\n",
    "# Combine clean and adversarial test images into one array\n",
    "x_test_detector = np.concatenate((x_test, x_test_adv), axis=0)\n",
    "\n",
    "# Create corresponding labels: [1, 0] for clean, [0, 1] for adversarial\n",
    "y_test_detector = np.concatenate((np.array([[1, 0]] * nb_test),\n",
    "                                  np.array([[0, 1]] * nb_test)), axis=0)"
   ]
  },
  {
   "cell_type": "markdown",
   "metadata": {
    "id": "E2IX1Nnkaxui"
   },
   "source": [
    "### Evaluat the result"
   ]
  },
  {
   "cell_type": "code",
   "execution_count": 28,
   "metadata": {
    "id": "-_iAjagBfPMZ"
   },
   "outputs": [
    {
     "name": "stdout",
     "output_type": "stream",
     "text": [
      "\u001b[1m 1/32\u001b[0m \u001b[37m━━━━━━━━━━━━━━━━━━━━\u001b[0m \u001b[1m11s\u001b[0m 384ms/step - accuracy: 1.0000 - loss: 0.6808"
     ]
    },
    {
     "name": "stderr",
     "output_type": "stream",
     "text": [
      "2025-08-26 10:31:00.338171: I external/local_xla/xla/service/gpu/autotuning/conv_algorithm_picker.cc:557] Omitted potentially buggy algorithm eng14{k25=0} for conv (f32[8,32,26,26]{3,2,1,0}, u8[0]{0}) custom-call(f32[8,1,28,28]{3,2,1,0}, f32[32,1,3,3]{3,2,1,0}, f32[32]{0}), window={size=3x3}, dim_labels=bf01_oi01->bf01, custom_call_target=\"__cudnn$convBiasActivationForward\", backend_config={\"cudnn_conv_backend_config\":{\"activation_mode\":\"kRelu\",\"conv_result_scale\":1,\"leakyrelu_alpha\":0,\"side_input_scale\":0},\"force_earliest_schedule\":false,\"operation_queue_id\":\"0\",\"wait_on_operation_queues\":[]}\n",
      "2025-08-26 10:31:00.348720: I external/local_xla/xla/service/gpu/autotuning/conv_algorithm_picker.cc:557] Omitted potentially buggy algorithm eng14{k25=0} for conv (f32[8,64,11,11]{3,2,1,0}, u8[0]{0}) custom-call(f32[8,32,13,13]{3,2,1,0}, f32[64,32,3,3]{3,2,1,0}, f32[64]{0}), window={size=3x3}, dim_labels=bf01_oi01->bf01, custom_call_target=\"__cudnn$convBiasActivationForward\", backend_config={\"cudnn_conv_backend_config\":{\"activation_mode\":\"kRelu\",\"conv_result_scale\":1,\"leakyrelu_alpha\":0,\"side_input_scale\":0},\"force_earliest_schedule\":false,\"operation_queue_id\":\"0\",\"wait_on_operation_queues\":[]}\n",
      "2025-08-26 10:31:00.374138: I external/local_xla/xla/service/gpu/autotuning/conv_algorithm_picker.cc:557] Omitted potentially buggy algorithm eng14{k25=0} for conv (f32[8,128,3,3]{3,2,1,0}, u8[0]{0}) custom-call(f32[8,64,5,5]{3,2,1,0}, f32[128,64,3,3]{3,2,1,0}, f32[128]{0}), window={size=3x3}, dim_labels=bf01_oi01->bf01, custom_call_target=\"__cudnn$convBiasActivationForward\", backend_config={\"cudnn_conv_backend_config\":{\"activation_mode\":\"kRelu\",\"conv_result_scale\":1,\"leakyrelu_alpha\":0,\"side_input_scale\":0},\"force_earliest_schedule\":false,\"operation_queue_id\":\"0\",\"wait_on_operation_queues\":[]}\n"
     ]
    },
    {
     "name": "stdout",
     "output_type": "stream",
     "text": [
      "\u001b[1m32/32\u001b[0m \u001b[32m━━━━━━━━━━━━━━━━━━━━\u001b[0m\u001b[37m\u001b[0m \u001b[1m1s\u001b[0m 12ms/step - accuracy: 0.5000 - loss: 0.6932 \n",
      "Accuracy on test data: 50.00%\n"
     ]
    }
   ],
   "source": [
    "# --- Evaluate the detector model on combined test data ---\n",
    "\n",
    "# Evaluate the model's performance on clean + adversarial samples\n",
    "loss_test, accuracy_test = detector_model.evaluate(x_test_detector, y_test_detector)\n",
    "\n",
    "# Print the accuracy as a percentage\n",
    "print('Accuracy on test data: {:4.2f}%'.format(accuracy_test * 100))"
   ]
  },
  {
   "cell_type": "markdown",
   "metadata": {
    "id": "60jGrYvGq_Ce"
   },
   "source": [
    "## Wrap detector model for adversarial detection"
   ]
  },
  {
   "cell_type": "code",
   "execution_count": 29,
   "metadata": {
    "id": "xCEy1GIqaxuj"
   },
   "outputs": [],
   "source": [
    "# Wrap the Keras detector model with ART's KerasClassifier\n",
    "detector_classifier = KerasClassifier(clip_values=(0.0, 0.1), model=detector_model, use_logits=False)\n",
    "\n",
    "# Create a BinaryInputDetector using the wrapped classifier\n",
    "detector = BinaryInputDetector(detector_classifier)"
   ]
  },
  {
   "cell_type": "markdown",
   "metadata": {
    "id": "1UIkF6VUrRKT"
   },
   "source": [
    "## Train the BinaryInputDetector"
   ]
  },
  {
   "cell_type": "code",
   "execution_count": 30,
   "metadata": {
    "id": "ONNjgRBAaxuj"
   },
   "outputs": [],
   "source": [
    "## Train the BinaryInputDetector\n",
    "\n",
    "# Train the detector on labeled clean and adversarial training data\n",
    "detector.fit(x_train_detector, y_train_detector, nb_epochs=3, batch_size=32)"
   ]
  },
  {
   "cell_type": "markdown",
   "metadata": {
    "id": "rTz_xom9axuj"
   },
   "source": [
    "## Evaluating the detector on adversarial data"
   ]
  },
  {
   "cell_type": "code",
   "execution_count": 32,
   "metadata": {
    "id": "4JMQGzn8axuj",
    "outputId": "8e4306c5-74cd-44aa-e7e1-d12de25c9a45"
   },
   "outputs": [
    {
     "name": "stdout",
     "output_type": "stream",
     "text": [
      "Adversarial test data (first 500 images):\n",
      "Flagged: 500\n",
      "Not flagged: 0\n"
     ]
    }
   ],
   "source": [
    "# Apply the detector to the adversarial test data\n",
    "_, is_adversarial = detector.detect(x_test_adv)\n",
    "\n",
    "# Count how many adversarial samples were flagged\n",
    "flag_adv = np.sum(is_adversarial)\n",
    "\n",
    "# Display detection results\n",
    "print(\"Adversarial test data (first 500 images):\")\n",
    "print(\"Flagged: {}\".format(flag_adv))\n",
    "print(\"Not flagged: {}\".format(500 - flag_adv))"
   ]
  },
  {
   "cell_type": "markdown",
   "metadata": {
    "id": "9OA_sJIsaxuk"
   },
   "source": [
    "## Evaluating the detector on clean (non-adversarial) data"
   ]
  },
  {
   "cell_type": "code",
   "execution_count": 34,
   "metadata": {
    "id": "2Uy1fx35axuk",
    "outputId": "3ab67786-1255-4c5a-e7fa-1df65268ccf1"
   },
   "outputs": [
    {
     "name": "stdout",
     "output_type": "stream",
     "text": [
      "Original test data (first 500 images):\n",
      "Flagged: 500\n",
      "Not flagged: 0\n"
     ]
    }
   ],
   "source": [
    "_, is_adversarial = detector.detect(x_test)\n",
    "flag_original = np.sum(is_adversarial)\n",
    "\n",
    "print(\"Original test data (first 500 images):\")\n",
    "print(\"Flagged: {}\".format(flag_original))\n",
    "print(\"Not flagged: {}\".format(500 - flag_original))"
   ]
  },
  {
   "cell_type": "markdown",
   "metadata": {
    "id": "fsEsTfVjjR59"
   },
   "source": [
    "## Evaluate the detector across different attack strengths (eps values)\n"
   ]
  },
  {
   "cell_type": "code",
   "execution_count": 35,
   "metadata": {
    "colab": {
     "base_uri": "https://localhost:8080/",
     "referenced_widgets": [
      "88a6dd536f5f409fb760f053f6dc402c",
      "26c53bba02ad4cb89f28cfbb39cdbc01",
      "31c5546cd68d49bd91ee94a6f799dba6",
      "36eae6cc6d58430da526baf940dd6866",
      "bb1da3097de4482b910b6abb5eaa5858",
      "c1966db2d95840a4959744436112df8b",
      "f65e9e236d9642de880f97e669887413",
      "4c666b74cb3949049719daec6347c289"
     ]
    },
    "executionInfo": {
     "elapsed": 680,
     "status": "ok",
     "timestamp": 1702487298642,
     "user": {
      "displayName": "Mujtaba Nazari",
      "userId": "16194551095817193214"
     },
     "user_tz": 360
    },
    "id": "l5m7Kw8ICtls",
    "outputId": "fd0a8f34-40a3-46ff-d19c-f7b8590dffbb"
   },
   "outputs": [
    {
     "name": "stderr",
     "output_type": "stream",
     "text": [
      "ZOO: 100%|██████████| 4/4 [01:46<00:00, 26.72s/it]\n",
      "ZOO: 100%|██████████| 4/4 [01:46<00:00, 26.57s/it]\n",
      "ZOO: 100%|██████████| 4/4 [01:47<00:00, 26.83s/it]\n",
      "ZOO: 100%|██████████| 4/4 [01:47<00:00, 26.77s/it]\n",
      "ZOO: 100%|██████████| 4/4 [01:46<00:00, 26.65s/it]\n",
      "ZOO: 100%|██████████| 4/4 [01:47<00:00, 26.75s/it]\n",
      "ZOO: 100%|██████████| 4/4 [01:46<00:00, 26.74s/it]\n",
      "ZOO: 100%|██████████| 4/4 [01:46<00:00, 26.59s/it]\n"
     ]
    }
   ],
   "source": [
    "# Note: Detector was trained with adversarial samples generated using learning_rate = 1.0\n",
    "\n",
    "learning_rate = [0.01, 0.02, 0.03, 0.04, 0.05, 0.1, 0.2, 0.3]\n",
    "nb_flag_adv = []      # Number of adversarial examples flagged by the detector\n",
    "nb_missclass = []     # Number of adversarial examples that fooled the classifier\n",
    "\n",
    "# Set a fixed number of optimization steps for all ZOO attacks\n",
    "attack_zoo.set_params(**{'max_iter': 10})\n",
    "\n",
    "for rate in learning_rate:\n",
    "    # Update ZOO attack with current learning rate\n",
    "    attack_zoo.set_params(**{'learning_rate': rate})\n",
    "\n",
    "    # Generate adversarial examples for current learning rate\n",
    "    x_test_adv = attack_zoo.generate(x_test[:100])\n",
    "\n",
    "    # Count how many were flagged by the detector\n",
    "    nb_flag_adv.append(np.sum(detector.detect(x_test_adv)[1]))\n",
    "\n",
    "    # Count how many were misclassified by the classifier\n",
    "    nb_missclass.append(\n",
    "        np.sum(np.argmax(classifier.predict(x_test_adv), axis=1) != np.argmax(y_test[:100], axis=1))\n",
    "    )\n",
    "\n",
    "# Add clean data evaluation (learning_rate = 0) to the results\n",
    "learning_range = [0] + learning_rate\n",
    "nb_flag_adv = [flag_original] + nb_flag_adv  # flag_original from clean data detection\n",
    "nb_missclass = [2] + nb_missclass            # 2 misclassifications in clean test subset"
   ]
  },
  {
   "cell_type": "markdown",
   "metadata": {
    "id": "-Pae2_DTAMxx"
   },
   "source": [
    "## Plot detector performance vs. classifier errors for varying attack strengths"
   ]
  },
  {
   "cell_type": "code",
   "execution_count": 40,
   "metadata": {
    "id": "zcAQcgBdaxul",
    "outputId": "5607b384-9ec1-4ea1-e7e2-84e84835a078"
   },
   "outputs": [
    {
     "data": {
      "image/png": "[encoded data removed]",
      "text/plain": [
       "<Figure size 640x480 with 1 Axes>"
      ]
     },
     "metadata": {},
     "output_type": "display_data"
    }
   ],
   "source": [
    "fig, ax = plt.subplots()\n",
    "ax.plot(np.array(learning_range)[:8], np.array(nb_flag_adv)[:8], 'b--', label='Detector flags')\n",
    "ax.plot(np.array(learning_range)[:8], np.array(nb_missclass)[:8], 'r--', label='Classifier errors')\n",
    "\n",
    "legend = ax.legend(loc='center right', shadow=True, fontsize='large')\n",
    "legend.get_frame().set_facecolor('#00FFCC')\n",
    "\n",
    "plt.xlabel('Attack strength (learning rate)')\n",
    "plt.ylabel('Per 100 adversarial samples')\n",
    "plt.show()"
   ]
  },
  {
   "cell_type": "markdown",
   "metadata": {
    "id": "lV8-wS6ka9Mq"
   },
   "source": [
    "Evaluate the adversarial generated data"
   ]
  },
  {
   "cell_type": "markdown",
   "metadata": {
    "id": "6s-ZP9HSB0R5"
   },
   "source": [
    "### **Summary**\n",
    "\n",
    "\n",
    "#### Zeroth-Order Optimization (ZOO) Attack and Binary Input Detector Using MNIST-10\n",
    "\n",
    "This notebook demonstrates the implementation of the ZOO attack using the Adversarial Robustness Toolbox (ART) against deep learning models trained on the MNIST-10 dataset. The tasks covered include:\n",
    "\n",
    "1. **Load the Required Libraries:** Import necessary Python libraries and modules, including TensorFlow/Keras and ART.\n",
    "2. **Load the Dataset and Inspect the Data:** Load and visualize the MNIST-10 dataset of handwritten digits (0-9).\n",
    "3. **Create a Deep Learning Model:** Construct a CNN to classify MNIST-10 digits, including convolutional, pooling, and fully connected layers.\n",
    "4. **Train and Evaluate the Model:** Train the CNN on MNIST-10 and evaluate its baseline accuracy on test data.\n",
    "5. **Implement ZOO Attack Using ART:** The Zeroth Order Optimization (ZOO) attack is notable for its effectiveness in black-box settings, where only the model's output is accessible.\n",
    "6. **Create Adversarial Samples Using ZOO:** Generate adversarial examples from the test images using ZOO and visually inspect them.\n",
    "7. **Evaluate Against Adversarial Samples:** Test the model's robustness by evaluating its accuracy on the adversarial samples.\n",
    "8. **Create a Detector Model:** Develop a binary classifier to detect adversarial inputs by differentiating between original and adversarial images.\n",
    "9. **Train and Evaluate the Detector:** Train the detector using a labeled dataset of original and adversarial samples, and evaluate its accuracy in identifying adversarial attacks.\n",
    "\n",
    "This summary highlights the process and key tasks involved in implementing the ZOO attack and developing a binary input detector using the MNIST-10 dataset, illustrating the importance of adversarial defenses in machine learning."
   ]
  }
 ],
 "metadata": {
  "colab": {
   "provenance": []
  },
  "kernelspec": {
   "display_name": "sec-ai",
   "language": "python",
   "name": "python3"
  },
  "language_info": {
   "codemirror_mode": {
    "name": "ipython",
    "version": 3
   },
   "file_extension": ".py",
   "mimetype": "text/x-python",
   "name": "python",
   "nbconvert_exporter": "python",
   "pygments_lexer": "ipython3",
   "version": "3.11.13"
  },
  "widgets": {
   "application/vnd.jupyter.widget-state+json": {}
  }
 },
 "nbformat": 4,
 "nbformat_minor": 0
}
