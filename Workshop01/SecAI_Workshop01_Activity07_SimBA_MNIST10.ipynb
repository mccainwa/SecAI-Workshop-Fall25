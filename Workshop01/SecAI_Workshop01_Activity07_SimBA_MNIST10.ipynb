{
 "cells": [
  {
   "cell_type": "markdown",
   "metadata": {
    "id": "Hqk9pyYKaxPw"
   },
   "source": [
    "# **Simple Black-box Adversarial Attack (SimBA) and Binary Input Detector Using MNIST-10**\n",
    "\n"
   ]
  },
  {
   "cell_type": "markdown",
   "metadata": {
    "id": "OLX0YEDnaxPx"
   },
   "source": [
    "### **Simple Black-box Adversarial Attack (SimBA) - Overview**\n",
    "\n",
    "The **Simple Black-box Adversarial Attack (SimBA)** is a method developed by **Song et al**. in 2020, designed for creating adversarial examples in a black-box setting. **Black-box** attacks refer to situations where the attacker does not have access to the model’s internal parameters (such as its architecture or weights) and can only query the model’s output for a given input.\n",
    "\n",
    "SimBA is one of the **simple yet effective** methods for black-box adversarial attacks. It aims to find adversarial examples by using **gradient estimation** methods to perturb the input in a way that maximizes the model's misclassification, without needing to know the model's gradients.\n",
    "\n",
    "The main idea behind SimBA is to perform **gradient-free optimization** using a **query-based approach**, which makes it suitable for scenarios where access to model internals (like gradients) is restricted.\n",
    "\n",
    "#### **Key Concepts:**\n",
    "\n",
    "**1. Black-box Attack:** The attacker can only observe the model's output for a given input, without knowledge of the internal architecture or parameters of the model.\n",
    "\n",
    "**2. Query-based Attack:** The attack is based on making queries to the model and observing the output (such as class probabilities or logits).\n",
    "\n",
    "**3. Gradient-free Optimization:** Unlike attacks like FGSM or PGD, SimBA does not require computing gradients directly. Instead, it estimates the gradient using **model queries** to determine which direction to perturb the input in.\n",
    "\n",
    "**4. Perturbation Strategy:** SimBA uses a local search method that perturbs the input in small steps and evaluates which perturbation maximizes the misclassification.\n",
    "\n",
    "#### **Steps in the SimBA Attack**\n",
    "\n",
    "SimBA uses a simple but effective approach to perturb the input by querying the model's output at different perturbed points and selecting the direction that maximizes the likelihood of misclassification.\n",
    "\n",
    "Here are the detailed steps involved in executing a SimBA attack:\n",
    "\n",
    "**1. Initialization:**\n",
    "\n",
    "* Start with an original input $x$ (such as an image) and its true label $y$.\n",
    "* Define a small perturbation budget $ϵ$, which controls how much the input can be perturbed.\n",
    "* Choose a specific perturbation step size (for example, $α$ which determines how much we perturb each input during each query).\n",
    "\n",
    "**2. Perturbation Process:**\n",
    "\n",
    "SimBA generates adversarial examples by perturbing the input in the following manner:\n",
    "\n",
    "* For each query, SimBA perturbs the input in each dimension (pixel, for image inputs).\n",
    "\n",
    "* At each iteration, SimBA perturbs the input by a small amount in one of two directions: positive or negative for each pixel.\n",
    "\n",
    "* Mathematically, let the original input be $x$, and suppose the perturbation applied at iteration $t$ is represented as $δ_{t}$​. The perturbed inputs for each dimension (pixel) are created as:\n",
    "$$x_{t}^{+}=x+α⋅sign(∇_{xi}) \\quad and \\quad x_{t}^{−}=x−α⋅sign(∇_{xi})$$\n",
    "\n",
    "* where $α$ is the step size, $x_{t}^{+}$ is the perturbed input with positive perturbation in the $i^{th}$ dimension, and $x_{t}^{−}$​ is the perturbed input with negative perturbation in the $i^{th}$ dimension.\n",
    "\n",
    "**3. Query and Evaluate:**\n",
    "\n",
    "For each perturbed input:\n",
    "\n",
    "* Query the model with $x_{t}^{+}​$ and $x_{t}^{−}$​ to get the corresponding outputs. These outputs could be probabilities or logits (depending on the model’s output type).\n",
    "* For classification models, SimBA queries both perturbed versions and selects the direction (positive or negative perturbation) that increases the probability of misclassification. The goal is to perturb the input in a way that increases the distance between the true class $y$ and the predicted class.\n",
    "\n",
    "**4. Selecting Perturbation Direction:**\n",
    "\n",
    "* For each perturbed direction (positive or negative), evaluate the model’s output (such as the predicted class probability). Select the perturbation direction that leads to the most significant change in the model’s output, which typically corresponds to an increase in the misclassification confidence.\n",
    "\n",
    "**5. Iterative Process:**\n",
    "\n",
    "* Repeat the above process for multiple dimensions (pixels) of the input.\n",
    "* Continue iterating the process to gradually build the adversarial perturbation that causes the model to misclassify the input. The attack typically continues until the adversarial example is successfully found or until a query budget (maximum allowed queries) is exhausted.\n",
    "\n",
    "**6. Final Adversarial Example:**\n",
    "\n",
    "* Once the attack is successful (i.e., the model misclassifies the perturbed input), the generated adversarial example $x_{adv}$​ is returned.\n",
    "\n",
    "Formula Breakdown\n",
    "\n",
    "SimBA does not explicitly use a loss function or gradient computation like gradient-based attacks (e.g., FGSM or PGD). Instead, it operates as follows:\n",
    "\n",
    "**1. Perturbation**: For each query, perturb the input in both directions for each pixel:\n",
    "$$x_{t}^{+}=x+α⋅sign(∇_{xi}) \\quad and \\quad x_{t}^{−}=x−α⋅sign(∇_{xi})$$\n",
    "    \n",
    "\n",
    "**2. Querying the Model**: Evaluate the model’s output for each perturbed input:\n",
    "\n",
    "$$\\hat{y}^{+}=Model(x_{t}^{+}) \\quad and \\quad \\hat{y}^{−}=Model(x_{t}^{−})$$\n",
    "\n",
    "Select Direction: Choose the perturbation direction based on which leads to greater misclassification:\n",
    "\n",
    "$$ \\delta_i = \\begin{cases} +\\alpha & \\text{if } \\hat{y}^{+} \\text{ leads to a greater misclassification} \\\\ -\\alpha & \\text{if } \\hat{y}^{-} \\text{ leads to a greater misclassification} \\end{cases} $$\n",
    "\n",
    "Repeat for Multiple Steps: Iterate this process until the perturbation causes the model to misclassify or until the allowed query budget is exhausted.\n",
    "\n",
    "#### **How SimBA Works During the Attack**\n",
    "\n",
    "**1. Input**: Start with the original input $x$ and its true label $y$.\n",
    "\n",
    "**2. Perturbation**: Perturb the input across multiple pixels, making small adjustments in both directions (positive and negative).\n",
    "\n",
    "**3. Query**: Query the model with both perturbed inputs and evaluate which perturbation moves the output further away from the true class, increasing the misclassification.\n",
    "\n",
    "**4. Iterate**: Repeat the perturbation process, fine-tuning the perturbation until a successful adversarial example is found or the query limit is reached.\n",
    "\n",
    "**5. Final Adversarial Example**: The result is an adversarial example $x_{adv}$​ that causes the model to misclassify the input, generated entirely from the query responses without requiring access to the model’s internal structure or gradients.\n",
    "\n",
    "#### **Strengths and Weaknesses of SimBA**\n",
    "\n",
    "**Strengths:**\n",
    "\n",
    "* **Black-box Applicability**: SimBA is designed specifically for black-box attacks, making it useful when the attacker has no access to the model's parameters or gradients.\n",
    "* **Simplicity**: The method is relatively simple to implement and does not require sophisticated optimization techniques or complex loss functions.\n",
    "* **Efficiency**: SimBA is computationally efficient, especially in situations where querying the model is relatively inexpensive, as it avoids complex optimization or gradient computation.\n",
    "\n",
    "**Weaknesses:**\n",
    "\n",
    "* **Query Budget Limitation**: Since SimBA is a query-based attack, the number of queries to the model is a critical factor. If the query budget is limited, the attack may not succeed, especially for high-dimensional inputs (like images).\n",
    "* **Effectiveness**: While SimBA is effective in many cases, its performance may not be as strong as gradient-based methods in some scenarios, especially if the model is robust to certain types of perturbations.\n",
    "* **Dimensionality Issues**: In cases where the input data is high-dimensional (e.g., images with many pixels), SimBA might need a large number of queries to perturb a sufficient number of pixels to cause misclassification."
   ]
  },
  {
   "cell_type": "markdown",
   "metadata": {
    "id": "dqF_08UKbg4D"
   },
   "source": [
    "## **Implementation**"
   ]
  },
  {
   "cell_type": "markdown",
   "metadata": {
    "id": "swgdShTrbgEy"
   },
   "source": [
    "This notebook demonstrates the implementation of the SimBA attack using the Adversarial Robustness Toolbox (ART) against deep learning models trained on the MNIST-10 dataset. The tasks covered in this notebook are:\n",
    "\n",
    "* Load the Required Libraries\n",
    "* Load the Dataset and Inspect the Data\n",
    "* Create a Deep Learning Model\n",
    "* Train and Evaluate the Deep Learning Model on MNIST Test Data\n",
    "* Implement SimBA Attack Using ART\n",
    "* Create Adversarial Samples Using the SimBA Attack\n",
    "* Evaluate the Deep Learning Model Against the Adversarial Samples\n",
    "* Create a Detector Model to Detect Adversarial Samples\n",
    "* Train and Evaluate the Detector Model"
   ]
  },
  {
   "cell_type": "markdown",
   "metadata": {
    "id": "My-kRpxGaxPy"
   },
   "source": [
    "## Install and load required libraries"
   ]
  },
  {
   "cell_type": "code",
   "execution_count": null,
   "metadata": {
    "id": "PcOL9RIH6EZU"
   },
   "outputs": [],
   "source": [
    "# Install the Adversarial Robustness Toolbox for creating and evaluating adversarial attacks.\n",
    "!pip install adversarial-robustness-toolbox\n",
    "\n",
    "# Install VisualKeras for visualizing model architecture with layer types and connections.\n",
    "!pip install visualkeras"
   ]
  },
  {
   "cell_type": "code",
   "execution_count": 16,
   "metadata": {
    "id": "NaA2YOjN6QZs"
   },
   "outputs": [],
   "source": [
    "# Suppress warnings to keep the notebook output clean.\n",
    "import warnings\n",
    "warnings.filterwarnings('ignore')\n",
    "\n",
    "# Import TensorFlow and disable eager execution for compatibility with some ART components.\n",
    "import tensorflow as tf\n",
    "# tf.compat.v1.disable_eager_execution()\n",
    "\n",
    "# Import numerical and visualization libraries.\n",
    "import numpy as np\n",
    "from matplotlib import pyplot as plt\n",
    "\n",
    "# Import ART (Adversarial Robustness Toolbox) modules:\n",
    "# - KerasClassifier wraps Keras models for ART compatibility.\n",
    "# - SimBA is an evasion attack method.\n",
    "# - BinaryInputDetector is used to detect adversarial inputs.\n",
    "from art.estimators.classification import KerasClassifier\n",
    "from art.attacks.evasion import SimBA\n",
    "from art.defences.detector.evasion import BinaryInputDetector"
   ]
  },
  {
   "cell_type": "code",
   "execution_count": 2,
   "metadata": {},
   "outputs": [
    {
     "name": "stdout",
     "output_type": "stream",
     "text": [
      "3 Physical GPUs, 1 Logical GPU(s) being used.\n"
     ]
    },
    {
     "name": "stderr",
     "output_type": "stream",
     "text": [
      "I0000 00:00:1756157228.452321  182057 gpu_device.cc:2022] Created device /job:localhost/replica:0/task:0/device:GPU:0 with 45760 MB memory:  -> device: 2, name: Quadro RTX 8000, pci bus id: 0000:73:00.0, compute capability: 7.5\n"
     ]
    }
   ],
   "source": [
    "# Set only GPU:1 to be visible (index starts at 0)\n",
    "gpus = tf.config.list_physical_devices('GPU')\n",
    "if gpus:\n",
    "    try:\n",
    "        # Restrict TensorFlow to only use the second GPU\n",
    "        tf.config.set_visible_devices(gpus[2], 'GPU')\n",
    "\n",
    "        # Optionally, set memory growth to avoid pre-allocating the entire GPU\n",
    "        tf.config.experimental.set_memory_growth(gpus[2], True)\n",
    "\n",
    "        logical_gpus = tf.config.list_logical_devices('GPU')\n",
    "        print(f\"{len(gpus)} Physical GPUs, {len(logical_gpus)} Logical GPU(s) being used.\")\n",
    "    except RuntimeError as e:\n",
    "        print(e)"
   ]
  },
  {
   "cell_type": "markdown",
   "metadata": {
    "id": "XiUWkGWM7Mn2"
   },
   "source": [
    "### Load MNIST dataset"
   ]
  },
  {
   "cell_type": "code",
   "execution_count": 3,
   "metadata": {
    "colab": {
     "base_uri": "https://localhost:8080/"
    },
    "executionInfo": {
     "elapsed": 2372,
     "status": "ok",
     "timestamp": 1702324353068,
     "user": {
      "displayName": "Mujtaba Nazari",
      "userId": "16194551095817193214"
     },
     "user_tz": 360
    },
    "id": "tpw_jCNy7Sp9",
    "outputId": "58139b65-39d1-4ecd-bc09-c0aab1cefa26"
   },
   "outputs": [
    {
     "data": {
      "text/plain": [
       "((60000, 28, 28),\n",
       " (60000,),\n",
       " (10000, 28, 28),\n",
       " (10000,),\n",
       " np.float32(0.0),\n",
       " np.float32(1.0))"
      ]
     },
     "execution_count": 3,
     "metadata": {},
     "output_type": "execute_result"
    }
   ],
   "source": [
    "# Load MNIST dataset from TensorFlow's built-in datasets.\n",
    "(x_train, y_train), (x_test, y_test) = tf.keras.datasets.mnist.load_data()\n",
    "\n",
    "# Normalize pixel values to the range [0, 1].\n",
    "x_train = x_train.astype(\"float32\") / 255.0\n",
    "x_test = x_test.astype(\"float32\") / 255.0\n",
    "\n",
    "# Get minimum and maximum pixel values (should be 0.0 and 1.0 after normalization).\n",
    "min_val = x_train.min()\n",
    "max_val = x_train.max()\n",
    "\n",
    "# Output dataset shapes and value range for verification.\n",
    "x_train.shape, y_train.shape, x_test.shape, y_test.shape, min_val, max_val"
   ]
  },
  {
   "cell_type": "markdown",
   "metadata": {
    "id": "0vkmOb8R7hLh"
   },
   "source": [
    "#### Inspect the Data\n"
   ]
  },
  {
   "cell_type": "code",
   "execution_count": 4,
   "metadata": {
    "colab": {
     "base_uri": "https://localhost:8080/",
     "height": 621
    },
    "executionInfo": {
     "elapsed": 3952,
     "status": "ok",
     "timestamp": 1702324359787,
     "user": {
      "displayName": "Mujtaba Nazari",
      "userId": "16194551095817193214"
     },
     "user_tz": 360
    },
    "id": "hy2vKXLV7jb0",
    "outputId": "188f523c-0ed7-4cb5-e346-756d053e5df5"
   },
   "outputs": [
    {
     "data": {
      "image/png": "[encoded data removed]",
      "text/plain": [
       "<Figure size 1500x700 with 10 Axes>"
      ]
     },
     "metadata": {},
     "output_type": "display_data"
    }
   ],
   "source": [
    "# Plot 10 sample images from the training set with their corresponding labels.\n",
    "fig, ax = plt.subplots(2, 5, figsize=(15, 7))\n",
    "ax = ax.flatten()\n",
    "\n",
    "# Display one example image for each digit label from 0 to 9.\n",
    "for i in range(10):\n",
    "    # Get the first image corresponding to label i\n",
    "    img_idx = np.argwhere(y_train == i)[0][0]\n",
    "    ax[i].imshow(x_train[img_idx], cmap='gray_r')\n",
    "    ax[i].set_title(f\"Label: {i}\", fontsize=12)\n",
    "    ax[i].axis('off')"
   ]
  },
  {
   "cell_type": "markdown",
   "metadata": {
    "id": "MLCFiugedFD1"
   },
   "source": [
    "### Reshape and one-hot encode the data"
   ]
  },
  {
   "cell_type": "code",
   "execution_count": 5,
   "metadata": {
    "id": "zAqsAdEtrRXi"
   },
   "outputs": [],
   "source": [
    "# Number of output classes (digits 0 through 9).\n",
    "nb_classes = 10\n",
    "\n",
    "# One-hot encode the labels for training and testing sets.\n",
    "y_train = tf.keras.utils.to_categorical(y_train, num_classes=nb_classes)\n",
    "y_test = tf.keras.utils.to_categorical(y_test, num_classes=nb_classes)\n",
    "\n",
    "# Expand image dimensions to add a channel axis (from [28, 28] to [28, 28, 1]).\n",
    "x_train = np.expand_dims(x_train, axis=-1)\n",
    "x_test = np.expand_dims(x_test, axis=-1)"
   ]
  },
  {
   "cell_type": "markdown",
   "metadata": {
    "id": "CDvTkvZwBAcq"
   },
   "source": [
    "## **Model Training**"
   ]
  },
  {
   "cell_type": "markdown",
   "metadata": {
    "id": "WrDFMofhAwi3"
   },
   "source": [
    "#### **Model Description**\n",
    "\n",
    "This convolutional neural network (CNN) is designed for image classification tasks. It consists of several layers that progressively extract features from the input images and classify them into one of 10 categories.\n",
    "\n",
    "1. Input Layer: The model accepts input images of shape (28, 28, 1).\n",
    "2. Convolutional Layers:\n",
    "    * First Conv Layer: 32 filters of size (3x3), activated by ReLU, followed by max pooling (2x2).\n",
    "    * Second Conv Layer: 64 filters of size (3x3), activated by ReLU, followed by max pooling (2x2).\n",
    "    * Third Conv Layer: 128 filters of size (3x3), activated by ReLU, followed by max pooling (2x2).\n",
    "3. Flatten Layer: Converts the 2D feature maps to a 1D feature vector.\n",
    "4. Dense Layer: Fully connected layer with 128 neurons, activated by ReLU, and includes a dropout of 20% to prevent overfitting.\n",
    "5. Output Layer: 10 neurons with softmax activation to classify the input image into one of the 10 categories.\n",
    "\n",
    "The model is compiled with the Adam optimizer and uses categorical cross-entropy loss, with accuracy as the performance metric."
   ]
  },
  {
   "cell_type": "code",
   "execution_count": 7,
   "metadata": {
    "id": "M4F9x45i7lwr"
   },
   "outputs": [],
   "source": [
    "# Define a sequential Convolutional Neural Network (CNN) model.\n",
    "model = tf.keras.models.Sequential([\n",
    "    # First convolutional block: Conv → ReLU → MaxPooling\n",
    "    # tf.keras.layers.InputLayer(input_shape=(28, 28, 1)),\n",
    "    tf.keras.layers.Conv2D(32, kernel_size=(3, 3), activation='relu', input_shape=(28, 28, 1)),\n",
    "    tf.keras.layers.MaxPooling2D(pool_size=(2, 2)),\n",
    "\n",
    "    # Second convolutional block\n",
    "    tf.keras.layers.Conv2D(64, kernel_size=(3, 3), activation='relu', strides=1),\n",
    "    tf.keras.layers.MaxPooling2D(pool_size=(2, 2), strides=2),\n",
    "\n",
    "    # Third convolutional block\n",
    "    tf.keras.layers.Conv2D(128, kernel_size=(3, 3), activation='relu', strides=1),\n",
    "    tf.keras.layers.MaxPooling2D(pool_size=(2, 2), strides=2),\n",
    "\n",
    "    # Flatten the output to feed into dense layers\n",
    "    tf.keras.layers.Flatten(),\n",
    "\n",
    "    # Fully connected dense layer\n",
    "    tf.keras.layers.Dense(64, activation='relu'),\n",
    "    tf.keras.layers.Dropout(0.2),  # Dropout for regularization\n",
    "\n",
    "    # Output layer with softmax activation for multi-class classification\n",
    "    tf.keras.layers.Dense(10, activation='softmax')\n",
    "])\n",
    "\n",
    "# Compile the model with Adam optimizer and categorical crossentropy loss\n",
    "model.compile(\n",
    "    optimizer='adam',\n",
    "    loss='categorical_crossentropy',\n",
    "    metrics=['accuracy']\n",
    ")"
   ]
  },
  {
   "cell_type": "markdown",
   "metadata": {
    "id": "ZNNORQ8Ye2NM"
   },
   "source": [
    "### Model Summary"
   ]
  },
  {
   "cell_type": "code",
   "execution_count": 8,
   "metadata": {
    "id": "Gi9KpDoEe6HJ"
   },
   "outputs": [
    {
     "data": {
      "text/html": [
       "<pre style=\"white-space:pre;overflow-x:auto;line-height:normal;font-family:Menlo,'DejaVu Sans Mono',consolas,'Courier New',monospace\"><span style=\"font-weight: bold\">Model: \"sequential\"</span>\n",
       "</pre>\n"
      ],
      "text/plain": [
       "\u001b[1mModel: \"sequential\"\u001b[0m\n"
      ]
     },
     "metadata": {},
     "output_type": "display_data"
    },
    {
     "data": {
      "text/html": [
       "<pre style=\"white-space:pre;overflow-x:auto;line-height:normal;font-family:Menlo,'DejaVu Sans Mono',consolas,'Courier New',monospace\">┏━━━━━━━━━━━━━━━━━━━━━━━━━━━━━━━━━┳━━━━━━━━━━━━━━━━━━━━━━━━┳━━━━━━━━━━━━━━━┓\n",
       "┃<span style=\"font-weight: bold\"> Layer (type)                    </span>┃<span style=\"font-weight: bold\"> Output Shape           </span>┃<span style=\"font-weight: bold\">       Param # </span>┃\n",
       "┡━━━━━━━━━━━━━━━━━━━━━━━━━━━━━━━━━╇━━━━━━━━━━━━━━━━━━━━━━━━╇━━━━━━━━━━━━━━━┩\n",
       "│ conv2d (<span style=\"color: #0087ff; text-decoration-color: #0087ff\">Conv2D</span>)                 │ (<span style=\"color: #00d7ff; text-decoration-color: #00d7ff\">None</span>, <span style=\"color: #00af00; text-decoration-color: #00af00\">26</span>, <span style=\"color: #00af00; text-decoration-color: #00af00\">26</span>, <span style=\"color: #00af00; text-decoration-color: #00af00\">32</span>)     │           <span style=\"color: #00af00; text-decoration-color: #00af00\">320</span> │\n",
       "├─────────────────────────────────┼────────────────────────┼───────────────┤\n",
       "│ max_pooling2d (<span style=\"color: #0087ff; text-decoration-color: #0087ff\">MaxPooling2D</span>)    │ (<span style=\"color: #00d7ff; text-decoration-color: #00d7ff\">None</span>, <span style=\"color: #00af00; text-decoration-color: #00af00\">13</span>, <span style=\"color: #00af00; text-decoration-color: #00af00\">13</span>, <span style=\"color: #00af00; text-decoration-color: #00af00\">32</span>)     │             <span style=\"color: #00af00; text-decoration-color: #00af00\">0</span> │\n",
       "├─────────────────────────────────┼────────────────────────┼───────────────┤\n",
       "│ conv2d_1 (<span style=\"color: #0087ff; text-decoration-color: #0087ff\">Conv2D</span>)               │ (<span style=\"color: #00d7ff; text-decoration-color: #00d7ff\">None</span>, <span style=\"color: #00af00; text-decoration-color: #00af00\">11</span>, <span style=\"color: #00af00; text-decoration-color: #00af00\">11</span>, <span style=\"color: #00af00; text-decoration-color: #00af00\">64</span>)     │        <span style=\"color: #00af00; text-decoration-color: #00af00\">18,496</span> │\n",
       "├─────────────────────────────────┼────────────────────────┼───────────────┤\n",
       "│ max_pooling2d_1 (<span style=\"color: #0087ff; text-decoration-color: #0087ff\">MaxPooling2D</span>)  │ (<span style=\"color: #00d7ff; text-decoration-color: #00d7ff\">None</span>, <span style=\"color: #00af00; text-decoration-color: #00af00\">5</span>, <span style=\"color: #00af00; text-decoration-color: #00af00\">5</span>, <span style=\"color: #00af00; text-decoration-color: #00af00\">64</span>)       │             <span style=\"color: #00af00; text-decoration-color: #00af00\">0</span> │\n",
       "├─────────────────────────────────┼────────────────────────┼───────────────┤\n",
       "│ conv2d_2 (<span style=\"color: #0087ff; text-decoration-color: #0087ff\">Conv2D</span>)               │ (<span style=\"color: #00d7ff; text-decoration-color: #00d7ff\">None</span>, <span style=\"color: #00af00; text-decoration-color: #00af00\">3</span>, <span style=\"color: #00af00; text-decoration-color: #00af00\">3</span>, <span style=\"color: #00af00; text-decoration-color: #00af00\">128</span>)      │        <span style=\"color: #00af00; text-decoration-color: #00af00\">73,856</span> │\n",
       "├─────────────────────────────────┼────────────────────────┼───────────────┤\n",
       "│ max_pooling2d_2 (<span style=\"color: #0087ff; text-decoration-color: #0087ff\">MaxPooling2D</span>)  │ (<span style=\"color: #00d7ff; text-decoration-color: #00d7ff\">None</span>, <span style=\"color: #00af00; text-decoration-color: #00af00\">1</span>, <span style=\"color: #00af00; text-decoration-color: #00af00\">1</span>, <span style=\"color: #00af00; text-decoration-color: #00af00\">128</span>)      │             <span style=\"color: #00af00; text-decoration-color: #00af00\">0</span> │\n",
       "├─────────────────────────────────┼────────────────────────┼───────────────┤\n",
       "│ flatten (<span style=\"color: #0087ff; text-decoration-color: #0087ff\">Flatten</span>)               │ (<span style=\"color: #00d7ff; text-decoration-color: #00d7ff\">None</span>, <span style=\"color: #00af00; text-decoration-color: #00af00\">128</span>)            │             <span style=\"color: #00af00; text-decoration-color: #00af00\">0</span> │\n",
       "├─────────────────────────────────┼────────────────────────┼───────────────┤\n",
       "│ dense (<span style=\"color: #0087ff; text-decoration-color: #0087ff\">Dense</span>)                   │ (<span style=\"color: #00d7ff; text-decoration-color: #00d7ff\">None</span>, <span style=\"color: #00af00; text-decoration-color: #00af00\">64</span>)             │         <span style=\"color: #00af00; text-decoration-color: #00af00\">8,256</span> │\n",
       "├─────────────────────────────────┼────────────────────────┼───────────────┤\n",
       "│ dropout (<span style=\"color: #0087ff; text-decoration-color: #0087ff\">Dropout</span>)               │ (<span style=\"color: #00d7ff; text-decoration-color: #00d7ff\">None</span>, <span style=\"color: #00af00; text-decoration-color: #00af00\">64</span>)             │             <span style=\"color: #00af00; text-decoration-color: #00af00\">0</span> │\n",
       "├─────────────────────────────────┼────────────────────────┼───────────────┤\n",
       "│ dense_1 (<span style=\"color: #0087ff; text-decoration-color: #0087ff\">Dense</span>)                 │ (<span style=\"color: #00d7ff; text-decoration-color: #00d7ff\">None</span>, <span style=\"color: #00af00; text-decoration-color: #00af00\">10</span>)             │           <span style=\"color: #00af00; text-decoration-color: #00af00\">650</span> │\n",
       "└─────────────────────────────────┴────────────────────────┴───────────────┘\n",
       "</pre>\n"
      ],
      "text/plain": [
       "┏━━━━━━━━━━━━━━━━━━━━━━━━━━━━━━━━━┳━━━━━━━━━━━━━━━━━━━━━━━━┳━━━━━━━━━━━━━━━┓\n",
       "┃\u001b[1m \u001b[0m\u001b[1mLayer (type)                   \u001b[0m\u001b[1m \u001b[0m┃\u001b[1m \u001b[0m\u001b[1mOutput Shape          \u001b[0m\u001b[1m \u001b[0m┃\u001b[1m \u001b[0m\u001b[1m      Param #\u001b[0m\u001b[1m \u001b[0m┃\n",
       "┡━━━━━━━━━━━━━━━━━━━━━━━━━━━━━━━━━╇━━━━━━━━━━━━━━━━━━━━━━━━╇━━━━━━━━━━━━━━━┩\n",
       "│ conv2d (\u001b[38;5;33mConv2D\u001b[0m)                 │ (\u001b[38;5;45mNone\u001b[0m, \u001b[38;5;34m26\u001b[0m, \u001b[38;5;34m26\u001b[0m, \u001b[38;5;34m32\u001b[0m)     │           \u001b[38;5;34m320\u001b[0m │\n",
       "├─────────────────────────────────┼────────────────────────┼───────────────┤\n",
       "│ max_pooling2d (\u001b[38;5;33mMaxPooling2D\u001b[0m)    │ (\u001b[38;5;45mNone\u001b[0m, \u001b[38;5;34m13\u001b[0m, \u001b[38;5;34m13\u001b[0m, \u001b[38;5;34m32\u001b[0m)     │             \u001b[38;5;34m0\u001b[0m │\n",
       "├─────────────────────────────────┼────────────────────────┼───────────────┤\n",
       "│ conv2d_1 (\u001b[38;5;33mConv2D\u001b[0m)               │ (\u001b[38;5;45mNone\u001b[0m, \u001b[38;5;34m11\u001b[0m, \u001b[38;5;34m11\u001b[0m, \u001b[38;5;34m64\u001b[0m)     │        \u001b[38;5;34m18,496\u001b[0m │\n",
       "├─────────────────────────────────┼────────────────────────┼───────────────┤\n",
       "│ max_pooling2d_1 (\u001b[38;5;33mMaxPooling2D\u001b[0m)  │ (\u001b[38;5;45mNone\u001b[0m, \u001b[38;5;34m5\u001b[0m, \u001b[38;5;34m5\u001b[0m, \u001b[38;5;34m64\u001b[0m)       │             \u001b[38;5;34m0\u001b[0m │\n",
       "├─────────────────────────────────┼────────────────────────┼───────────────┤\n",
       "│ conv2d_2 (\u001b[38;5;33mConv2D\u001b[0m)               │ (\u001b[38;5;45mNone\u001b[0m, \u001b[38;5;34m3\u001b[0m, \u001b[38;5;34m3\u001b[0m, \u001b[38;5;34m128\u001b[0m)      │        \u001b[38;5;34m73,856\u001b[0m │\n",
       "├─────────────────────────────────┼────────────────────────┼───────────────┤\n",
       "│ max_pooling2d_2 (\u001b[38;5;33mMaxPooling2D\u001b[0m)  │ (\u001b[38;5;45mNone\u001b[0m, \u001b[38;5;34m1\u001b[0m, \u001b[38;5;34m1\u001b[0m, \u001b[38;5;34m128\u001b[0m)      │             \u001b[38;5;34m0\u001b[0m │\n",
       "├─────────────────────────────────┼────────────────────────┼───────────────┤\n",
       "│ flatten (\u001b[38;5;33mFlatten\u001b[0m)               │ (\u001b[38;5;45mNone\u001b[0m, \u001b[38;5;34m128\u001b[0m)            │             \u001b[38;5;34m0\u001b[0m │\n",
       "├─────────────────────────────────┼────────────────────────┼───────────────┤\n",
       "│ dense (\u001b[38;5;33mDense\u001b[0m)                   │ (\u001b[38;5;45mNone\u001b[0m, \u001b[38;5;34m64\u001b[0m)             │         \u001b[38;5;34m8,256\u001b[0m │\n",
       "├─────────────────────────────────┼────────────────────────┼───────────────┤\n",
       "│ dropout (\u001b[38;5;33mDropout\u001b[0m)               │ (\u001b[38;5;45mNone\u001b[0m, \u001b[38;5;34m64\u001b[0m)             │             \u001b[38;5;34m0\u001b[0m │\n",
       "├─────────────────────────────────┼────────────────────────┼───────────────┤\n",
       "│ dense_1 (\u001b[38;5;33mDense\u001b[0m)                 │ (\u001b[38;5;45mNone\u001b[0m, \u001b[38;5;34m10\u001b[0m)             │           \u001b[38;5;34m650\u001b[0m │\n",
       "└─────────────────────────────────┴────────────────────────┴───────────────┘\n"
      ]
     },
     "metadata": {},
     "output_type": "display_data"
    },
    {
     "data": {
      "text/html": [
       "<pre style=\"white-space:pre;overflow-x:auto;line-height:normal;font-family:Menlo,'DejaVu Sans Mono',consolas,'Courier New',monospace\"><span style=\"font-weight: bold\"> Total params: </span><span style=\"color: #00af00; text-decoration-color: #00af00\">101,578</span> (396.79 KB)\n",
       "</pre>\n"
      ],
      "text/plain": [
       "\u001b[1m Total params: \u001b[0m\u001b[38;5;34m101,578\u001b[0m (396.79 KB)\n"
      ]
     },
     "metadata": {},
     "output_type": "display_data"
    },
    {
     "data": {
      "text/html": [
       "<pre style=\"white-space:pre;overflow-x:auto;line-height:normal;font-family:Menlo,'DejaVu Sans Mono',consolas,'Courier New',monospace\"><span style=\"font-weight: bold\"> Trainable params: </span><span style=\"color: #00af00; text-decoration-color: #00af00\">101,578</span> (396.79 KB)\n",
       "</pre>\n"
      ],
      "text/plain": [
       "\u001b[1m Trainable params: \u001b[0m\u001b[38;5;34m101,578\u001b[0m (396.79 KB)\n"
      ]
     },
     "metadata": {},
     "output_type": "display_data"
    },
    {
     "data": {
      "text/html": [
       "<pre style=\"white-space:pre;overflow-x:auto;line-height:normal;font-family:Menlo,'DejaVu Sans Mono',consolas,'Courier New',monospace\"><span style=\"font-weight: bold\"> Non-trainable params: </span><span style=\"color: #00af00; text-decoration-color: #00af00\">0</span> (0.00 B)\n",
       "</pre>\n"
      ],
      "text/plain": [
       "\u001b[1m Non-trainable params: \u001b[0m\u001b[38;5;34m0\u001b[0m (0.00 B)\n"
      ]
     },
     "metadata": {},
     "output_type": "display_data"
    }
   ],
   "source": [
    "# Print a detailed summary of the model architecture,\n",
    "# including layer types, output shapes, and number of parameters.\n",
    "model.summary()"
   ]
  },
  {
   "cell_type": "markdown",
   "metadata": {
    "id": "Ene4eaOSenYy"
   },
   "source": [
    "### Visualize the CNN Architecture"
   ]
  },
  {
   "cell_type": "code",
   "execution_count": 9,
   "metadata": {
    "id": "_VZEA1Z0axP6",
    "outputId": "4dc47195-7d4d-4035-b3a8-1de1ab9e7b0d"
   },
   "outputs": [
    {
     "data": {
      "image/png": "[encoded data removed]",
      "text/plain": [
       "<PIL.Image.Image image mode=RGBA size=357x413>"
      ]
     },
     "execution_count": 9,
     "metadata": {},
     "output_type": "execute_result"
    }
   ],
   "source": [
    "import visualkeras\n",
    "# Display a layered visual representation of the model architecture.\n",
    "# 'scale_xy' controls the scaling of the diagram.\n",
    "# 'legend=True' shows layer types with corresponding color codes.\n",
    "visualkeras.layered_view(model, scale_xy=10, legend=True)"
   ]
  },
  {
   "cell_type": "markdown",
   "metadata": {
    "id": "xX81Uh4lfFoO"
   },
   "source": [
    "### Visualize Model Architecture Diagram"
   ]
  },
  {
   "cell_type": "code",
   "execution_count": null,
   "metadata": {
    "colab": {
     "base_uri": "https://localhost:8080/",
     "height": 1000
    },
    "executionInfo": {
     "elapsed": 363,
     "status": "ok",
     "timestamp": 1702324421033,
     "user": {
      "displayName": "Mujtaba Nazari",
      "userId": "16194551095817193214"
     },
     "user_tz": 360
    },
    "id": "wIBlIEH08Sfi",
    "outputId": "bfc2bc6d-50e9-4fc9-d2db-bc0a5c34e05f"
   },
   "outputs": [
    {
     "data": {
      "image/png": "[encoded data removed]",
      "text/plain": [
       "<IPython.core.display.Image object>"
      ]
     },
     "execution_count": 15,
     "metadata": {},
     "output_type": "execute_result"
    }
   ],
   "source": [
    "# Generate and display a plot of the model architecture,\n",
    "# showing each layer’s name and output shape.\n",
    "tf.keras.utils.plot_model(model, show_shapes=True, dpi = 75)"
   ]
  },
  {
   "cell_type": "markdown",
   "metadata": {
    "id": "qscnBLRJaxP7"
   },
   "source": [
    "### Fit the model on training data."
   ]
  },
  {
   "cell_type": "code",
   "execution_count": 11,
   "metadata": {
    "colab": {
     "base_uri": "https://localhost:8080/"
    },
    "executionInfo": {
     "elapsed": 160334,
     "status": "ok",
     "timestamp": 1702324586968,
     "user": {
      "displayName": "Mujtaba Nazari",
      "userId": "16194551095817193214"
     },
     "user_tz": 360
    },
    "id": "rCYZ4qmN8Uei",
    "outputId": "90820f97-8865-4c2f-8c56-396f19bcafb1"
   },
   "outputs": [],
   "source": [
    "# Train the model on the training data for 3 epochs.\n",
    "# The history object stores training metrics and loss values.\n",
    "# history = model.fit(x_train, y_train, epochs=10, batch_size=128)"
   ]
  },
  {
   "cell_type": "markdown",
   "metadata": {
    "id": "in1_ftF4huxm"
   },
   "source": [
    "## Load or Save the Trained Model"
   ]
  },
  {
   "cell_type": "code",
   "execution_count": 12,
   "metadata": {
    "id": "av7h6DCsh-HI"
   },
   "outputs": [
    {
     "name": "stdout",
     "output_type": "stream",
     "text": [
      "--2025-08-25 16:28:07--  https://raw.githubusercontent.com/mnazari123/SecAI_Workshop_Data/main/Models/mnist10_model.keras\n",
      "Resolving raw.githubusercontent.com (raw.githubusercontent.com)... 185.199.110.133, 185.199.109.133, 185.199.108.133, ...\n",
      "Connecting to raw.githubusercontent.com (raw.githubusercontent.com)|185.199.110.133|:443... connected.\n",
      "HTTP request sent, awaiting response... 200 OK\n",
      "Length: 1266398 (1.2M) [application/octet-stream]\n",
      "Saving to: ‘mnist10_model.keras.6’\n",
      "\n",
      "mnist10_model.keras 100%[===================>]   1.21M  --.-KB/s    in 0.1s    \n",
      "\n",
      "2025-08-25 16:28:07 (11.2 MB/s) - ‘mnist10_model.keras.6’ saved [1266398/1266398]\n",
      "\n"
     ]
    },
    {
     "data": {
      "text/html": [
       "<pre style=\"white-space:pre;overflow-x:auto;line-height:normal;font-family:Menlo,'DejaVu Sans Mono',consolas,'Courier New',monospace\"><span style=\"font-weight: bold\">Model: \"sequential\"</span>\n",
       "</pre>\n"
      ],
      "text/plain": [
       "\u001b[1mModel: \"sequential\"\u001b[0m\n"
      ]
     },
     "metadata": {},
     "output_type": "display_data"
    },
    {
     "data": {
      "text/html": [
       "<pre style=\"white-space:pre;overflow-x:auto;line-height:normal;font-family:Menlo,'DejaVu Sans Mono',consolas,'Courier New',monospace\">┏━━━━━━━━━━━━━━━━━━━━━━━━━━━━━━━━━┳━━━━━━━━━━━━━━━━━━━━━━━━┳━━━━━━━━━━━━━━━┓\n",
       "┃<span style=\"font-weight: bold\"> Layer (type)                    </span>┃<span style=\"font-weight: bold\"> Output Shape           </span>┃<span style=\"font-weight: bold\">       Param # </span>┃\n",
       "┡━━━━━━━━━━━━━━━━━━━━━━━━━━━━━━━━━╇━━━━━━━━━━━━━━━━━━━━━━━━╇━━━━━━━━━━━━━━━┩\n",
       "│ conv2d (<span style=\"color: #0087ff; text-decoration-color: #0087ff\">Conv2D</span>)                 │ (<span style=\"color: #00d7ff; text-decoration-color: #00d7ff\">None</span>, <span style=\"color: #00af00; text-decoration-color: #00af00\">26</span>, <span style=\"color: #00af00; text-decoration-color: #00af00\">26</span>, <span style=\"color: #00af00; text-decoration-color: #00af00\">32</span>)     │           <span style=\"color: #00af00; text-decoration-color: #00af00\">320</span> │\n",
       "├─────────────────────────────────┼────────────────────────┼───────────────┤\n",
       "│ max_pooling2d (<span style=\"color: #0087ff; text-decoration-color: #0087ff\">MaxPooling2D</span>)    │ (<span style=\"color: #00d7ff; text-decoration-color: #00d7ff\">None</span>, <span style=\"color: #00af00; text-decoration-color: #00af00\">13</span>, <span style=\"color: #00af00; text-decoration-color: #00af00\">13</span>, <span style=\"color: #00af00; text-decoration-color: #00af00\">32</span>)     │             <span style=\"color: #00af00; text-decoration-color: #00af00\">0</span> │\n",
       "├─────────────────────────────────┼────────────────────────┼───────────────┤\n",
       "│ conv2d_1 (<span style=\"color: #0087ff; text-decoration-color: #0087ff\">Conv2D</span>)               │ (<span style=\"color: #00d7ff; text-decoration-color: #00d7ff\">None</span>, <span style=\"color: #00af00; text-decoration-color: #00af00\">11</span>, <span style=\"color: #00af00; text-decoration-color: #00af00\">11</span>, <span style=\"color: #00af00; text-decoration-color: #00af00\">64</span>)     │        <span style=\"color: #00af00; text-decoration-color: #00af00\">18,496</span> │\n",
       "├─────────────────────────────────┼────────────────────────┼───────────────┤\n",
       "│ max_pooling2d_1 (<span style=\"color: #0087ff; text-decoration-color: #0087ff\">MaxPooling2D</span>)  │ (<span style=\"color: #00d7ff; text-decoration-color: #00d7ff\">None</span>, <span style=\"color: #00af00; text-decoration-color: #00af00\">5</span>, <span style=\"color: #00af00; text-decoration-color: #00af00\">5</span>, <span style=\"color: #00af00; text-decoration-color: #00af00\">64</span>)       │             <span style=\"color: #00af00; text-decoration-color: #00af00\">0</span> │\n",
       "├─────────────────────────────────┼────────────────────────┼───────────────┤\n",
       "│ conv2d_2 (<span style=\"color: #0087ff; text-decoration-color: #0087ff\">Conv2D</span>)               │ (<span style=\"color: #00d7ff; text-decoration-color: #00d7ff\">None</span>, <span style=\"color: #00af00; text-decoration-color: #00af00\">3</span>, <span style=\"color: #00af00; text-decoration-color: #00af00\">3</span>, <span style=\"color: #00af00; text-decoration-color: #00af00\">128</span>)      │        <span style=\"color: #00af00; text-decoration-color: #00af00\">73,856</span> │\n",
       "├─────────────────────────────────┼────────────────────────┼───────────────┤\n",
       "│ max_pooling2d_2 (<span style=\"color: #0087ff; text-decoration-color: #0087ff\">MaxPooling2D</span>)  │ (<span style=\"color: #00d7ff; text-decoration-color: #00d7ff\">None</span>, <span style=\"color: #00af00; text-decoration-color: #00af00\">1</span>, <span style=\"color: #00af00; text-decoration-color: #00af00\">1</span>, <span style=\"color: #00af00; text-decoration-color: #00af00\">128</span>)      │             <span style=\"color: #00af00; text-decoration-color: #00af00\">0</span> │\n",
       "├─────────────────────────────────┼────────────────────────┼───────────────┤\n",
       "│ flatten (<span style=\"color: #0087ff; text-decoration-color: #0087ff\">Flatten</span>)               │ (<span style=\"color: #00d7ff; text-decoration-color: #00d7ff\">None</span>, <span style=\"color: #00af00; text-decoration-color: #00af00\">128</span>)            │             <span style=\"color: #00af00; text-decoration-color: #00af00\">0</span> │\n",
       "├─────────────────────────────────┼────────────────────────┼───────────────┤\n",
       "│ dense (<span style=\"color: #0087ff; text-decoration-color: #0087ff\">Dense</span>)                   │ (<span style=\"color: #00d7ff; text-decoration-color: #00d7ff\">None</span>, <span style=\"color: #00af00; text-decoration-color: #00af00\">64</span>)             │         <span style=\"color: #00af00; text-decoration-color: #00af00\">8,256</span> │\n",
       "├─────────────────────────────────┼────────────────────────┼───────────────┤\n",
       "│ dropout (<span style=\"color: #0087ff; text-decoration-color: #0087ff\">Dropout</span>)               │ (<span style=\"color: #00d7ff; text-decoration-color: #00d7ff\">None</span>, <span style=\"color: #00af00; text-decoration-color: #00af00\">64</span>)             │             <span style=\"color: #00af00; text-decoration-color: #00af00\">0</span> │\n",
       "├─────────────────────────────────┼────────────────────────┼───────────────┤\n",
       "│ dense_1 (<span style=\"color: #0087ff; text-decoration-color: #0087ff\">Dense</span>)                 │ (<span style=\"color: #00d7ff; text-decoration-color: #00d7ff\">None</span>, <span style=\"color: #00af00; text-decoration-color: #00af00\">10</span>)             │           <span style=\"color: #00af00; text-decoration-color: #00af00\">650</span> │\n",
       "└─────────────────────────────────┴────────────────────────┴───────────────┘\n",
       "</pre>\n"
      ],
      "text/plain": [
       "┏━━━━━━━━━━━━━━━━━━━━━━━━━━━━━━━━━┳━━━━━━━━━━━━━━━━━━━━━━━━┳━━━━━━━━━━━━━━━┓\n",
       "┃\u001b[1m \u001b[0m\u001b[1mLayer (type)                   \u001b[0m\u001b[1m \u001b[0m┃\u001b[1m \u001b[0m\u001b[1mOutput Shape          \u001b[0m\u001b[1m \u001b[0m┃\u001b[1m \u001b[0m\u001b[1m      Param #\u001b[0m\u001b[1m \u001b[0m┃\n",
       "┡━━━━━━━━━━━━━━━━━━━━━━━━━━━━━━━━━╇━━━━━━━━━━━━━━━━━━━━━━━━╇━━━━━━━━━━━━━━━┩\n",
       "│ conv2d (\u001b[38;5;33mConv2D\u001b[0m)                 │ (\u001b[38;5;45mNone\u001b[0m, \u001b[38;5;34m26\u001b[0m, \u001b[38;5;34m26\u001b[0m, \u001b[38;5;34m32\u001b[0m)     │           \u001b[38;5;34m320\u001b[0m │\n",
       "├─────────────────────────────────┼────────────────────────┼───────────────┤\n",
       "│ max_pooling2d (\u001b[38;5;33mMaxPooling2D\u001b[0m)    │ (\u001b[38;5;45mNone\u001b[0m, \u001b[38;5;34m13\u001b[0m, \u001b[38;5;34m13\u001b[0m, \u001b[38;5;34m32\u001b[0m)     │             \u001b[38;5;34m0\u001b[0m │\n",
       "├─────────────────────────────────┼────────────────────────┼───────────────┤\n",
       "│ conv2d_1 (\u001b[38;5;33mConv2D\u001b[0m)               │ (\u001b[38;5;45mNone\u001b[0m, \u001b[38;5;34m11\u001b[0m, \u001b[38;5;34m11\u001b[0m, \u001b[38;5;34m64\u001b[0m)     │        \u001b[38;5;34m18,496\u001b[0m │\n",
       "├─────────────────────────────────┼────────────────────────┼───────────────┤\n",
       "│ max_pooling2d_1 (\u001b[38;5;33mMaxPooling2D\u001b[0m)  │ (\u001b[38;5;45mNone\u001b[0m, \u001b[38;5;34m5\u001b[0m, \u001b[38;5;34m5\u001b[0m, \u001b[38;5;34m64\u001b[0m)       │             \u001b[38;5;34m0\u001b[0m │\n",
       "├─────────────────────────────────┼────────────────────────┼───────────────┤\n",
       "│ conv2d_2 (\u001b[38;5;33mConv2D\u001b[0m)               │ (\u001b[38;5;45mNone\u001b[0m, \u001b[38;5;34m3\u001b[0m, \u001b[38;5;34m3\u001b[0m, \u001b[38;5;34m128\u001b[0m)      │        \u001b[38;5;34m73,856\u001b[0m │\n",
       "├─────────────────────────────────┼────────────────────────┼───────────────┤\n",
       "│ max_pooling2d_2 (\u001b[38;5;33mMaxPooling2D\u001b[0m)  │ (\u001b[38;5;45mNone\u001b[0m, \u001b[38;5;34m1\u001b[0m, \u001b[38;5;34m1\u001b[0m, \u001b[38;5;34m128\u001b[0m)      │             \u001b[38;5;34m0\u001b[0m │\n",
       "├─────────────────────────────────┼────────────────────────┼───────────────┤\n",
       "│ flatten (\u001b[38;5;33mFlatten\u001b[0m)               │ (\u001b[38;5;45mNone\u001b[0m, \u001b[38;5;34m128\u001b[0m)            │             \u001b[38;5;34m0\u001b[0m │\n",
       "├─────────────────────────────────┼────────────────────────┼───────────────┤\n",
       "│ dense (\u001b[38;5;33mDense\u001b[0m)                   │ (\u001b[38;5;45mNone\u001b[0m, \u001b[38;5;34m64\u001b[0m)             │         \u001b[38;5;34m8,256\u001b[0m │\n",
       "├─────────────────────────────────┼────────────────────────┼───────────────┤\n",
       "│ dropout (\u001b[38;5;33mDropout\u001b[0m)               │ (\u001b[38;5;45mNone\u001b[0m, \u001b[38;5;34m64\u001b[0m)             │             \u001b[38;5;34m0\u001b[0m │\n",
       "├─────────────────────────────────┼────────────────────────┼───────────────┤\n",
       "│ dense_1 (\u001b[38;5;33mDense\u001b[0m)                 │ (\u001b[38;5;45mNone\u001b[0m, \u001b[38;5;34m10\u001b[0m)             │           \u001b[38;5;34m650\u001b[0m │\n",
       "└─────────────────────────────────┴────────────────────────┴───────────────┘\n"
      ]
     },
     "metadata": {},
     "output_type": "display_data"
    },
    {
     "data": {
      "text/html": [
       "<pre style=\"white-space:pre;overflow-x:auto;line-height:normal;font-family:Menlo,'DejaVu Sans Mono',consolas,'Courier New',monospace\"><span style=\"font-weight: bold\"> Total params: </span><span style=\"color: #00af00; text-decoration-color: #00af00\">304,736</span> (1.16 MB)\n",
       "</pre>\n"
      ],
      "text/plain": [
       "\u001b[1m Total params: \u001b[0m\u001b[38;5;34m304,736\u001b[0m (1.16 MB)\n"
      ]
     },
     "metadata": {},
     "output_type": "display_data"
    },
    {
     "data": {
      "text/html": [
       "<pre style=\"white-space:pre;overflow-x:auto;line-height:normal;font-family:Menlo,'DejaVu Sans Mono',consolas,'Courier New',monospace\"><span style=\"font-weight: bold\"> Trainable params: </span><span style=\"color: #00af00; text-decoration-color: #00af00\">101,578</span> (396.79 KB)\n",
       "</pre>\n"
      ],
      "text/plain": [
       "\u001b[1m Trainable params: \u001b[0m\u001b[38;5;34m101,578\u001b[0m (396.79 KB)\n"
      ]
     },
     "metadata": {},
     "output_type": "display_data"
    },
    {
     "data": {
      "text/html": [
       "<pre style=\"white-space:pre;overflow-x:auto;line-height:normal;font-family:Menlo,'DejaVu Sans Mono',consolas,'Courier New',monospace\"><span style=\"font-weight: bold\"> Non-trainable params: </span><span style=\"color: #00af00; text-decoration-color: #00af00\">0</span> (0.00 B)\n",
       "</pre>\n"
      ],
      "text/plain": [
       "\u001b[1m Non-trainable params: \u001b[0m\u001b[38;5;34m0\u001b[0m (0.00 B)\n"
      ]
     },
     "metadata": {},
     "output_type": "display_data"
    },
    {
     "data": {
      "text/html": [
       "<pre style=\"white-space:pre;overflow-x:auto;line-height:normal;font-family:Menlo,'DejaVu Sans Mono',consolas,'Courier New',monospace\"><span style=\"font-weight: bold\"> Optimizer params: </span><span style=\"color: #00af00; text-decoration-color: #00af00\">203,158</span> (793.59 KB)\n",
       "</pre>\n"
      ],
      "text/plain": [
       "\u001b[1m Optimizer params: \u001b[0m\u001b[38;5;34m203,158\u001b[0m (793.59 KB)\n"
      ]
     },
     "metadata": {},
     "output_type": "display_data"
    }
   ],
   "source": [
    "# If you have trained your own model and want to save it, uncomment and run:\n",
    "model_path = './mnist10_model.keras'\n",
    "# model.save(model_path)\n",
    "\n",
    "# Otherwise, load the pretrained model provided (e.g., from Google Drive or HuggingFace).\n",
    "!wget https://raw.githubusercontent.com/mnazari123/SecAI_Workshop_Data/main/Models/mnist10_model.keras\n",
    "model = tf.keras.models.load_model(model_path)\n",
    "\n",
    "# Display the model architecture summary to make sure the model has successfully been loaded.\n",
    "model.summary()"
   ]
  },
  {
   "cell_type": "markdown",
   "metadata": {
    "id": "v9nqwfmY7xyr"
   },
   "source": [
    "### Evaluate Model Performance on Test Data"
   ]
  },
  {
   "cell_type": "code",
   "execution_count": 13,
   "metadata": {
    "colab": {
     "base_uri": "https://localhost:8080/"
    },
    "executionInfo": {
     "elapsed": 267,
     "status": "ok",
     "timestamp": 1702324592234,
     "user": {
      "displayName": "Mujtaba Nazari",
      "userId": "16194551095817193214"
     },
     "user_tz": 360
    },
    "id": "Gi7C4H6zg_Px",
    "outputId": "2d86fe64-fa07-41ec-f75e-3e013248f70e"
   },
   "outputs": [
    {
     "name": "stderr",
     "output_type": "stream",
     "text": [
      "2025-08-25 16:28:11.352234: I external/local_xla/xla/service/gpu/autotuning/conv_algorithm_picker.cc:557] Omitted potentially buggy algorithm eng14{k25=0} for conv (f32[32,32,26,26]{3,2,1,0}, u8[0]{0}) custom-call(f32[32,1,28,28]{3,2,1,0}, f32[32,1,3,3]{3,2,1,0}, f32[32]{0}), window={size=3x3}, dim_labels=bf01_oi01->bf01, custom_call_target=\"__cudnn$convBiasActivationForward\", backend_config={\"cudnn_conv_backend_config\":{\"activation_mode\":\"kRelu\",\"conv_result_scale\":1,\"leakyrelu_alpha\":0,\"side_input_scale\":0},\"force_earliest_schedule\":false,\"operation_queue_id\":\"0\",\"wait_on_operation_queues\":[]}\n",
      "2025-08-25 16:28:11.370848: I external/local_xla/xla/service/gpu/autotuning/conv_algorithm_picker.cc:557] Omitted potentially buggy algorithm eng14{k25=0} for conv (f32[32,64,11,11]{3,2,1,0}, u8[0]{0}) custom-call(f32[32,32,13,13]{3,2,1,0}, f32[64,32,3,3]{3,2,1,0}, f32[64]{0}), window={size=3x3}, dim_labels=bf01_oi01->bf01, custom_call_target=\"__cudnn$convBiasActivationForward\", backend_config={\"cudnn_conv_backend_config\":{\"activation_mode\":\"kRelu\",\"conv_result_scale\":1,\"leakyrelu_alpha\":0,\"side_input_scale\":0},\"force_earliest_schedule\":false,\"operation_queue_id\":\"0\",\"wait_on_operation_queues\":[]}\n",
      "2025-08-25 16:28:11.392898: I external/local_xla/xla/service/gpu/autotuning/conv_algorithm_picker.cc:557] Omitted potentially buggy algorithm eng14{k25=0} for conv (f32[32,128,3,3]{3,2,1,0}, u8[0]{0}) custom-call(f32[32,64,5,5]{3,2,1,0}, f32[128,64,3,3]{3,2,1,0}, f32[128]{0}), window={size=3x3}, dim_labels=bf01_oi01->bf01, custom_call_target=\"__cudnn$convBiasActivationForward\", backend_config={\"cudnn_conv_backend_config\":{\"activation_mode\":\"kRelu\",\"conv_result_scale\":1,\"leakyrelu_alpha\":0,\"side_input_scale\":0},\"force_earliest_schedule\":false,\"operation_queue_id\":\"0\",\"wait_on_operation_queues\":[]}\n"
     ]
    },
    {
     "name": "stdout",
     "output_type": "stream",
     "text": [
      "\u001b[1m308/313\u001b[0m \u001b[32m━━━━━━━━━━━━━━━━━━━\u001b[0m\u001b[37m━\u001b[0m \u001b[1m0s\u001b[0m 1ms/step - accuracy: 0.9868 - loss: 0.0711"
     ]
    },
    {
     "name": "stderr",
     "output_type": "stream",
     "text": [
      "2025-08-25 16:28:12.209220: I external/local_xla/xla/service/gpu/autotuning/conv_algorithm_picker.cc:557] Omitted potentially buggy algorithm eng14{k25=0} for conv (f32[16,32,26,26]{3,2,1,0}, u8[0]{0}) custom-call(f32[16,1,28,28]{3,2,1,0}, f32[32,1,3,3]{3,2,1,0}, f32[32]{0}), window={size=3x3}, dim_labels=bf01_oi01->bf01, custom_call_target=\"__cudnn$convBiasActivationForward\", backend_config={\"cudnn_conv_backend_config\":{\"activation_mode\":\"kRelu\",\"conv_result_scale\":1,\"leakyrelu_alpha\":0,\"side_input_scale\":0},\"force_earliest_schedule\":false,\"operation_queue_id\":\"0\",\"wait_on_operation_queues\":[]}\n",
      "2025-08-25 16:28:12.219799: I external/local_xla/xla/service/gpu/autotuning/conv_algorithm_picker.cc:557] Omitted potentially buggy algorithm eng14{k25=0} for conv (f32[16,64,11,11]{3,2,1,0}, u8[0]{0}) custom-call(f32[16,32,13,13]{3,2,1,0}, f32[64,32,3,3]{3,2,1,0}, f32[64]{0}), window={size=3x3}, dim_labels=bf01_oi01->bf01, custom_call_target=\"__cudnn$convBiasActivationForward\", backend_config={\"cudnn_conv_backend_config\":{\"activation_mode\":\"kRelu\",\"conv_result_scale\":1,\"leakyrelu_alpha\":0,\"side_input_scale\":0},\"force_earliest_schedule\":false,\"operation_queue_id\":\"0\",\"wait_on_operation_queues\":[]}\n",
      "2025-08-25 16:28:12.248482: I external/local_xla/xla/service/gpu/autotuning/conv_algorithm_picker.cc:557] Omitted potentially buggy algorithm eng14{k25=0} for conv (f32[16,128,3,3]{3,2,1,0}, u8[0]{0}) custom-call(f32[16,64,5,5]{3,2,1,0}, f32[128,64,3,3]{3,2,1,0}, f32[128]{0}), window={size=3x3}, dim_labels=bf01_oi01->bf01, custom_call_target=\"__cudnn$convBiasActivationForward\", backend_config={\"cudnn_conv_backend_config\":{\"activation_mode\":\"kRelu\",\"conv_result_scale\":1,\"leakyrelu_alpha\":0,\"side_input_scale\":0},\"force_earliest_schedule\":false,\"operation_queue_id\":\"0\",\"wait_on_operation_queues\":[]}\n"
     ]
    },
    {
     "name": "stdout",
     "output_type": "stream",
     "text": [
      "\u001b[1m313/313\u001b[0m \u001b[32m━━━━━━━━━━━━━━━━━━━━\u001b[0m\u001b[37m\u001b[0m \u001b[1m2s\u001b[0m 3ms/step - accuracy: 0.9896 - loss: 0.0567\n",
      "Accuracy on test data: 98.96%\n"
     ]
    }
   ],
   "source": [
    "# Evaluate the model on the test dataset and get loss and accuracy.\n",
    "loss_test, accuracy_test = model.evaluate(x_test, y_test)\n",
    "\n",
    "# Print the test accuracy as a percentage.\n",
    "print('Accuracy on test data: {:4.2f}%'.format(accuracy_test * 100))"
   ]
  },
  {
   "cell_type": "markdown",
   "metadata": {
    "id": "0xzuNuVl73AK"
   },
   "source": [
    "### Wrap the Keras Model with an ART Classifier"
   ]
  },
  {
   "cell_type": "code",
   "execution_count": 17,
   "metadata": {
    "id": "R4yNT_oN72mf"
   },
   "outputs": [],
   "source": [
    "# Create an ART KerasClassifier to enable adversarial robustness tools.\n",
    "# 'clip_values' defines the input data range for normalization and attack generation.\n",
    "classifier = KerasClassifier(model=model, clip_values=(min_val, max_val))"
   ]
  },
  {
   "cell_type": "markdown",
   "metadata": {
    "id": "kRVEGgXt8FgT"
   },
   "source": [
    "# **SimBA Attack**"
   ]
  },
  {
   "cell_type": "markdown",
   "metadata": {
    "id": "aXPE0oYG8Lqk"
   },
   "source": [
    "## Overview\n",
    "\n",
    "> class art.attacks.evasion.SimBA(classifier: CLASSIFIER_TYPE, attack: str = 'dct', max_iter: int = 3000, order: str = 'random', epsilon: float = 0.1, freq_dim: int = 4, stride: int = 1, targeted: bool = False, batch_size: int = 1, verbose: bool = True)\n",
    "\n",
    "---\n",
    "\n",
    "This class implements the black-box attack SimBA.\n",
    "* Paper link: https://arxiv.org/abs/1905.07121\n",
    "\n",
    "*__init__(classifier: CLASSIFIER_TYPE, attack: str = 'dct', max_iter: int = 3000, order: str = 'random', epsilon: float = 0.1, freq_dim: int = 4, stride: int = 1, targeted: bool = False, batch_size: int = 1, verbose: bool = True)*\n",
    "\n",
    "**Create a SimBA (dct) attack instance.**\n",
    "\n",
    "    Parameters\n",
    "* classifier – A trained classifier predicting probabilities and not logits.\n",
    "* attack (str) – attack type: pixel (px) or DCT (dct) attacks\n",
    "* max_iter (int) – The maximum number of iterations.\n",
    "* epsilon (float) – Overshoot parameter.\n",
    "* order (str) – order of pixel attacks: random or diagonal (diag)\n",
    "* freq_dim (int) – dimensionality of 2D frequency space (DCT).\n",
    "* stride (int) – stride for block order (DCT).\n",
    "* targeted (bool) – perform targeted attack\n",
    "* batch_size (int) – Batch size (but, batch process unavailable in this implementation)\n",
    "* verbose (bool) – Show progress bars.\n",
    "\n",
    "\n",
    "    diagonal_order(image_size, channels)\n",
    "Defines a diagonal order for pixel attacks. order is fixed across diagonals but are randomized across channels and within the diagonal e.g. [1, 2, 5] [3, 4, 8] [6, 7, 9]\n",
    "\n",
    "    Parameters\n",
    "* image_size – image size (i.e., width or height)\n",
    "* channels – the number of channels\n",
    "\n",
    "    \n",
    "    Return order\n",
    "* An array holding the diagonal order of pixel attacks.\n",
    "\n",
    "    \n",
    "    generate(x: ndarray, y: Optional[ndarray] = None, **kwargs) → ndarray\n",
    "Generate adversarial samples and return them in an array.\n",
    "\n",
    "    Return type\n",
    "* ndarray\n",
    "    \n",
    "    \n",
    "    Parameters\n",
    "* x (ndarray) – An array with the original inputs to be attacked.\n",
    "* y – An array with the true or target labels.\n",
    "\n",
    "    \n",
    "    Returns\n",
    "* An array holding the adversarial examples.\n",
    "\n",
    "Link: https://adversarial-robustness-toolbox.readthedocs.io/en/latest/modules/attacks/evasion.html#simple-black-box-adversarial-attack"
   ]
  },
  {
   "cell_type": "markdown",
   "metadata": {
    "id": "epichuZRaxP9"
   },
   "source": [
    "### Create an ART SimBA attack."
   ]
  },
  {
   "cell_type": "code",
   "execution_count": 18,
   "metadata": {
    "id": "h8mRmKoY8cfU"
   },
   "outputs": [],
   "source": [
    "# eps – defines the attack step size (input variation). The smaller the eps, the little the attack scale would be.\n",
    "attack_simba = SimBA(classifier = classifier,\n",
    "              attack = 'dct',\n",
    "              max_iter = 1000,\n",
    "              order = 'random',\n",
    "               epsilon = 0.1,\n",
    "               freq_dim = 4,\n",
    "               stride = 1,\n",
    "               targeted = False,\n",
    "               batch_size = 1,\n",
    "                verbose = False)"
   ]
  },
  {
   "cell_type": "markdown",
   "metadata": {
    "id": "_--F4YGL92nf"
   },
   "source": [
    "## Generate Adversarial Examples Using SimBA Attack"
   ]
  },
  {
   "cell_type": "code",
   "execution_count": 19,
   "metadata": {
    "id": "ik9n_Y1Rllrb"
   },
   "outputs": [],
   "source": [
    "# Reduce test set size to 500 samples for faster adversarial generation and evaluation.\n",
    "x_test = x_test[:500]\n",
    "y_test = y_test[:500]\n",
    "\n",
    "# Generate adversarial examples from the reduced test set using the PGD attack.\n",
    "x_test_adv = attack_simba.generate(x_test)"
   ]
  },
  {
   "cell_type": "markdown",
   "metadata": {
    "id": "AB7V4CaIlsTy"
   },
   "source": [
    "## Save or Load SimBA-Generated Adversarial Test Data"
   ]
  },
  {
   "cell_type": "code",
   "execution_count": 20,
   "metadata": {
    "id": "lGIUZGYWGKRz"
   },
   "outputs": [],
   "source": [
    "# Option 1: Save your newly generated adversarial test data (uncomment to use).\n",
    "simba_data_path = 'simba_poison_data_MNIST10_test_S500.npz'\n",
    "np.savez(simba_data_path,\n",
    "         x_test_adv=x_test_adv, y_test_adv=y_test)\n",
    "\n",
    "# Option 2: Load previously saved adversarial test data (recommended for reuse or quick experiments).\n",
    "# Download the data file from GitHub raw URL\n",
    "# !wget https://raw.githubusercontent.com/mnazari123/SecAI_Workshop_Data/main/data/pgd_poison_data_MNIST10_test_S500.npz\n",
    "\n",
    "# x_test_data = np.load(pgd_data_path)\n",
    "# x_test_adv, y_test = x_test_data['x_test_adv'], x_test_data['y_test_adv']\n",
    "# x_test_adv.shape, y_test.shape"
   ]
  },
  {
   "cell_type": "markdown",
   "metadata": {
    "id": "zZWR3YD498H9"
   },
   "source": [
    "## Visualize Adversarial Examples and Their Predictions"
   ]
  },
  {
   "cell_type": "code",
   "execution_count": 21,
   "metadata": {
    "colab": {
     "base_uri": "https://localhost:8080/",
     "height": 598
    },
    "executionInfo": {
     "elapsed": 2808,
     "status": "ok",
     "timestamp": 1702324900467,
     "user": {
      "displayName": "Mujtaba Nazari",
      "userId": "16194551095817193214"
     },
     "user_tz": 360
    },
    "id": "-W-_o2WJ983J",
    "outputId": "cb0df38a-fd6e-4b47-eb06-ff7912500f89"
   },
   "outputs": [
    {
     "name": "stderr",
     "output_type": "stream",
     "text": [
      "2025-08-26 09:29:16.483659: I external/local_xla/xla/service/gpu/autotuning/conv_algorithm_picker.cc:557] Omitted potentially buggy algorithm eng14{k25=0} for conv (f32[1,32,26,26]{3,2,1,0}, u8[0]{0}) custom-call(f32[1,1,28,28]{3,2,1,0}, f32[32,1,3,3]{3,2,1,0}, f32[32]{0}), window={size=3x3}, dim_labels=bf01_oi01->bf01, custom_call_target=\"__cudnn$convBiasActivationForward\", backend_config={\"cudnn_conv_backend_config\":{\"activation_mode\":\"kRelu\",\"conv_result_scale\":1,\"leakyrelu_alpha\":0,\"side_input_scale\":0},\"force_earliest_schedule\":false,\"operation_queue_id\":\"0\",\"wait_on_operation_queues\":[]}\n",
      "2025-08-26 09:29:16.499909: I external/local_xla/xla/service/gpu/autotuning/conv_algorithm_picker.cc:557] Omitted potentially buggy algorithm eng14{k25=0} for conv (f32[1,64,11,11]{3,2,1,0}, u8[0]{0}) custom-call(f32[1,32,13,13]{3,2,1,0}, f32[64,32,3,3]{3,2,1,0}, f32[64]{0}), window={size=3x3}, dim_labels=bf01_oi01->bf01, custom_call_target=\"__cudnn$convBiasActivationForward\", backend_config={\"cudnn_conv_backend_config\":{\"activation_mode\":\"kRelu\",\"conv_result_scale\":1,\"leakyrelu_alpha\":0,\"side_input_scale\":0},\"force_earliest_schedule\":false,\"operation_queue_id\":\"0\",\"wait_on_operation_queues\":[]}\n",
      "2025-08-26 09:29:16.523794: I external/local_xla/xla/service/gpu/autotuning/conv_algorithm_picker.cc:557] Omitted potentially buggy algorithm eng14{k25=0} for conv (f32[1,128,3,3]{3,2,1,0}, u8[0]{0}) custom-call(f32[1,64,5,5]{3,2,1,0}, f32[128,64,3,3]{3,2,1,0}, f32[128]{0}), window={size=3x3}, dim_labels=bf01_oi01->bf01, custom_call_target=\"__cudnn$convBiasActivationForward\", backend_config={\"cudnn_conv_backend_config\":{\"activation_mode\":\"kRelu\",\"conv_result_scale\":1,\"leakyrelu_alpha\":0,\"side_input_scale\":0},\"force_earliest_schedule\":false,\"operation_queue_id\":\"0\",\"wait_on_operation_queues\":[]}\n"
     ]
    },
    {
     "name": "stdout",
     "output_type": "stream",
     "text": [
      "\u001b[1m1/1\u001b[0m \u001b[32m━━━━━━━━━━━━━━━━━━━━\u001b[0m\u001b[37m\u001b[0m \u001b[1m0s\u001b[0m 382ms/step\n",
      "\u001b[1m1/1\u001b[0m \u001b[32m━━━━━━━━━━━━━━━━━━━━\u001b[0m\u001b[37m\u001b[0m \u001b[1m0s\u001b[0m 38ms/step\n",
      "\u001b[1m1/1\u001b[0m \u001b[32m━━━━━━━━━━━━━━━━━━━━\u001b[0m\u001b[37m\u001b[0m \u001b[1m0s\u001b[0m 38ms/step\n",
      "\u001b[1m1/1\u001b[0m \u001b[32m━━━━━━━━━━━━━━━━━━━━\u001b[0m\u001b[37m\u001b[0m \u001b[1m0s\u001b[0m 38ms/step\n",
      "\u001b[1m1/1\u001b[0m \u001b[32m━━━━━━━━━━━━━━━━━━━━\u001b[0m\u001b[37m\u001b[0m \u001b[1m0s\u001b[0m 39ms/step\n",
      "\u001b[1m1/1\u001b[0m \u001b[32m━━━━━━━━━━━━━━━━━━━━\u001b[0m\u001b[37m\u001b[0m \u001b[1m0s\u001b[0m 38ms/step\n",
      "\u001b[1m1/1\u001b[0m \u001b[32m━━━━━━━━━━━━━━━━━━━━\u001b[0m\u001b[37m\u001b[0m \u001b[1m0s\u001b[0m 39ms/step\n",
      "\u001b[1m1/1\u001b[0m \u001b[32m━━━━━━━━━━━━━━━━━━━━\u001b[0m\u001b[37m\u001b[0m \u001b[1m0s\u001b[0m 38ms/step\n",
      "\u001b[1m1/1\u001b[0m \u001b[32m━━━━━━━━━━━━━━━━━━━━\u001b[0m\u001b[37m\u001b[0m \u001b[1m0s\u001b[0m 37ms/step\n",
      "\u001b[1m1/1\u001b[0m \u001b[32m━━━━━━━━━━━━━━━━━━━━\u001b[0m\u001b[37m\u001b[0m \u001b[1m0s\u001b[0m 39ms/step\n"
     ]
    },
    {
     "data": {
      "image/png": "[encoded data removed]",
      "text/plain": [
       "<Figure size 1500x700 with 10 Axes>"
      ]
     },
     "metadata": {},
     "output_type": "display_data"
    }
   ],
   "source": [
    "# Display the first 10 adversarial examples along with their actual and predicted labels.\n",
    "fig, ax = plt.subplots(2, 5, figsize=(15, 7))\n",
    "ax = ax.flatten()\n",
    "\n",
    "for i, (image, label) in enumerate(zip(x_test_adv[:10], y_test[:10])):\n",
    "    # Display the adversarial image.\n",
    "    ax[i].imshow(image.squeeze(), cmap='gray_r')\n",
    "\n",
    "    # Show actual and predicted labels.\n",
    "    prediction = model.predict(np.expand_dims(image, axis=0)).argmax()\n",
    "    ax[i].set_title(f\"Actual: {label.argmax()} \\nPredicted: {prediction}\", fontsize=12)\n",
    "    ax[i].axis('off')"
   ]
  },
  {
   "cell_type": "markdown",
   "metadata": {
    "id": "Q2Wfw30YA24e"
   },
   "source": [
    "## Evaluate the Model on Adversarial Test Data"
   ]
  },
  {
   "cell_type": "code",
   "execution_count": 22,
   "metadata": {
    "colab": {
     "base_uri": "https://localhost:8080/"
    },
    "executionInfo": {
     "elapsed": 117,
     "status": "ok",
     "timestamp": 1702324911541,
     "user": {
      "displayName": "Mujtaba Nazari",
      "userId": "16194551095817193214"
     },
     "user_tz": 360
    },
    "id": "8yDNrRRF8f3h",
    "outputId": "2af26a0f-f330-4985-b3d1-2f583f950a73"
   },
   "outputs": [
    {
     "name": "stdout",
     "output_type": "stream",
     "text": [
      "\u001b[1m 1/16\u001b[0m \u001b[32m━\u001b[0m\u001b[37m━━━━━━━━━━━━━━━━━━━\u001b[0m \u001b[1m0s\u001b[0m 26ms/step - accuracy: 0.6875 - loss: 0.2224"
     ]
    },
    {
     "name": "stderr",
     "output_type": "stream",
     "text": [
      "2025-08-26 09:29:26.566624: I external/local_xla/xla/service/gpu/autotuning/conv_algorithm_picker.cc:557] Omitted potentially buggy algorithm eng14{k25=0} for conv (f32[20,64,11,11]{3,2,1,0}, u8[0]{0}) custom-call(f32[20,32,13,13]{3,2,1,0}, f32[64,32,3,3]{3,2,1,0}, f32[64]{0}), window={size=3x3}, dim_labels=bf01_oi01->bf01, custom_call_target=\"__cudnn$convBiasActivationForward\", backend_config={\"cudnn_conv_backend_config\":{\"activation_mode\":\"kRelu\",\"conv_result_scale\":1,\"leakyrelu_alpha\":0,\"side_input_scale\":0},\"force_earliest_schedule\":false,\"operation_queue_id\":\"0\",\"wait_on_operation_queues\":[]}\n",
      "2025-08-26 09:29:26.599222: I external/local_xla/xla/service/gpu/autotuning/conv_algorithm_picker.cc:557] Omitted potentially buggy algorithm eng14{k25=0} for conv (f32[20,128,3,3]{3,2,1,0}, u8[0]{0}) custom-call(f32[20,64,5,5]{3,2,1,0}, f32[128,64,3,3]{3,2,1,0}, f32[128]{0}), window={size=3x3}, dim_labels=bf01_oi01->bf01, custom_call_target=\"__cudnn$convBiasActivationForward\", backend_config={\"cudnn_conv_backend_config\":{\"activation_mode\":\"kRelu\",\"conv_result_scale\":1,\"leakyrelu_alpha\":0,\"side_input_scale\":0},\"force_earliest_schedule\":false,\"operation_queue_id\":\"0\",\"wait_on_operation_queues\":[]}\n"
     ]
    },
    {
     "name": "stdout",
     "output_type": "stream",
     "text": [
      "\u001b[1m16/16\u001b[0m \u001b[32m━━━━━━━━━━━━━━━━━━━━\u001b[0m\u001b[37m\u001b[0m \u001b[1m1s\u001b[0m 36ms/step - accuracy: 0.6800 - loss: 0.2518\n",
      "Accuracy on adversarial test data: 68.00%\n",
      "Average perturbation: 0.01\n"
     ]
    }
   ],
   "source": [
    "# Evaluate model performance on adversarial examples.\n",
    "loss_test, accuracy_test = model.evaluate(x_test_adv, y_test)\n",
    "\n",
    "# Calculate the average perturbation introduced by the adversarial attack.\n",
    "perturbation = np.mean(np.abs(x_test_adv - x_test))\n",
    "\n",
    "# Print evaluation results.\n",
    "print('Accuracy on adversarial test data: {:4.2f}%'.format(accuracy_test * 100))\n",
    "print('Average perturbation: {:4.2f}'.format(perturbation))"
   ]
  },
  {
   "cell_type": "markdown",
   "metadata": {
    "id": "0JXn3iCknyRn"
   },
   "source": [
    "# Prepare Training Data for Adversarial Sample Detector"
   ]
  },
  {
   "cell_type": "code",
   "execution_count": 23,
   "metadata": {
    "id": "fXWJFtPmoG9y"
   },
   "outputs": [],
   "source": [
    "# Generate new adversarial examples from a subset of the training data using PGD.\n",
    "x_train_adv = attack_simba.generate(x_train[:500])\n",
    "nb_train = x_train[:500].shape[0]\n",
    "\n",
    "# Combine clean and adversarial samples to create a binary classification dataset for detection.\n",
    "x_train_detector = np.concatenate((x_train[:500], x_train_adv), axis=0)\n",
    "\n",
    "# Create labels: [1, 0] for clean samples, [0, 1] for adversarial samples.\n",
    "y_train_detector = np.concatenate((\n",
    "    np.array([[1, 0]] * nb_train),  # Clean\n",
    "    np.array([[0, 1]] * nb_train)   # Adversarial\n",
    "), axis=0)"
   ]
  },
  {
   "cell_type": "markdown",
   "metadata": {
    "id": "37noHWALoYDQ"
   },
   "source": [
    "##Save or Load Adversarial Detector Training Data"
   ]
  },
  {
   "cell_type": "code",
   "execution_count": 24,
   "metadata": {
    "id": "doveURjTodl6"
   },
   "outputs": [],
   "source": [
    "# Option 1: Save generated clean and adversarial samples for training the detector.\n",
    "np.savez('./simba_poison_data_MNIST10_train_S1000.npz',\n",
    "         x_train_detector=x_train_detector, y_train_detector=y_train_detector)\n",
    "\n",
    "# Option 2: Load pre-saved detector training data to avoid regeneration.\n",
    "# detector_data = np.load('./pgd_generated_data/pgd_detector_generated_MNIST10.npz')\n",
    "# x_train_detector, y_train_detector = detector_data['x_train_detector'], detector_data['y_train_detector']\n",
    "\n",
    "# Verify the shape of loaded or prepared data.\n",
    "# x_train_detector.shape, y_train_detector.shape"
   ]
  },
  {
   "cell_type": "markdown",
   "metadata": {
    "id": "DBRuTQr0aqOh"
   },
   "source": [
    "## Build a similar CNN architecture model for detecting Adversarial Inputs"
   ]
  },
  {
   "cell_type": "code",
   "execution_count": 25,
   "metadata": {
    "id": "PV5cNecwGO5n"
   },
   "outputs": [],
   "source": [
    "# Define a CNN model to detect adversarial vs. clean images (binary classification).\n",
    "detector_model = tf.keras.models.Sequential([\n",
    "    # First convolutional block\n",
    "    tf.keras.layers.Conv2D(32, kernel_size=(3, 3), activation='relu', input_shape=(28, 28, 1)),\n",
    "    tf.keras.layers.MaxPooling2D(pool_size=(2, 2)),\n",
    "\n",
    "    # Second convolutional block\n",
    "    tf.keras.layers.Conv2D(64, kernel_size=(3, 3), activation='relu', strides=1),\n",
    "    tf.keras.layers.MaxPooling2D(pool_size=(2, 2), strides=2),\n",
    "\n",
    "    # Third convolutional block\n",
    "    tf.keras.layers.Conv2D(128, kernel_size=(3, 3), activation='relu', strides=1),\n",
    "    tf.keras.layers.MaxPooling2D(pool_size=(2, 2), strides=2),\n",
    "\n",
    "    # Classification head\n",
    "    tf.keras.layers.Flatten(),\n",
    "    tf.keras.layers.Dense(128, activation='relu'),\n",
    "    tf.keras.layers.Dropout(0.2),\n",
    "    tf.keras.layers.Dense(2, activation='softmax')  # Two output classes: [clean, adversarial]\n",
    "])\n",
    "\n",
    "# Compile the detector model with Adam optimizer and categorical crossentropy loss.\n",
    "detector_model.compile(\n",
    "    optimizer='adam',\n",
    "    loss='categorical_crossentropy',\n",
    "    metrics=['accuracy']\n",
    ")"
   ]
  },
  {
   "cell_type": "markdown",
   "metadata": {
    "id": "keOigAWspJU1"
   },
   "source": [
    "## Train the Adversarial Detector Model"
   ]
  },
  {
   "cell_type": "code",
   "execution_count": 26,
   "metadata": {
    "id": "iIs_JcjJpVFN"
   },
   "outputs": [
    {
     "name": "stdout",
     "output_type": "stream",
     "text": [
      "Epoch 1/10\n"
     ]
    },
    {
     "name": "stderr",
     "output_type": "stream",
     "text": [
      "2025-08-26 10:18:08.438528: I external/local_xla/xla/service/gpu/autotuning/conv_algorithm_picker.cc:557] Omitted potentially buggy algorithm eng14{k25=0} for conv (f32[32,32,26,26]{3,2,1,0}, u8[0]{0}) custom-call(f32[32,1,28,28]{3,2,1,0}, f32[32,1,3,3]{3,2,1,0}, f32[32]{0}), window={size=3x3}, dim_labels=bf01_oi01->bf01, custom_call_target=\"__cudnn$convBiasActivationForward\", backend_config={\"cudnn_conv_backend_config\":{\"activation_mode\":\"kNone\",\"conv_result_scale\":1,\"leakyrelu_alpha\":0,\"side_input_scale\":0},\"force_earliest_schedule\":false,\"operation_queue_id\":\"0\",\"wait_on_operation_queues\":[]}\n",
      "2025-08-26 10:18:08.457534: I external/local_xla/xla/service/gpu/autotuning/conv_algorithm_picker.cc:557] Omitted potentially buggy algorithm eng14{k25=0} for conv (f32[32,64,11,11]{3,2,1,0}, u8[0]{0}) custom-call(f32[32,32,13,13]{3,2,1,0}, f32[64,32,3,3]{3,2,1,0}, f32[64]{0}), window={size=3x3}, dim_labels=bf01_oi01->bf01, custom_call_target=\"__cudnn$convBiasActivationForward\", backend_config={\"cudnn_conv_backend_config\":{\"activation_mode\":\"kNone\",\"conv_result_scale\":1,\"leakyrelu_alpha\":0,\"side_input_scale\":0},\"force_earliest_schedule\":false,\"operation_queue_id\":\"0\",\"wait_on_operation_queues\":[]}\n",
      "2025-08-26 10:18:08.479096: I external/local_xla/xla/service/gpu/autotuning/conv_algorithm_picker.cc:557] Omitted potentially buggy algorithm eng14{k25=0} for conv (f32[32,128,3,3]{3,2,1,0}, u8[0]{0}) custom-call(f32[32,64,5,5]{3,2,1,0}, f32[128,64,3,3]{3,2,1,0}, f32[128]{0}), window={size=3x3}, dim_labels=bf01_oi01->bf01, custom_call_target=\"__cudnn$convBiasActivationForward\", backend_config={\"cudnn_conv_backend_config\":{\"activation_mode\":\"kNone\",\"conv_result_scale\":1,\"leakyrelu_alpha\":0,\"side_input_scale\":0},\"force_earliest_schedule\":false,\"operation_queue_id\":\"0\",\"wait_on_operation_queues\":[]}\n"
     ]
    },
    {
     "name": "stdout",
     "output_type": "stream",
     "text": [
      "\u001b[1m25/32\u001b[0m \u001b[32m━━━━━━━━━━━━━━━\u001b[0m\u001b[37m━━━━━\u001b[0m \u001b[1m0s\u001b[0m 2ms/step - accuracy: 0.5162 - loss: 0.7016 "
     ]
    },
    {
     "name": "stderr",
     "output_type": "stream",
     "text": [
      "2025-08-26 10:18:09.845324: I external/local_xla/xla/service/gpu/autotuning/conv_algorithm_picker.cc:557] Omitted potentially buggy algorithm eng14{k25=0} for conv (f32[8,32,26,26]{3,2,1,0}, u8[0]{0}) custom-call(f32[8,1,28,28]{3,2,1,0}, f32[32,1,3,3]{3,2,1,0}, f32[32]{0}), window={size=3x3}, dim_labels=bf01_oi01->bf01, custom_call_target=\"__cudnn$convBiasActivationForward\", backend_config={\"cudnn_conv_backend_config\":{\"activation_mode\":\"kNone\",\"conv_result_scale\":1,\"leakyrelu_alpha\":0,\"side_input_scale\":0},\"force_earliest_schedule\":false,\"operation_queue_id\":\"0\",\"wait_on_operation_queues\":[]}\n",
      "2025-08-26 10:18:09.855111: I external/local_xla/xla/service/gpu/autotuning/conv_algorithm_picker.cc:557] Omitted potentially buggy algorithm eng14{k25=0} for conv (f32[8,64,11,11]{3,2,1,0}, u8[0]{0}) custom-call(f32[8,32,13,13]{3,2,1,0}, f32[64,32,3,3]{3,2,1,0}, f32[64]{0}), window={size=3x3}, dim_labels=bf01_oi01->bf01, custom_call_target=\"__cudnn$convBiasActivationForward\", backend_config={\"cudnn_conv_backend_config\":{\"activation_mode\":\"kNone\",\"conv_result_scale\":1,\"leakyrelu_alpha\":0,\"side_input_scale\":0},\"force_earliest_schedule\":false,\"operation_queue_id\":\"0\",\"wait_on_operation_queues\":[]}\n",
      "2025-08-26 10:18:09.881078: I external/local_xla/xla/service/gpu/autotuning/conv_algorithm_picker.cc:557] Omitted potentially buggy algorithm eng14{k25=0} for conv (f32[8,128,3,3]{3,2,1,0}, u8[0]{0}) custom-call(f32[8,64,5,5]{3,2,1,0}, f32[128,64,3,3]{3,2,1,0}, f32[128]{0}), window={size=3x3}, dim_labels=bf01_oi01->bf01, custom_call_target=\"__cudnn$convBiasActivationForward\", backend_config={\"cudnn_conv_backend_config\":{\"activation_mode\":\"kNone\",\"conv_result_scale\":1,\"leakyrelu_alpha\":0,\"side_input_scale\":0},\"force_earliest_schedule\":false,\"operation_queue_id\":\"0\",\"wait_on_operation_queues\":[]}\n"
     ]
    },
    {
     "name": "stdout",
     "output_type": "stream",
     "text": [
      "\u001b[1m32/32\u001b[0m \u001b[32m━━━━━━━━━━━━━━━━━━━━\u001b[0m\u001b[37m\u001b[0m \u001b[1m4s\u001b[0m 46ms/step - accuracy: 0.5080 - loss: 0.6986\n",
      "Epoch 2/10\n",
      "\u001b[1m32/32\u001b[0m \u001b[32m━━━━━━━━━━━━━━━━━━━━\u001b[0m\u001b[37m\u001b[0m \u001b[1m0s\u001b[0m 3ms/step - accuracy: 0.5090 - loss: 0.6964\n",
      "Epoch 3/10\n",
      "\u001b[1m32/32\u001b[0m \u001b[32m━━━━━━━━━━━━━━━━━━━━\u001b[0m\u001b[37m\u001b[0m \u001b[1m0s\u001b[0m 3ms/step - accuracy: 0.4800 - loss: 0.6937\n",
      "Epoch 4/10\n",
      "\u001b[1m32/32\u001b[0m \u001b[32m━━━━━━━━━━━━━━━━━━━━\u001b[0m\u001b[37m\u001b[0m \u001b[1m0s\u001b[0m 3ms/step - accuracy: 0.4900 - loss: 0.6932\n",
      "Epoch 5/10\n",
      "\u001b[1m32/32\u001b[0m \u001b[32m━━━━━━━━━━━━━━━━━━━━\u001b[0m\u001b[37m\u001b[0m \u001b[1m0s\u001b[0m 3ms/step - accuracy: 0.4930 - loss: 0.6934\n",
      "Epoch 6/10\n",
      "\u001b[1m32/32\u001b[0m \u001b[32m━━━━━━━━━━━━━━━━━━━━\u001b[0m\u001b[37m\u001b[0m \u001b[1m0s\u001b[0m 3ms/step - accuracy: 0.5010 - loss: 0.6932\n",
      "Epoch 7/10\n",
      "\u001b[1m32/32\u001b[0m \u001b[32m━━━━━━━━━━━━━━━━━━━━\u001b[0m\u001b[37m\u001b[0m \u001b[1m0s\u001b[0m 3ms/step - accuracy: 0.5310 - loss: 0.6923\n",
      "Epoch 8/10\n",
      "\u001b[1m32/32\u001b[0m \u001b[32m━━━━━━━━━━━━━━━━━━━━\u001b[0m\u001b[37m\u001b[0m \u001b[1m0s\u001b[0m 3ms/step - accuracy: 0.5790 - loss: 0.6885\n",
      "Epoch 9/10\n",
      "\u001b[1m32/32\u001b[0m \u001b[32m━━━━━━━━━━━━━━━━━━━━\u001b[0m\u001b[37m\u001b[0m \u001b[1m0s\u001b[0m 3ms/step - accuracy: 0.5650 - loss: 0.6939\n",
      "Epoch 10/10\n",
      "\u001b[1m32/32\u001b[0m \u001b[32m━━━━━━━━━━━━━━━━━━━━\u001b[0m\u001b[37m\u001b[0m \u001b[1m0s\u001b[0m 3ms/step - accuracy: 0.5080 - loss: 0.6880\n"
     ]
    }
   ],
   "source": [
    "# Train the adversarial detector model for 3 epochs.\n",
    "# Since the goal is to distinguish between clean and adversarial inputs,\n",
    "# a few epochs (e.g., 3) are typically sufficient to learn this binary classification task.\n",
    "history = detector_model.fit(x_train_detector, y_train_detector, epochs=10)"
   ]
  },
  {
   "cell_type": "code",
   "execution_count": 27,
   "metadata": {
    "id": "-PTDUK7-pdRE"
   },
   "outputs": [
    {
     "data": {
      "text/html": [
       "<pre style=\"white-space:pre;overflow-x:auto;line-height:normal;font-family:Menlo,'DejaVu Sans Mono',consolas,'Courier New',monospace\"><span style=\"font-weight: bold\">Model: \"sequential_1\"</span>\n",
       "</pre>\n"
      ],
      "text/plain": [
       "\u001b[1mModel: \"sequential_1\"\u001b[0m\n"
      ]
     },
     "metadata": {},
     "output_type": "display_data"
    },
    {
     "data": {
      "text/html": [
       "<pre style=\"white-space:pre;overflow-x:auto;line-height:normal;font-family:Menlo,'DejaVu Sans Mono',consolas,'Courier New',monospace\">┏━━━━━━━━━━━━━━━━━━━━━━━━━━━━━━━━━┳━━━━━━━━━━━━━━━━━━━━━━━━┳━━━━━━━━━━━━━━━┓\n",
       "┃<span style=\"font-weight: bold\"> Layer (type)                    </span>┃<span style=\"font-weight: bold\"> Output Shape           </span>┃<span style=\"font-weight: bold\">       Param # </span>┃\n",
       "┡━━━━━━━━━━━━━━━━━━━━━━━━━━━━━━━━━╇━━━━━━━━━━━━━━━━━━━━━━━━╇━━━━━━━━━━━━━━━┩\n",
       "│ conv2d_3 (<span style=\"color: #0087ff; text-decoration-color: #0087ff\">Conv2D</span>)               │ (<span style=\"color: #00d7ff; text-decoration-color: #00d7ff\">None</span>, <span style=\"color: #00af00; text-decoration-color: #00af00\">26</span>, <span style=\"color: #00af00; text-decoration-color: #00af00\">26</span>, <span style=\"color: #00af00; text-decoration-color: #00af00\">32</span>)     │           <span style=\"color: #00af00; text-decoration-color: #00af00\">320</span> │\n",
       "├─────────────────────────────────┼────────────────────────┼───────────────┤\n",
       "│ max_pooling2d_3 (<span style=\"color: #0087ff; text-decoration-color: #0087ff\">MaxPooling2D</span>)  │ (<span style=\"color: #00d7ff; text-decoration-color: #00d7ff\">None</span>, <span style=\"color: #00af00; text-decoration-color: #00af00\">13</span>, <span style=\"color: #00af00; text-decoration-color: #00af00\">13</span>, <span style=\"color: #00af00; text-decoration-color: #00af00\">32</span>)     │             <span style=\"color: #00af00; text-decoration-color: #00af00\">0</span> │\n",
       "├─────────────────────────────────┼────────────────────────┼───────────────┤\n",
       "│ conv2d_4 (<span style=\"color: #0087ff; text-decoration-color: #0087ff\">Conv2D</span>)               │ (<span style=\"color: #00d7ff; text-decoration-color: #00d7ff\">None</span>, <span style=\"color: #00af00; text-decoration-color: #00af00\">11</span>, <span style=\"color: #00af00; text-decoration-color: #00af00\">11</span>, <span style=\"color: #00af00; text-decoration-color: #00af00\">64</span>)     │        <span style=\"color: #00af00; text-decoration-color: #00af00\">18,496</span> │\n",
       "├─────────────────────────────────┼────────────────────────┼───────────────┤\n",
       "│ max_pooling2d_4 (<span style=\"color: #0087ff; text-decoration-color: #0087ff\">MaxPooling2D</span>)  │ (<span style=\"color: #00d7ff; text-decoration-color: #00d7ff\">None</span>, <span style=\"color: #00af00; text-decoration-color: #00af00\">5</span>, <span style=\"color: #00af00; text-decoration-color: #00af00\">5</span>, <span style=\"color: #00af00; text-decoration-color: #00af00\">64</span>)       │             <span style=\"color: #00af00; text-decoration-color: #00af00\">0</span> │\n",
       "├─────────────────────────────────┼────────────────────────┼───────────────┤\n",
       "│ conv2d_5 (<span style=\"color: #0087ff; text-decoration-color: #0087ff\">Conv2D</span>)               │ (<span style=\"color: #00d7ff; text-decoration-color: #00d7ff\">None</span>, <span style=\"color: #00af00; text-decoration-color: #00af00\">3</span>, <span style=\"color: #00af00; text-decoration-color: #00af00\">3</span>, <span style=\"color: #00af00; text-decoration-color: #00af00\">128</span>)      │        <span style=\"color: #00af00; text-decoration-color: #00af00\">73,856</span> │\n",
       "├─────────────────────────────────┼────────────────────────┼───────────────┤\n",
       "│ max_pooling2d_5 (<span style=\"color: #0087ff; text-decoration-color: #0087ff\">MaxPooling2D</span>)  │ (<span style=\"color: #00d7ff; text-decoration-color: #00d7ff\">None</span>, <span style=\"color: #00af00; text-decoration-color: #00af00\">1</span>, <span style=\"color: #00af00; text-decoration-color: #00af00\">1</span>, <span style=\"color: #00af00; text-decoration-color: #00af00\">128</span>)      │             <span style=\"color: #00af00; text-decoration-color: #00af00\">0</span> │\n",
       "├─────────────────────────────────┼────────────────────────┼───────────────┤\n",
       "│ flatten_1 (<span style=\"color: #0087ff; text-decoration-color: #0087ff\">Flatten</span>)             │ (<span style=\"color: #00d7ff; text-decoration-color: #00d7ff\">None</span>, <span style=\"color: #00af00; text-decoration-color: #00af00\">128</span>)            │             <span style=\"color: #00af00; text-decoration-color: #00af00\">0</span> │\n",
       "├─────────────────────────────────┼────────────────────────┼───────────────┤\n",
       "│ dense_2 (<span style=\"color: #0087ff; text-decoration-color: #0087ff\">Dense</span>)                 │ (<span style=\"color: #00d7ff; text-decoration-color: #00d7ff\">None</span>, <span style=\"color: #00af00; text-decoration-color: #00af00\">128</span>)            │        <span style=\"color: #00af00; text-decoration-color: #00af00\">16,512</span> │\n",
       "├─────────────────────────────────┼────────────────────────┼───────────────┤\n",
       "│ dropout_1 (<span style=\"color: #0087ff; text-decoration-color: #0087ff\">Dropout</span>)             │ (<span style=\"color: #00d7ff; text-decoration-color: #00d7ff\">None</span>, <span style=\"color: #00af00; text-decoration-color: #00af00\">128</span>)            │             <span style=\"color: #00af00; text-decoration-color: #00af00\">0</span> │\n",
       "├─────────────────────────────────┼────────────────────────┼───────────────┤\n",
       "│ dense_3 (<span style=\"color: #0087ff; text-decoration-color: #0087ff\">Dense</span>)                 │ (<span style=\"color: #00d7ff; text-decoration-color: #00d7ff\">None</span>, <span style=\"color: #00af00; text-decoration-color: #00af00\">2</span>)              │           <span style=\"color: #00af00; text-decoration-color: #00af00\">258</span> │\n",
       "└─────────────────────────────────┴────────────────────────┴───────────────┘\n",
       "</pre>\n"
      ],
      "text/plain": [
       "┏━━━━━━━━━━━━━━━━━━━━━━━━━━━━━━━━━┳━━━━━━━━━━━━━━━━━━━━━━━━┳━━━━━━━━━━━━━━━┓\n",
       "┃\u001b[1m \u001b[0m\u001b[1mLayer (type)                   \u001b[0m\u001b[1m \u001b[0m┃\u001b[1m \u001b[0m\u001b[1mOutput Shape          \u001b[0m\u001b[1m \u001b[0m┃\u001b[1m \u001b[0m\u001b[1m      Param #\u001b[0m\u001b[1m \u001b[0m┃\n",
       "┡━━━━━━━━━━━━━━━━━━━━━━━━━━━━━━━━━╇━━━━━━━━━━━━━━━━━━━━━━━━╇━━━━━━━━━━━━━━━┩\n",
       "│ conv2d_3 (\u001b[38;5;33mConv2D\u001b[0m)               │ (\u001b[38;5;45mNone\u001b[0m, \u001b[38;5;34m26\u001b[0m, \u001b[38;5;34m26\u001b[0m, \u001b[38;5;34m32\u001b[0m)     │           \u001b[38;5;34m320\u001b[0m │\n",
       "├─────────────────────────────────┼────────────────────────┼───────────────┤\n",
       "│ max_pooling2d_3 (\u001b[38;5;33mMaxPooling2D\u001b[0m)  │ (\u001b[38;5;45mNone\u001b[0m, \u001b[38;5;34m13\u001b[0m, \u001b[38;5;34m13\u001b[0m, \u001b[38;5;34m32\u001b[0m)     │             \u001b[38;5;34m0\u001b[0m │\n",
       "├─────────────────────────────────┼────────────────────────┼───────────────┤\n",
       "│ conv2d_4 (\u001b[38;5;33mConv2D\u001b[0m)               │ (\u001b[38;5;45mNone\u001b[0m, \u001b[38;5;34m11\u001b[0m, \u001b[38;5;34m11\u001b[0m, \u001b[38;5;34m64\u001b[0m)     │        \u001b[38;5;34m18,496\u001b[0m │\n",
       "├─────────────────────────────────┼────────────────────────┼───────────────┤\n",
       "│ max_pooling2d_4 (\u001b[38;5;33mMaxPooling2D\u001b[0m)  │ (\u001b[38;5;45mNone\u001b[0m, \u001b[38;5;34m5\u001b[0m, \u001b[38;5;34m5\u001b[0m, \u001b[38;5;34m64\u001b[0m)       │             \u001b[38;5;34m0\u001b[0m │\n",
       "├─────────────────────────────────┼────────────────────────┼───────────────┤\n",
       "│ conv2d_5 (\u001b[38;5;33mConv2D\u001b[0m)               │ (\u001b[38;5;45mNone\u001b[0m, \u001b[38;5;34m3\u001b[0m, \u001b[38;5;34m3\u001b[0m, \u001b[38;5;34m128\u001b[0m)      │        \u001b[38;5;34m73,856\u001b[0m │\n",
       "├─────────────────────────────────┼────────────────────────┼───────────────┤\n",
       "│ max_pooling2d_5 (\u001b[38;5;33mMaxPooling2D\u001b[0m)  │ (\u001b[38;5;45mNone\u001b[0m, \u001b[38;5;34m1\u001b[0m, \u001b[38;5;34m1\u001b[0m, \u001b[38;5;34m128\u001b[0m)      │             \u001b[38;5;34m0\u001b[0m │\n",
       "├─────────────────────────────────┼────────────────────────┼───────────────┤\n",
       "│ flatten_1 (\u001b[38;5;33mFlatten\u001b[0m)             │ (\u001b[38;5;45mNone\u001b[0m, \u001b[38;5;34m128\u001b[0m)            │             \u001b[38;5;34m0\u001b[0m │\n",
       "├─────────────────────────────────┼────────────────────────┼───────────────┤\n",
       "│ dense_2 (\u001b[38;5;33mDense\u001b[0m)                 │ (\u001b[38;5;45mNone\u001b[0m, \u001b[38;5;34m128\u001b[0m)            │        \u001b[38;5;34m16,512\u001b[0m │\n",
       "├─────────────────────────────────┼────────────────────────┼───────────────┤\n",
       "│ dropout_1 (\u001b[38;5;33mDropout\u001b[0m)             │ (\u001b[38;5;45mNone\u001b[0m, \u001b[38;5;34m128\u001b[0m)            │             \u001b[38;5;34m0\u001b[0m │\n",
       "├─────────────────────────────────┼────────────────────────┼───────────────┤\n",
       "│ dense_3 (\u001b[38;5;33mDense\u001b[0m)                 │ (\u001b[38;5;45mNone\u001b[0m, \u001b[38;5;34m2\u001b[0m)              │           \u001b[38;5;34m258\u001b[0m │\n",
       "└─────────────────────────────────┴────────────────────────┴───────────────┘\n"
      ]
     },
     "metadata": {},
     "output_type": "display_data"
    },
    {
     "data": {
      "text/html": [
       "<pre style=\"white-space:pre;overflow-x:auto;line-height:normal;font-family:Menlo,'DejaVu Sans Mono',consolas,'Courier New',monospace\"><span style=\"font-weight: bold\"> Total params: </span><span style=\"color: #00af00; text-decoration-color: #00af00\">328,328</span> (1.25 MB)\n",
       "</pre>\n"
      ],
      "text/plain": [
       "\u001b[1m Total params: \u001b[0m\u001b[38;5;34m328,328\u001b[0m (1.25 MB)\n"
      ]
     },
     "metadata": {},
     "output_type": "display_data"
    },
    {
     "data": {
      "text/html": [
       "<pre style=\"white-space:pre;overflow-x:auto;line-height:normal;font-family:Menlo,'DejaVu Sans Mono',consolas,'Courier New',monospace\"><span style=\"font-weight: bold\"> Trainable params: </span><span style=\"color: #00af00; text-decoration-color: #00af00\">109,442</span> (427.51 KB)\n",
       "</pre>\n"
      ],
      "text/plain": [
       "\u001b[1m Trainable params: \u001b[0m\u001b[38;5;34m109,442\u001b[0m (427.51 KB)\n"
      ]
     },
     "metadata": {},
     "output_type": "display_data"
    },
    {
     "data": {
      "text/html": [
       "<pre style=\"white-space:pre;overflow-x:auto;line-height:normal;font-family:Menlo,'DejaVu Sans Mono',consolas,'Courier New',monospace\"><span style=\"font-weight: bold\"> Non-trainable params: </span><span style=\"color: #00af00; text-decoration-color: #00af00\">0</span> (0.00 B)\n",
       "</pre>\n"
      ],
      "text/plain": [
       "\u001b[1m Non-trainable params: \u001b[0m\u001b[38;5;34m0\u001b[0m (0.00 B)\n"
      ]
     },
     "metadata": {},
     "output_type": "display_data"
    },
    {
     "data": {
      "text/html": [
       "<pre style=\"white-space:pre;overflow-x:auto;line-height:normal;font-family:Menlo,'DejaVu Sans Mono',consolas,'Courier New',monospace\"><span style=\"font-weight: bold\"> Optimizer params: </span><span style=\"color: #00af00; text-decoration-color: #00af00\">218,886</span> (855.03 KB)\n",
       "</pre>\n"
      ],
      "text/plain": [
       "\u001b[1m Optimizer params: \u001b[0m\u001b[38;5;34m218,886\u001b[0m (855.03 KB)\n"
      ]
     },
     "metadata": {},
     "output_type": "display_data"
    }
   ],
   "source": [
    "# Define path to save/load the detector model\n",
    "detector_model_path = './SimBA_detector_model_mnist10.keras'\n",
    "detector_model.save(detector_model_path)\n",
    "\n",
    "# Load the pre-trained detector model from the specified path\n",
    "# detector_model = tf.keras.models.load_model(path)\n",
    "\n",
    "# Display the model architecture to make sure the models has been loaded successfully.\n",
    "detector_model.summary()"
   ]
  },
  {
   "cell_type": "markdown",
   "metadata": {
    "id": "n_5EtFPiqNH0"
   },
   "source": [
    "## Prepare test samples for the detector model"
   ]
  },
  {
   "cell_type": "code",
   "execution_count": 28,
   "metadata": {
    "id": "7BfBeKvnqM3O"
   },
   "outputs": [],
   "source": [
    "# Get the number of original test samples\n",
    "nb_test = x_test.shape[0]\n",
    "\n",
    "# Combine clean and adversarial test images into one array\n",
    "x_test_detector = np.concatenate((x_test, x_test_adv), axis=0)\n",
    "\n",
    "# Create corresponding labels: [1, 0] for clean, [0, 1] for adversarial\n",
    "y_test_detector = np.concatenate((np.array([[1, 0]] * nb_test),\n",
    "                                  np.array([[0, 1]] * nb_test)), axis=0)"
   ]
  },
  {
   "cell_type": "markdown",
   "metadata": {
    "id": "lV8-wS6ka9Mq"
   },
   "source": [
    "### Evaluat the result"
   ]
  },
  {
   "cell_type": "code",
   "execution_count": 29,
   "metadata": {
    "id": "t_aPR04zbBie"
   },
   "outputs": [
    {
     "name": "stdout",
     "output_type": "stream",
     "text": [
      "\u001b[1m29/32\u001b[0m \u001b[32m━━━━━━━━━━━━━━━━━━\u001b[0m\u001b[37m━━\u001b[0m \u001b[1m0s\u001b[0m 2ms/step - accuracy: 0.8552 - loss: 0.6654   "
     ]
    },
    {
     "name": "stderr",
     "output_type": "stream",
     "text": [
      "2025-08-26 10:18:22.300796: I external/local_xla/xla/service/gpu/autotuning/conv_algorithm_picker.cc:557] Omitted potentially buggy algorithm eng14{k25=0} for conv (f32[8,32,26,26]{3,2,1,0}, u8[0]{0}) custom-call(f32[8,1,28,28]{3,2,1,0}, f32[32,1,3,3]{3,2,1,0}, f32[32]{0}), window={size=3x3}, dim_labels=bf01_oi01->bf01, custom_call_target=\"__cudnn$convBiasActivationForward\", backend_config={\"cudnn_conv_backend_config\":{\"activation_mode\":\"kRelu\",\"conv_result_scale\":1,\"leakyrelu_alpha\":0,\"side_input_scale\":0},\"force_earliest_schedule\":false,\"operation_queue_id\":\"0\",\"wait_on_operation_queues\":[]}\n",
      "2025-08-26 10:18:22.311726: I external/local_xla/xla/service/gpu/autotuning/conv_algorithm_picker.cc:557] Omitted potentially buggy algorithm eng14{k25=0} for conv (f32[8,64,11,11]{3,2,1,0}, u8[0]{0}) custom-call(f32[8,32,13,13]{3,2,1,0}, f32[64,32,3,3]{3,2,1,0}, f32[64]{0}), window={size=3x3}, dim_labels=bf01_oi01->bf01, custom_call_target=\"__cudnn$convBiasActivationForward\", backend_config={\"cudnn_conv_backend_config\":{\"activation_mode\":\"kRelu\",\"conv_result_scale\":1,\"leakyrelu_alpha\":0,\"side_input_scale\":0},\"force_earliest_schedule\":false,\"operation_queue_id\":\"0\",\"wait_on_operation_queues\":[]}\n",
      "2025-08-26 10:18:22.342161: I external/local_xla/xla/service/gpu/autotuning/conv_algorithm_picker.cc:557] Omitted potentially buggy algorithm eng14{k25=0} for conv (f32[8,128,3,3]{3,2,1,0}, u8[0]{0}) custom-call(f32[8,64,5,5]{3,2,1,0}, f32[128,64,3,3]{3,2,1,0}, f32[128]{0}), window={size=3x3}, dim_labels=bf01_oi01->bf01, custom_call_target=\"__cudnn$convBiasActivationForward\", backend_config={\"cudnn_conv_backend_config\":{\"activation_mode\":\"kRelu\",\"conv_result_scale\":1,\"leakyrelu_alpha\":0,\"side_input_scale\":0},\"force_earliest_schedule\":false,\"operation_queue_id\":\"0\",\"wait_on_operation_queues\":[]}\n"
     ]
    },
    {
     "name": "stdout",
     "output_type": "stream",
     "text": [
      "\u001b[1m32/32\u001b[0m \u001b[32m━━━━━━━━━━━━━━━━━━━━\u001b[0m\u001b[37m\u001b[0m \u001b[1m1s\u001b[0m 17ms/step - accuracy: 0.6650 - loss: 0.6704\n",
      "Accuracy on test data: 66.50%\n"
     ]
    }
   ],
   "source": [
    "# --- Evaluate the detector model on combined test data ---\n",
    "\n",
    "# Evaluate the model's performance on clean + adversarial samples\n",
    "loss_test, accuracy_test = detector_model.evaluate(x_test_detector, y_test_detector)\n",
    "\n",
    "# Print the accuracy as a percentage\n",
    "print('Accuracy on test data: {:4.2f}%'.format(accuracy_test * 100))"
   ]
  },
  {
   "cell_type": "markdown",
   "metadata": {
    "id": "jp_JjAtyrAfR"
   },
   "source": [
    "## Wrap detector model for adversarial detection"
   ]
  },
  {
   "cell_type": "code",
   "execution_count": 30,
   "metadata": {
    "id": "YyEy0cZTbF4-"
   },
   "outputs": [],
   "source": [
    "# Wrap the Keras detector model with ART's KerasClassifier\n",
    "detector_classifier = KerasClassifier(clip_values=(0.0, 0.1), model=detector_model, use_logits=False)\n",
    "\n",
    "# Create a BinaryInputDetector using the wrapped classifier\n",
    "detector = BinaryInputDetector(detector_classifier)"
   ]
  },
  {
   "cell_type": "markdown",
   "metadata": {
    "id": "beoKIU-ZrSC1"
   },
   "source": [
    "## Train the BinaryInputDetector"
   ]
  },
  {
   "cell_type": "code",
   "execution_count": 31,
   "metadata": {
    "id": "zNUIjaBdbHa7"
   },
   "outputs": [],
   "source": [
    "## Train the BinaryInputDetector\n",
    "\n",
    "# Train the detector on labeled clean and adversarial training data\n",
    "detector.fit(x_train_detector, y_train_detector, nb_epochs=3, batch_size=32)"
   ]
  },
  {
   "cell_type": "markdown",
   "metadata": {
    "id": "hAHnl804bLT-"
   },
   "source": [
    "## Evaluating the detector on adversarial data\n"
   ]
  },
  {
   "cell_type": "code",
   "execution_count": 34,
   "metadata": {
    "colab": {
     "base_uri": "https://localhost:8080/"
    },
    "executionInfo": {
     "elapsed": 277,
     "status": "ok",
     "timestamp": 1702326648930,
     "user": {
      "displayName": "Mujtaba Nazari",
      "userId": "16194551095817193214"
     },
     "user_tz": 360
    },
    "id": "8VyHCQeDbKH1",
    "outputId": "7db404f7-1a6e-4ac3-e8dc-d4cc89ad0570"
   },
   "outputs": [
    {
     "name": "stdout",
     "output_type": "stream",
     "text": [
      "Adversarial test data (first 500 images):\n",
      "Flagged: 177\n",
      "Not flagged: 323\n"
     ]
    }
   ],
   "source": [
    "# Apply the detector to the adversarial test data\n",
    "_, is_adversarial = detector.detect(x_test_adv)\n",
    "\n",
    "# Count how many adversarial samples were flagged\n",
    "flag_adv = np.sum(is_adversarial)\n",
    "\n",
    "# Display detection results\n",
    "print(\"Adversarial test data (first 500 images):\")\n",
    "print(\"Flagged: {}\".format(flag_adv))\n",
    "print(\"Not flagged: {}\".format(500 - flag_adv))"
   ]
  },
  {
   "cell_type": "markdown",
   "metadata": {
    "id": "5E6LdXN3bSes"
   },
   "source": [
    "## Evaluating the detector on clean (non-adversarial) data"
   ]
  },
  {
   "cell_type": "code",
   "execution_count": 35,
   "metadata": {
    "colab": {
     "base_uri": "https://localhost:8080/"
    },
    "executionInfo": {
     "elapsed": 133,
     "status": "ok",
     "timestamp": 1702326651456,
     "user": {
      "displayName": "Mujtaba Nazari",
      "userId": "16194551095817193214"
     },
     "user_tz": 360
    },
    "id": "KBUOjQyPbURC",
    "outputId": "8965630a-5988-46ac-a0aa-c3fb26ec3ef9"
   },
   "outputs": [
    {
     "name": "stdout",
     "output_type": "stream",
     "text": [
      "Original test data (first 500 images):\n",
      "Flagged: 8\n",
      "Not flagged: 492\n"
     ]
    }
   ],
   "source": [
    "_, is_adversarial = detector.detect(x_test)\n",
    "flag_original = np.sum(is_adversarial)\n",
    "\n",
    "print(\"Original test data (first 500 images):\")\n",
    "print(\"Flagged: {}\".format(flag_original))\n",
    "print(\"Not flagged: {}\".format(500 - flag_original))"
   ]
  },
  {
   "cell_type": "markdown",
   "metadata": {
    "id": "b2_g7a8TbW7B"
   },
   "source": [
    "## Evaluate the detector across different attack strengths (eps values)\n"
   ]
  },
  {
   "cell_type": "code",
   "execution_count": 37,
   "metadata": {
    "id": "f0NxBzZmbYms"
   },
   "outputs": [],
   "source": [
    "# Note: Detector was trained with adversarial samples generated using eps = 0.2\n",
    "\n",
    "eps_range = [0.01, 0.02, 0.03, 0.04, 0.05, 0.1, 0.2, 0.3, 0.4, 0.5, 0.6, 0.7, 0.8, 0.9]\n",
    "nb_flag_adv = []      # Number of adversarial examples flagged by the detector\n",
    "nb_missclass = []     # Number of adversarial examples that fooled the classifier\n",
    "\n",
    "for eps in eps_range:\n",
    "    # Update simba attack with current epsilon\n",
    "    attack_simba.set_params(**{'epsilon': eps})\n",
    "\n",
    "    # Generate adversarial examples for current eps\n",
    "    x_test_adv = attack_simba.generate(x_test[:100])\n",
    "\n",
    "    # Count how many were flagged by the detector\n",
    "    nb_flag_adv.append(np.sum(detector.detect(x_test_adv)[1]))\n",
    "\n",
    "    # Count how many were misclassified by the classifier\n",
    "    nb_missclass.append(\n",
    "        np.sum(np.argmax(classifier.predict(x_test_adv), axis=1) != np.argmax(y_test[:100], axis=1))\n",
    "    )\n",
    "\n",
    "# Add clean data evaluation (eps=0) to the results\n",
    "eps_range = [0] + eps_range\n",
    "nb_flag_adv = [flag_original] + nb_flag_adv  # flag_original from clean data detection\n",
    "nb_missclass = [2] + nb_missclass            # 2 misclassifications in clean test subset"
   ]
  },
  {
   "cell_type": "markdown",
   "metadata": {
    "id": "sYBkv-00AYd_"
   },
   "source": [
    "## Plot detector performance vs. classifier errors for varying attack strengths"
   ]
  },
  {
   "cell_type": "code",
   "execution_count": 38,
   "metadata": {
    "colab": {
     "base_uri": "https://localhost:8080/",
     "height": 449
    },
    "executionInfo": {
     "elapsed": 384,
     "status": "ok",
     "timestamp": 1702326775804,
     "user": {
      "displayName": "Mujtaba Nazari",
      "userId": "16194551095817193214"
     },
     "user_tz": 360
    },
    "id": "QNQQVAJHbald",
    "outputId": "cb2b7a29-edca-461c-cb44-4760012661dc"
   },
   "outputs": [
    {
     "data": {
      "image/png": "[encoded data removed]",
      "text/plain": [
       "<Figure size 640x480 with 1 Axes>"
      ]
     },
     "metadata": {},
     "output_type": "display_data"
    }
   ],
   "source": [
    "fig, ax = plt.subplots()\n",
    "\n",
    "# Plot number of adversarial samples flagged by the detector\n",
    "ax.plot(np.array(eps_range)[:10], np.array(nb_flag_adv)[:10], 'b--', label='Detector flags')\n",
    "\n",
    "# Plot number of adversarial samples misclassified by the classifier\n",
    "ax.plot(np.array(eps_range)[:10], np.array(nb_missclass)[:10], 'r--', label='Classifier errors')\n",
    "\n",
    "# Customize legend\n",
    "legend = ax.legend(loc='center right', shadow=True, fontsize='large')\n",
    "legend.get_frame().set_facecolor('#00FFCC')\n",
    "\n",
    "# Add axis labels\n",
    "plt.xlabel('Attack strength (learning rate)')\n",
    "plt.ylabel('Per 100 adversarial samples')\n",
    "\n",
    "# Display the plot\n",
    "plt.show()"
   ]
  },
  {
   "cell_type": "markdown",
   "metadata": {
    "id": "6s-ZP9HSB0R5"
   },
   "source": [
    "## **Summary**\n",
    "\n",
    "\n",
    "#### Simple Black-box Adversarial Attack (SimBA) and Binary Input Detector Using MNIST-10\n",
    "\n",
    "This notebook demonstrates the implementation of the SimBA attack using the Adversarial Robustness Toolbox (ART) against deep learning models trained on the MNIST-10 dataset. The tasks covered include:\n",
    "\n",
    "1. **Load the Required Libraries:** Import necessary Python libraries and modules, including TensorFlow/Keras and ART.\n",
    "2. **Load the Dataset and Inspect the Data:** Load and visualize the MNIST-10 dataset of handwritten digits (0-9).\n",
    "3. **Create a Deep Learning Model:** Construct a CNN to classify MNIST-10 digits, including convolutional, pooling, and fully connected layers.\n",
    "4. **Train and Evaluate the Model:** Train the CNN on MNIST-10 and evaluate its baseline accuracy on test data.\n",
    "5. **Implement SimBA Attack Using ART:** Use ART to perform the SimBA attack, which perturbs images by flipping pixel signs based on model queries. SimBA is notable for its simplicity and effectiveness in black-box settings.\n",
    "6. **Create Adversarial Samples Using SimBA:** Generate adversarial examples from the test images using SimBA and visually inspect them.\n",
    "7. **Evaluate Against Adversarial Samples:** Test the model's robustness by evaluating its accuracy on the adversarial samples.\n",
    "8. **Create a Detector Model:** Develop a binary classifier to detect adversarial inputs by differentiating between original and adversarial images.\n",
    "9. **Train and Evaluate the Detector:** Train the detector using a labeled dataset of original and adversarial samples, and evaluate its accuracy in identifying adversarial attacks.\n",
    "\n",
    "This summary highlights the process and key tasks involved in implementing the SimBA attack and developing a binary input detector using the MNIST-10 dataset, illustrating the importance of adversarial defenses in machine learning."
   ]
  }
 ],
 "metadata": {
  "colab": {
   "provenance": []
  },
  "kernelspec": {
   "display_name": "sec-ai",
   "language": "python",
   "name": "python3"
  },
  "language_info": {
   "codemirror_mode": {
    "name": "ipython",
    "version": 3
   },
   "file_extension": ".py",
   "mimetype": "text/x-python",
   "name": "python",
   "nbconvert_exporter": "python",
   "pygments_lexer": "ipython3",
   "version": "3.11.13"
  }
 },
 "nbformat": 4,
 "nbformat_minor": 0
}
